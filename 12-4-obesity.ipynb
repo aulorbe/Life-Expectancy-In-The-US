{
 "cells": [
  {
   "cell_type": "code",
   "execution_count": 165,
   "metadata": {},
   "outputs": [],
   "source": [
    "# year: 2013\n",
    "from bs4 import BeautifulSoup\n",
    "import requests"
   ]
  },
  {
   "cell_type": "code",
   "execution_count": 166,
   "metadata": {},
   "outputs": [],
   "source": [
    "html_page = requests.get('http://www.ncsl.org/research/health/obesity-statistics-in-the-united-states.aspx') \n",
    "soup = BeautifulSoup(html_page.content, 'html.parser')\n"
   ]
  },
  {
   "cell_type": "code",
   "execution_count": 173,
   "metadata": {},
   "outputs": [],
   "source": [
    "list_states_rates = soup.select('td', limit=104 )\n",
    "\n",
    "just_states = []\n",
    "for state in range(0,len(list_states_rates),2):\n",
    "    just_states.append(list_states_rates[state].text)\n",
    "\n",
    "just_rates = []\n",
    "for rate in range(1,len(list_states_rates),2):\n",
    "    just_rates.append(list_states_rates[rate].text)\n",
    "    \n",
    "\n",
    "together = list(zip(just_states,just_rates))\n"
   ]
  },
  {
   "cell_type": "code",
   "execution_count": 174,
   "metadata": {},
   "outputs": [],
   "source": [
    "# getting rid of '\\xa0' in the second-to-last index position of the 'together' list\n",
    "\n",
    "first_part = together[:-2]\n",
    "second_part = together[-1:]\n",
    "final_list = first_part + second_part"
   ]
  },
  {
   "cell_type": "code",
   "execution_count": 175,
   "metadata": {},
   "outputs": [
    {
     "data": {
      "text/plain": [
       "[('Alabama', '32.4'),\n",
       " ('Missouri', '30.4'),\n",
       " ('Alaska', '28.4'),\n",
       " ('Montana', '24.6'),\n",
       " ('Arizona', '26.8'),\n",
       " ('Nebraska', '29.6'),\n",
       " ('Arkansas', '34.6'),\n",
       " ('Nevada', '26.2'),\n",
       " ('California', '24.1'),\n",
       " ('New Hampshire', '26.7'),\n",
       " ('Colorado', '21.3'),\n",
       " ('New Jersey', '26.3'),\n",
       " ('Connecticut', '25.0'),\n",
       " ('New Mexico', '26.4'),\n",
       " ('Delaware', '31.1'),\n",
       " ('New York', '25.4'),\n",
       " ('District of Columbia', '22.9'),\n",
       " ('North Carolina', '29.4'),\n",
       " ('Florida', '26.4'),\n",
       " ('North Dakota', '31.0'),\n",
       " ('Georgia', '30.3'),\n",
       " ('Ohio', '30.4'),\n",
       " ('Hawaii', '21.8'),\n",
       " ('Oklahoma', '32.5'),\n",
       " ('Idaho', '29.6'),\n",
       " ('Oregon', '26.5'),\n",
       " ('Illinois', '29.4'),\n",
       " ('Pennsylvania', '30.0'),\n",
       " ('Indiana', '31.8'),\n",
       " ('Rhode Island', '27.3'),\n",
       " ('Iowa', '31.3'),\n",
       " ('South Carolina', '31.7'),\n",
       " ('Kansas', '30.0'),\n",
       " ('South Dakota', '29.9'),\n",
       " ('Kentucky', '33.2'),\n",
       " ('Tennessee', '33.7'),\n",
       " ('Louisiana', '33.1'),\n",
       " ('Texas', '30.9'),\n",
       " ('Maine', '28.9'),\n",
       " ('Utah', '24.1'),\n",
       " ('Maryland', '28.3'),\n",
       " ('Vermont', '24.7'),\n",
       " ('Massachusetts', '23.6'),\n",
       " ('Virginia', '27.2'),\n",
       " ('Michigan', '31.5'),\n",
       " ('Washington', '27.2'),\n",
       " ('Minnesota', '25.5'),\n",
       " ('West Virginia', '35.1'),\n",
       " ('Mississippi', '35.1'),\n",
       " ('Wisconsin', '29.8'),\n",
       " ('Wyoming', '27.8')]"
      ]
     },
     "execution_count": 175,
     "metadata": {},
     "output_type": "execute_result"
    }
   ],
   "source": [
    "final_list"
   ]
  }
 ],
 "metadata": {
  "kernelspec": {
   "display_name": "Python 3",
   "language": "python",
   "name": "python3"
  },
  "language_info": {
   "codemirror_mode": {
    "name": "ipython",
    "version": 3
   },
   "file_extension": ".py",
   "mimetype": "text/x-python",
   "name": "python",
   "nbconvert_exporter": "python",
   "pygments_lexer": "ipython3",
   "version": "3.6.5"
  }
 },
 "nbformat": 4,
 "nbformat_minor": 2
}
