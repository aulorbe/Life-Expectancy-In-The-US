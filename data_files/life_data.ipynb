{
 "cells": [
  {
   "cell_type": "code",
   "execution_count": 277,
   "metadata": {},
   "outputs": [],
   "source": [
    "from bs4 import BeautifulSoup\n",
    "import requests\n",
    "import re\n",
    "import pandas as pd\n",
    "import seaborn as sns\n",
    "import matplotlib.pyplot as plt"
   ]
  },
  {
   "cell_type": "code",
   "execution_count": 2,
   "metadata": {},
   "outputs": [],
   "source": [
    "html_page = requests.get('https://www.worldlifeexpectancy.com/usa/life-expectancy') \n",
    "soup = BeautifulSoup(html_page.content, 'html.parser')"
   ]
  },
  {
   "cell_type": "code",
   "execution_count": 16,
   "metadata": {},
   "outputs": [
    {
     "name": "stdout",
     "output_type": "stream",
     "text": [
      "<!DOCTYPE html>\n",
      "<html lang=\"en\">\n",
      " <head>\n",
      "  <meta charset=\"utf-8\"/>\n",
      "  <meta content=\"width=device-width, initial-scale=1.0\" name=\"viewport\"/>\n",
      "  <meta content=\"target-densitydpi=device-dpi\" name=\"viewport\"/>\n",
      "  <title>\n",
      "   USA Life Expectancy\n",
      "  </title>\n",
      "  <meta content=\"USA Life Expectancy  with rankings for US States.\" name=\"description\"/>\n",
      "  <meta content=\"Life Expectancy , United States, CDC Data, Census Bureau, Rankings, Chart, compare, Alabama, Alaska, Arizona, Arkansas, California, Colorado, Connecticut, Delaware, District of Columbia, Florida, Georgia, Hawaii, Idaho, Illinois, Indiana, Iowa, Kansas, Kentucky, Louisiana, Maine, Maryland, Massachusetts, Michigan, Minnesota, Mississippi, Missouri, Montana, Nebraska, Nevada, New Hampshire, New Jersey, New Mexico, New York, North Carolina, North Dakota, Ohio, Oklahoma, Oregon, Pennsylvania, Rhode Island, South Carolina, South Dakota, Tennessee, Texas, Utah, Vermont, Virginia, Washington, West Virginia, Wisconsin, Wyoming\" name=\"keywords\"/\n"
     ]
    }
   ],
   "source": [
    "print(soup.prettify()[:1000])"
   ]
  },
  {
   "cell_type": "code",
   "execution_count": 177,
   "metadata": {},
   "outputs": [],
   "source": [
    "states_script = soup.findChildren('script', {\"type\":'text/javascript'})[3]"
   ]
  },
  {
   "cell_type": "code",
   "execution_count": 178,
   "metadata": {},
   "outputs": [
    {
     "data": {
      "text/plain": [
       "<script type=\"text/javascript\">\n",
       "var_categories   = ['Hawaii 1. ','Minnesota 2. ','Connecticut 3. ','California 4. ','Massachusetts 5. ','New York 6. ','Vermont 7. ','New Hampshire 8. ','New Jersey 9. ','Utah 10. ','Colorado 11. ','Wisconsin 12. ','Washington 13. ','Rhode Island 14. ','Nebraska 15. ','Iowa 16. ','Arizona 17. ','North Dakota 18. ','Oregon 19. ','Idaho 20. ','South Dakota 21. ','Florida 22. ','Maine 23. ','Virginia 24. ','Illinois 25. ','Maryland 26. ','Kansas 27. ','Pennsylvania 28. ','Montana 29. ','Texas 30. ','New Mexico 31. ','Delaware 32. ','Wyoming 33. ','Alaska 34. ','Michigan 35. ','Nevada 36. ','North Carolina 37. ','Ohio 38. ','Indiana 39. ','Missouri 40. ','Georgia 41. ','South Carolina 42. ','District of Columbia 43. ','Tennessee 44. ','Kentucky 45. ','Arkansas 46. ','Oklahoma 47. ','Louisiana 48. ','Alabama 49. ','West Virginia 50. ','Mississippi 51. ',];\n",
       "        \n",
       "var_data =  [81.30,81.05,80.82,80.77,80.52,80.48,80.45,80.32,80.28,80.20,80.02,79.98,79.92,79.87,79.84,79.71,79.64,79.55,79.52,79.49,79.47,79.45,79.19,79.01,78.96,78.81,78.73,78.50,78.49,78.45,78.43,78.36,78.34,78.29,78.23,78.05,77.81,77.75,77.61,77.55,77.23,76.95,76.53,76.30,75.97,75.96,75.88,75.71,75.42,75.40,74.96,];    \n",
       "            \n",
       "var_categories_compare   = [ 'United States','Hawaii','Mississippi'];\n",
       "\n",
       "var_data_compare = [ {y:78.86,color:'#4B0082'},\n",
       "                     {y:81.30,color:'#f91e06'},\n",
       "                     {y:74.96,color:'#4B0082'}];\n",
       "                  \n",
       "var_series_name = \"Life Expectancy \";\n",
       "var_data_min = 74.3275;\n",
       "var_data_max = 82.563;\n",
       "var_order_color = \"#af280f\";\n",
       "var_data_label_format = \"{point.y:,.2f}\";\n",
       "\n",
       "\n",
       "$(document).ready(function() {\n",
       "    $.ajax({\n",
       "        url: 'https://www.worldlifeexpectancy.com/js/highcharts/highcharts.js',\n",
       "        dataType: 'script',\n",
       "        cache: true, \n",
       "        success: function() {\n",
       "            setTimeout(loadinit,10);\n",
       "        }\n",
       "    });\n",
       "});\n",
       "</script>"
      ]
     },
     "execution_count": 178,
     "metadata": {},
     "output_type": "execute_result"
    }
   ],
   "source": [
    "states_script"
   ]
  },
  {
   "cell_type": "code",
   "execution_count": 192,
   "metadata": {},
   "outputs": [
    {
     "data": {
      "text/plain": [
       "['Hawaii',\n",
       " 'Minnesota',\n",
       " 'Connecticut',\n",
       " 'California',\n",
       " 'Massachusetts',\n",
       " 'NewYork',\n",
       " 'Vermont',\n",
       " 'NewHampshire',\n",
       " 'NewJersey',\n",
       " 'Utah',\n",
       " 'Colorado',\n",
       " 'Wisconsin',\n",
       " 'Washington',\n",
       " 'RhodeIsland',\n",
       " 'Nebraska',\n",
       " 'Iowa',\n",
       " 'Arizona',\n",
       " 'NorthDakota',\n",
       " 'Oregon',\n",
       " 'Idaho',\n",
       " 'SouthDakota',\n",
       " 'Florida',\n",
       " 'Maine',\n",
       " 'Virginia',\n",
       " 'Illinois',\n",
       " 'Maryland',\n",
       " 'Kansas',\n",
       " 'Pennsylvania',\n",
       " 'Montana',\n",
       " 'Texas',\n",
       " 'NewMexico',\n",
       " 'Delaware',\n",
       " 'Wyoming',\n",
       " 'Alaska',\n",
       " 'Michigan',\n",
       " 'Nevada',\n",
       " 'NorthCarolina',\n",
       " 'Ohio',\n",
       " 'Indiana',\n",
       " 'Missouri',\n",
       " 'Georgia',\n",
       " 'SouthCarolina',\n",
       " 'DistrictofColumbia',\n",
       " 'Tennessee',\n",
       " 'Kentucky',\n",
       " 'Arkansas',\n",
       " 'Oklahoma',\n",
       " 'Louisiana',\n",
       " 'Alabama',\n",
       " 'WestVirginia',\n",
       " 'Mississippi']"
      ]
     },
     "execution_count": 192,
     "metadata": {},
     "output_type": "execute_result"
    }
   ],
   "source": [
    "states = states_script.contents[0][22:860]\n",
    "states_list = states.split(',')\n",
    "all_states = []\n",
    "for i in states_list:\n",
    "    just_states = re.sub('[^a-zA-Z]+', '', i)\n",
    "    all_states.append(just_states)\n",
    "all_states"
   ]
  },
  {
   "cell_type": "code",
   "execution_count": 194,
   "metadata": {},
   "outputs": [
    {
     "data": {
      "text/plain": [
       "[(0, 'Hawaii'),\n",
       " (1, 'Minnesota'),\n",
       " (2, 'Connecticut'),\n",
       " (3, 'California'),\n",
       " (4, 'Massachusetts'),\n",
       " (5, 'NewYork'),\n",
       " (6, 'Vermont'),\n",
       " (7, 'NewHampshire'),\n",
       " (8, 'NewJersey'),\n",
       " (9, 'Utah'),\n",
       " (10, 'Colorado'),\n",
       " (11, 'Wisconsin'),\n",
       " (12, 'Washington'),\n",
       " (13, 'RhodeIsland'),\n",
       " (14, 'Nebraska'),\n",
       " (15, 'Iowa'),\n",
       " (16, 'Arizona'),\n",
       " (17, 'NorthDakota'),\n",
       " (18, 'Oregon'),\n",
       " (19, 'Idaho'),\n",
       " (20, 'SouthDakota'),\n",
       " (21, 'Florida'),\n",
       " (22, 'Maine'),\n",
       " (23, 'Virginia'),\n",
       " (24, 'Illinois'),\n",
       " (25, 'Maryland'),\n",
       " (26, 'Kansas'),\n",
       " (27, 'Pennsylvania'),\n",
       " (28, 'Montana'),\n",
       " (29, 'Texas'),\n",
       " (30, 'NewMexico'),\n",
       " (31, 'Delaware'),\n",
       " (32, 'Wyoming'),\n",
       " (33, 'Alaska'),\n",
       " (34, 'Michigan'),\n",
       " (35, 'Nevada'),\n",
       " (36, 'NorthCarolina'),\n",
       " (37, 'Ohio'),\n",
       " (38, 'Indiana'),\n",
       " (39, 'Missouri'),\n",
       " (40, 'Georgia'),\n",
       " (41, 'SouthCarolina'),\n",
       " (42, 'DistrictofColumbia'),\n",
       " (43, 'Tennessee'),\n",
       " (44, 'Kentucky'),\n",
       " (45, 'Arkansas'),\n",
       " (46, 'Oklahoma'),\n",
       " (47, 'Louisiana'),\n",
       " (48, 'Alabama'),\n",
       " (49, 'WestVirginia'),\n",
       " (50, 'Mississippi')]"
      ]
     },
     "execution_count": 194,
     "metadata": {},
     "output_type": "execute_result"
    }
   ],
   "source": [
    "list(enumerate(all_states))"
   ]
  },
  {
   "cell_type": "code",
   "execution_count": 261,
   "metadata": {},
   "outputs": [
    {
     "data": {
      "text/plain": [
       "[81.3,\n",
       " 81.05,\n",
       " 80.82,\n",
       " 80.77,\n",
       " 80.52,\n",
       " 80.48,\n",
       " 80.45,\n",
       " 80.32,\n",
       " 80.28,\n",
       " 80.2,\n",
       " 80.02,\n",
       " 79.98,\n",
       " 79.92,\n",
       " 79.87,\n",
       " 79.84,\n",
       " 79.71,\n",
       " 79.64,\n",
       " 79.55,\n",
       " 79.52,\n",
       " 79.49,\n",
       " 79.47,\n",
       " 79.45,\n",
       " 79.19,\n",
       " 79.01,\n",
       " 78.96,\n",
       " 78.81,\n",
       " 78.73,\n",
       " 78.5,\n",
       " 78.49,\n",
       " 78.45,\n",
       " 78.43,\n",
       " 78.36,\n",
       " 78.34,\n",
       " 78.29,\n",
       " 78.23,\n",
       " 78.05,\n",
       " 77.81,\n",
       " 77.75,\n",
       " 77.61,\n",
       " 77.55,\n",
       " 77.23,\n",
       " 76.95,\n",
       " 76.53,\n",
       " 76.3,\n",
       " 75.97,\n",
       " 75.96,\n",
       " 75.88,\n",
       " 75.71,\n",
       " 75.42,\n",
       " 75.4,\n",
       " 74.96]"
      ]
     },
     "execution_count": 261,
     "metadata": {},
     "output_type": "execute_result"
    }
   ],
   "source": [
    "ages = states_script.contents[0][887:1192]\n",
    "ages_list = ages.split(',')\n",
    "all_ages = []\n",
    "for age in ages_list:\n",
    "    all_ages.append(float(age))\n",
    "all_ages"
   ]
  },
  {
   "cell_type": "code",
   "execution_count": 260,
   "metadata": {},
   "outputs": [
    {
     "data": {
      "text/plain": [
       "[('Hawaii', 81.3),\n",
       " ('Minnesota', 81.05),\n",
       " ('Connecticut', 80.82),\n",
       " ('California', 80.77),\n",
       " ('Massachusetts', 80.52),\n",
       " ('NewYork', 80.48),\n",
       " ('Vermont', 80.45),\n",
       " ('NewHampshire', 80.32),\n",
       " ('NewJersey', 80.28),\n",
       " ('Utah', 80.2),\n",
       " ('Colorado', 80.02),\n",
       " ('Wisconsin', 79.98),\n",
       " ('Washington', 79.92),\n",
       " ('RhodeIsland', 79.87),\n",
       " ('Nebraska', 79.84),\n",
       " ('Iowa', 79.71),\n",
       " ('Arizona', 79.64),\n",
       " ('NorthDakota', 79.55),\n",
       " ('Oregon', 79.52),\n",
       " ('Idaho', 79.49),\n",
       " ('SouthDakota', 79.47),\n",
       " ('Florida', 79.45),\n",
       " ('Maine', 79.19),\n",
       " ('Virginia', 79.01),\n",
       " ('Illinois', 78.96),\n",
       " ('Maryland', 78.81),\n",
       " ('Kansas', 78.73),\n",
       " ('Pennsylvania', 78.5),\n",
       " ('Montana', 78.49),\n",
       " ('Texas', 78.45),\n",
       " ('NewMexico', 78.43),\n",
       " ('Delaware', 78.36),\n",
       " ('Wyoming', 78.34),\n",
       " ('Alaska', 78.29),\n",
       " ('Michigan', 78.23),\n",
       " ('Nevada', 78.05),\n",
       " ('NorthCarolina', 77.81),\n",
       " ('Ohio', 77.75),\n",
       " ('Indiana', 77.61),\n",
       " ('Missouri', 77.55),\n",
       " ('Georgia', 77.23),\n",
       " ('SouthCarolina', 76.95),\n",
       " ('DistrictofColumbia', 76.53),\n",
       " ('Tennessee', 76.3),\n",
       " ('Kentucky', 75.97),\n",
       " ('Arkansas', 75.96),\n",
       " ('Oklahoma', 75.88),\n",
       " ('Louisiana', 75.71),\n",
       " ('Alabama', 75.42),\n",
       " ('WestVirginia', 75.4),\n",
       " ('Mississippi', 74.96)]"
      ]
     },
     "execution_count": 260,
     "metadata": {},
     "output_type": "execute_result"
    }
   ],
   "source": [
    "list(zip(all_states, all_ages))"
   ]
  },
  {
   "cell_type": "code",
   "execution_count": 262,
   "metadata": {},
   "outputs": [],
   "source": [
    "df = pd.DataFrame()"
   ]
  },
  {
   "cell_type": "code",
   "execution_count": 270,
   "metadata": {},
   "outputs": [],
   "source": [
    "st = pd.Series([all_states, all_ages], ['State', 'Life Expectancy '])"
   ]
  },
  {
   "cell_type": "code",
   "execution_count": 271,
   "metadata": {},
   "outputs": [
    {
     "data": {
      "text/plain": [
       "State               [Hawaii, Minnesota, Connecticut, California, M...\n",
       "Life Expectancy     [81.3, 81.05, 80.82, 80.77, 80.52, 80.48, 80.4...\n",
       "dtype: object"
      ]
     },
     "execution_count": 271,
     "metadata": {},
     "output_type": "execute_result"
    }
   ],
   "source": [
    "st"
   ]
  },
  {
   "cell_type": "code",
   "execution_count": null,
   "metadata": {},
   "outputs": [],
   "source": [
    "df = pd.DataFrame(columns=list(\"ABC\"))\n",
    "df.loc[len(df)] = [1,2,3]"
   ]
  },
  {
   "cell_type": "code",
   "execution_count": 273,
   "metadata": {},
   "outputs": [
    {
     "name": "stderr",
     "output_type": "stream",
     "text": [
      "/Users/roberthillery/anaconda3/lib/python3.6/site-packages/scipy/stats/stats.py:1713: FutureWarning: Using a non-tuple sequence for multidimensional indexing is deprecated; use `arr[tuple(seq)]` instead of `arr[seq]`. In the future this will be interpreted as an array index, `arr[np.array(seq)]`, which will result either in an error or a different result.\n",
      "  return np.add.reduce(sorted[indexer] * weights, axis=axis) / sumval\n"
     ]
    },
    {
     "data": {
      "text/plain": [
       "<matplotlib.axes._subplots.AxesSubplot at 0x1a215a7908>"
      ]
     },
     "execution_count": 273,
     "metadata": {},
     "output_type": "execute_result"
    },
    {
     "data": {
      "image/png": "[encoded data removed]",
      "text/plain": [
       "<Figure size 432x288 with 1 Axes>"
      ]
     },
     "metadata": {},
     "output_type": "display_data"
    }
   ],
   "source": [
    "sns.distplot(all_ages)"
   ]
  },
  {
   "cell_type": "code",
   "execution_count": 276,
   "metadata": {},
   "outputs": [
    {
     "data": {
      "text/plain": [
       "<matplotlib.collections.PathCollection at 0x1a238fd550>"
      ]
     },
     "execution_count": 276,
     "metadata": {},
     "output_type": "execute_result"
    },
    {
     "data": {
      "image/png": "[encoded data removed]",
      "text/plain": [
       "<Figure size 432x288 with 1 Axes>"
      ]
     },
     "metadata": {},
     "output_type": "display_data"
    }
   ],
   "source": [
    "plt.scatter(all_states, all_ages)"
   ]
  },
  {
   "cell_type": "code",
   "execution_count": null,
   "metadata": {},
   "outputs": [],
   "source": []
  }
 ],
 "metadata": {
  "kernelspec": {
   "display_name": "Python 3",
   "language": "python",
   "name": "python3"
  },
  "language_info": {
   "codemirror_mode": {
    "name": "ipython",
    "version": 3
   },
   "file_extension": ".py",
   "mimetype": "text/x-python",
   "name": "python",
   "nbconvert_exporter": "python",
   "pygments_lexer": "ipython3",
   "version": "3.6.5"
  }
 },
 "nbformat": 4,
 "nbformat_minor": 2
}
