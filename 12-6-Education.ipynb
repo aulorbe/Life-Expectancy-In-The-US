{
 "cells": [
  {
   "cell_type": "code",
   "execution_count": 1,
   "metadata": {},
   "outputs": [],
   "source": [
    "import pandas as pd\n",
    "\n",
    "df = pd.read_excel('/Users/flatironschool/Downloads/Education.xls', header=None).dropna()"
   ]
  },
  {
   "cell_type": "code",
   "execution_count": 7,
   "metadata": {},
   "outputs": [
    {
     "data": {
      "text/plain": [
       "Index(['FIPS Code', 'State', 'Area name', '2003 Rural-urban Continuum Code',\n",
       "       '2003 Urban Influence Code', '2013 Rural-urban Continuum Code',\n",
       "       '2013 Urban Influence Code', 'Less than a high school diploma, 1970',\n",
       "       'High school diploma only, 1970', 'Some college (1-3 years), 1970',\n",
       "       'Four years of college or higher, 1970',\n",
       "       'Percent of adults with less than a high school diploma, 1970',\n",
       "       'Percent of adults with a high school diploma only, 1970',\n",
       "       'Percent of adults completing some college (1-3 years), 1970',\n",
       "       'Percent of adults completing four years of college or higher, 1970',\n",
       "       'Less than a high school diploma, 1980',\n",
       "       'High school diploma only, 1980', 'Some college (1-3 years), 1980',\n",
       "       'Four years of college or higher, 1980',\n",
       "       'Percent of adults with less than a high school diploma, 1980',\n",
       "       'Percent of adults with a high school diploma only, 1980',\n",
       "       'Percent of adults completing some college (1-3 years), 1980',\n",
       "       'Percent of adults completing four years of college or higher, 1980',\n",
       "       'Less than a high school diploma, 1990',\n",
       "       'High school diploma only, 1990',\n",
       "       'Some college or associate's degree, 1990',\n",
       "       'Bachelor's degree or higher, 1990',\n",
       "       'Percent of adults with less than a high school diploma, 1990',\n",
       "       'Percent of adults with a high school diploma only, 1990',\n",
       "       'Percent of adults completing some college or associate's degree, 1990',\n",
       "       'Percent of adults with a bachelor's degree or higher, 1990',\n",
       "       'Less than a high school diploma, 2000',\n",
       "       'High school diploma only, 2000',\n",
       "       'Some college or associate's degree, 2000',\n",
       "       'Bachelor's degree or higher, 2000',\n",
       "       'Percent of adults with less than a high school diploma, 2000',\n",
       "       'Percent of adults with a high school diploma only, 2000',\n",
       "       'Percent of adults completing some college or associate's degree, 2000',\n",
       "       'Percent of adults with a bachelor's degree or higher, 2000',\n",
       "       'Less than a high school diploma, 2012-2016',\n",
       "       'High school diploma only, 2012-2016',\n",
       "       'Some college or associate's degree, 2012-2016',\n",
       "       'Bachelor's degree or higher, 2012-2016',\n",
       "       'Percent of adults with less than a high school diploma, 2012-2016',\n",
       "       'Percent of adults with a high school diploma only, 2012-2016',\n",
       "       'Percent of adults completing some college or associate's degree, 2012-2016',\n",
       "       'Percent of adults with a bachelor's degree or higher, 2012-2016'],\n",
       "      dtype='object', name=4)"
      ]
     },
     "execution_count": 7,
     "metadata": {},
     "output_type": "execute_result"
    }
   ],
   "source": [
    "df.columns=df.iloc[0]\n",
    "df[['State', 'Area name', Less than a high school diploma, 2012-2016',\n",
    "       'High school diploma only, 2012-2016',\n",
    "       'Some college or associate's degree, 2012-2016',\n",
    "       'Bachelor's degree or higher, 2012-2016',\n",
    "       'Percent of adults with less than a high school diploma, 2012-2016',\n",
    "       'Percent of adults with a high school diploma only, 2012-2016',\n",
    "       'Percent of adults completing some college or associate's degree, 2012-2016',\n",
    "       'Percent of adults with a bachelor's degree or higher, 2012-2016']]"
   ]
  },
  {
   "cell_type": "code",
   "execution_count": null,
   "metadata": {},
   "outputs": [],
   "source": []
  }
 ],
 "metadata": {
  "kernelspec": {
   "display_name": "Python 3",
   "language": "python",
   "name": "python3"
  },
  "language_info": {
   "codemirror_mode": {
    "name": "ipython",
    "version": 3
   },
   "file_extension": ".py",
   "mimetype": "text/x-python",
   "name": "python",
   "nbconvert_exporter": "python",
   "pygments_lexer": "ipython3",
   "version": "3.6.5"
  }
 },
 "nbformat": 4,
 "nbformat_minor": 2
}
