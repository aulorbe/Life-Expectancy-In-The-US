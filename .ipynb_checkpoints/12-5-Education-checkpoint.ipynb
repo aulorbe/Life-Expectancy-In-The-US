{
 "cells": [
  {
   "cell_type": "code",
   "execution_count": 62,
   "metadata": {},
   "outputs": [],
   "source": [
    "import pandas as pd\n",
    "\n",
    "df = pd.read_excel('/Users/flatironschool/Downloads/Unemployment.xls', header=None).dropna()"
   ]
  },
  {
   "cell_type": "code",
   "execution_count": 63,
   "metadata": {},
   "outputs": [],
   "source": [
    "df.columns=df.iloc[0]"
   ]
  },
  {
   "cell_type": "code",
   "execution_count": 64,
   "metadata": {},
   "outputs": [],
   "source": [
    "column_cleaning = df[['State', 'Area_name', 'Unemployment_rate_2010']]\n",
    "\n",
    "only_wanted_columns = column_cleaning[1:]\n",
    "\n",
    "new = only_wanted_columns.reset_index()"
   ]
  },
  {
   "cell_type": "code",
   "execution_count": 68,
   "metadata": {},
   "outputs": [],
   "source": [
    "just_counties = []\n",
    "for county in new['Area_name']: \n",
    "    just_counties.append(county[:-4])\n",
    "    \n",
    "new['Counties'] = just_counties\n",
    "\n",
    "final = new.drop(columns=['index', 'Area_name'])\n",
    "\n",
    "final\n",
    "\n",
    "final['Counties'].to_csv('counties_list_2', encoding='utf-8')\n",
    "# df.to_csv(file_name, sep='\\t', encoding='utf-8')"
   ]
  },
  {
   "cell_type": "code",
   "execution_count": null,
   "metadata": {},
   "outputs": [],
   "source": []
  }
 ],
 "metadata": {
  "kernelspec": {
   "display_name": "Python 3",
   "language": "python",
   "name": "python3"
  },
  "language_info": {
   "codemirror_mode": {
    "name": "ipython",
    "version": 3
   },
   "file_extension": ".py",
   "mimetype": "text/x-python",
   "name": "python",
   "nbconvert_exporter": "python",
   "pygments_lexer": "ipython3",
   "version": "3.6.5"
  }
 },
 "nbformat": 4,
 "nbformat_minor": 2
}
