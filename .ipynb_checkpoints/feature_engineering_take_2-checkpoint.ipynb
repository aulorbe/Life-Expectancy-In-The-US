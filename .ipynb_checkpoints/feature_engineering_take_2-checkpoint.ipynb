{
 "cells": [
  {
   "cell_type": "markdown",
   "metadata": {},
   "source": [
    "# Feature Engineering"
   ]
  },
  {
   "cell_type": "markdown",
   "metadata": {},
   "source": [
    "## Import libraries"
   ]
  },
  {
   "cell_type": "code",
   "execution_count": 1,
   "metadata": {},
   "outputs": [],
   "source": [
    "import pandas as pd\n",
    "import numpy as np\n",
    "from matplotlib import pyplot as plt\n",
    "from sklearn.linear_model import LinearRegression\n",
    "from sklearn import datasets, linear_model, metrics, preprocessing, pipeline\n",
    "from sklearn.model_selection import train_test_split\n",
    "import statsmodels.api as sm\n",
    "from statsmodels.formula.api import ols"
   ]
  },
  {
   "cell_type": "markdown",
   "metadata": {},
   "source": [
    "## Import Dataframe"
   ]
  },
  {
   "cell_type": "code",
   "execution_count": 2,
   "metadata": {},
   "outputs": [],
   "source": [
    "df = pd.read_csv('csv_files/12_12_DF_log_state_FINAL.csv')"
   ]
  },
  {
   "cell_type": "markdown",
   "metadata": {},
   "source": [
    "### Initial look at dataframe"
   ]
  },
  {
   "cell_type": "code",
   "execution_count": 3,
   "metadata": {},
   "outputs": [
    {
     "data": {
      "text/html": [
       "<div>\n",
       "<style scoped>\n",
       "    .dataframe tbody tr th:only-of-type {\n",
       "        vertical-align: middle;\n",
       "    }\n",
       "\n",
       "    .dataframe tbody tr th {\n",
       "        vertical-align: top;\n",
       "    }\n",
       "\n",
       "    .dataframe thead th {\n",
       "        text-align: right;\n",
       "    }\n",
       "</style>\n",
       "<table border=\"1\" class=\"dataframe\">\n",
       "  <thead>\n",
       "    <tr style=\"text-align: right;\">\n",
       "      <th></th>\n",
       "      <th>Life Expectancy</th>\n",
       "      <th>Percent Smokers</th>\n",
       "      <th>Percent Obese</th>\n",
       "      <th>Unemployment_rate_2010</th>\n",
       "      <th>log_food_stamps</th>\n",
       "      <th>Alaska</th>\n",
       "      <th>Arizona</th>\n",
       "      <th>Arkansas</th>\n",
       "      <th>California</th>\n",
       "      <th>Colorado</th>\n",
       "      <th>...</th>\n",
       "      <th>Tennessee</th>\n",
       "      <th>Texas</th>\n",
       "      <th>Utah</th>\n",
       "      <th>Vermont</th>\n",
       "      <th>Virginia</th>\n",
       "      <th>Washington</th>\n",
       "      <th>West Virginia</th>\n",
       "      <th>Wisconsin</th>\n",
       "      <th>Wyoming</th>\n",
       "      <th>Min Wages Dummies</th>\n",
       "    </tr>\n",
       "  </thead>\n",
       "  <tbody>\n",
       "    <tr>\n",
       "      <th>2978</th>\n",
       "      <td>0.102956</td>\n",
       "      <td>0.306336</td>\n",
       "      <td>-0.751646</td>\n",
       "      <td>-0.877782</td>\n",
       "      <td>-0.773864</td>\n",
       "      <td>0</td>\n",
       "      <td>0</td>\n",
       "      <td>0</td>\n",
       "      <td>0</td>\n",
       "      <td>0</td>\n",
       "      <td>...</td>\n",
       "      <td>0</td>\n",
       "      <td>0</td>\n",
       "      <td>0</td>\n",
       "      <td>0</td>\n",
       "      <td>0</td>\n",
       "      <td>0</td>\n",
       "      <td>0</td>\n",
       "      <td>0</td>\n",
       "      <td>1</td>\n",
       "      <td>0</td>\n",
       "    </tr>\n",
       "    <tr>\n",
       "      <th>2979</th>\n",
       "      <td>2.342667</td>\n",
       "      <td>-2.827030</td>\n",
       "      <td>-4.134520</td>\n",
       "      <td>-0.530616</td>\n",
       "      <td>-0.509604</td>\n",
       "      <td>0</td>\n",
       "      <td>0</td>\n",
       "      <td>0</td>\n",
       "      <td>0</td>\n",
       "      <td>0</td>\n",
       "      <td>...</td>\n",
       "      <td>0</td>\n",
       "      <td>0</td>\n",
       "      <td>0</td>\n",
       "      <td>0</td>\n",
       "      <td>0</td>\n",
       "      <td>0</td>\n",
       "      <td>0</td>\n",
       "      <td>0</td>\n",
       "      <td>1</td>\n",
       "      <td>0</td>\n",
       "    </tr>\n",
       "    <tr>\n",
       "      <th>2980</th>\n",
       "      <td>-0.084430</td>\n",
       "      <td>-0.398064</td>\n",
       "      <td>-0.183891</td>\n",
       "      <td>-0.751540</td>\n",
       "      <td>-5.517516</td>\n",
       "      <td>0</td>\n",
       "      <td>0</td>\n",
       "      <td>0</td>\n",
       "      <td>0</td>\n",
       "      <td>0</td>\n",
       "      <td>...</td>\n",
       "      <td>0</td>\n",
       "      <td>0</td>\n",
       "      <td>0</td>\n",
       "      <td>0</td>\n",
       "      <td>0</td>\n",
       "      <td>0</td>\n",
       "      <td>0</td>\n",
       "      <td>0</td>\n",
       "      <td>1</td>\n",
       "      <td>0</td>\n",
       "    </tr>\n",
       "    <tr>\n",
       "      <th>2981</th>\n",
       "      <td>0.477728</td>\n",
       "      <td>-0.422354</td>\n",
       "      <td>-1.532309</td>\n",
       "      <td>-1.098706</td>\n",
       "      <td>1.532639</td>\n",
       "      <td>0</td>\n",
       "      <td>0</td>\n",
       "      <td>0</td>\n",
       "      <td>0</td>\n",
       "      <td>0</td>\n",
       "      <td>...</td>\n",
       "      <td>0</td>\n",
       "      <td>0</td>\n",
       "      <td>0</td>\n",
       "      <td>0</td>\n",
       "      <td>0</td>\n",
       "      <td>0</td>\n",
       "      <td>0</td>\n",
       "      <td>0</td>\n",
       "      <td>1</td>\n",
       "      <td>0</td>\n",
       "    </tr>\n",
       "    <tr>\n",
       "      <th>2982</th>\n",
       "      <td>0.419728</td>\n",
       "      <td>0.063440</td>\n",
       "      <td>0.170956</td>\n",
       "      <td>-1.445873</td>\n",
       "      <td>-0.972225</td>\n",
       "      <td>0</td>\n",
       "      <td>0</td>\n",
       "      <td>0</td>\n",
       "      <td>0</td>\n",
       "      <td>0</td>\n",
       "      <td>...</td>\n",
       "      <td>0</td>\n",
       "      <td>0</td>\n",
       "      <td>0</td>\n",
       "      <td>0</td>\n",
       "      <td>0</td>\n",
       "      <td>0</td>\n",
       "      <td>0</td>\n",
       "      <td>0</td>\n",
       "      <td>1</td>\n",
       "      <td>0</td>\n",
       "    </tr>\n",
       "  </tbody>\n",
       "</table>\n",
       "<p>5 rows × 55 columns</p>\n",
       "</div>"
      ],
      "text/plain": [
       "      Life Expectancy  Percent Smokers  Percent Obese  Unemployment_rate_2010  \\\n",
       "2978         0.102956         0.306336      -0.751646               -0.877782   \n",
       "2979         2.342667        -2.827030      -4.134520               -0.530616   \n",
       "2980        -0.084430        -0.398064      -0.183891               -0.751540   \n",
       "2981         0.477728        -0.422354      -1.532309               -1.098706   \n",
       "2982         0.419728         0.063440       0.170956               -1.445873   \n",
       "\n",
       "      log_food_stamps  Alaska  Arizona  Arkansas  California  Colorado  \\\n",
       "2978        -0.773864       0        0         0           0         0   \n",
       "2979        -0.509604       0        0         0           0         0   \n",
       "2980        -5.517516       0        0         0           0         0   \n",
       "2981         1.532639       0        0         0           0         0   \n",
       "2982        -0.972225       0        0         0           0         0   \n",
       "\n",
       "            ...          Tennessee  Texas  Utah  Vermont  Virginia  \\\n",
       "2978        ...                  0      0     0        0         0   \n",
       "2979        ...                  0      0     0        0         0   \n",
       "2980        ...                  0      0     0        0         0   \n",
       "2981        ...                  0      0     0        0         0   \n",
       "2982        ...                  0      0     0        0         0   \n",
       "\n",
       "      Washington  West Virginia  Wisconsin  Wyoming  Min Wages Dummies  \n",
       "2978           0              0          0        1                  0  \n",
       "2979           0              0          0        1                  0  \n",
       "2980           0              0          0        1                  0  \n",
       "2981           0              0          0        1                  0  \n",
       "2982           0              0          0        1                  0  \n",
       "\n",
       "[5 rows x 55 columns]"
      ]
     },
     "execution_count": 3,
     "metadata": {},
     "output_type": "execute_result"
    }
   ],
   "source": [
    "df.tail()"
   ]
  },
  {
   "cell_type": "markdown",
   "metadata": {},
   "source": [
    "## Test, Train, Split"
   ]
  },
  {
   "cell_type": "code",
   "execution_count": 4,
   "metadata": {},
   "outputs": [
    {
     "data": {
      "text/html": [
       "<div>\n",
       "<style scoped>\n",
       "    .dataframe tbody tr th:only-of-type {\n",
       "        vertical-align: middle;\n",
       "    }\n",
       "\n",
       "    .dataframe tbody tr th {\n",
       "        vertical-align: top;\n",
       "    }\n",
       "\n",
       "    .dataframe thead th {\n",
       "        text-align: right;\n",
       "    }\n",
       "</style>\n",
       "<table border=\"1\" class=\"dataframe\">\n",
       "  <thead>\n",
       "    <tr style=\"text-align: right;\">\n",
       "      <th></th>\n",
       "      <th>Percent Smokers</th>\n",
       "      <th>Percent Obese</th>\n",
       "      <th>Unemployment_rate_2010</th>\n",
       "      <th>log_food_stamps</th>\n",
       "      <th>Alaska</th>\n",
       "      <th>Arizona</th>\n",
       "      <th>Arkansas</th>\n",
       "      <th>California</th>\n",
       "      <th>Colorado</th>\n",
       "      <th>Connecticut</th>\n",
       "      <th>...</th>\n",
       "      <th>Tennessee</th>\n",
       "      <th>Texas</th>\n",
       "      <th>Utah</th>\n",
       "      <th>Vermont</th>\n",
       "      <th>Virginia</th>\n",
       "      <th>Washington</th>\n",
       "      <th>West Virginia</th>\n",
       "      <th>Wisconsin</th>\n",
       "      <th>Wyoming</th>\n",
       "      <th>Min Wages Dummies</th>\n",
       "    </tr>\n",
       "  </thead>\n",
       "  <tbody>\n",
       "    <tr>\n",
       "      <th>2978</th>\n",
       "      <td>0.306336</td>\n",
       "      <td>-0.751646</td>\n",
       "      <td>-0.877782</td>\n",
       "      <td>-0.773864</td>\n",
       "      <td>0</td>\n",
       "      <td>0</td>\n",
       "      <td>0</td>\n",
       "      <td>0</td>\n",
       "      <td>0</td>\n",
       "      <td>0</td>\n",
       "      <td>...</td>\n",
       "      <td>0</td>\n",
       "      <td>0</td>\n",
       "      <td>0</td>\n",
       "      <td>0</td>\n",
       "      <td>0</td>\n",
       "      <td>0</td>\n",
       "      <td>0</td>\n",
       "      <td>0</td>\n",
       "      <td>1</td>\n",
       "      <td>0</td>\n",
       "    </tr>\n",
       "    <tr>\n",
       "      <th>2979</th>\n",
       "      <td>-2.827030</td>\n",
       "      <td>-4.134520</td>\n",
       "      <td>-0.530616</td>\n",
       "      <td>-0.509604</td>\n",
       "      <td>0</td>\n",
       "      <td>0</td>\n",
       "      <td>0</td>\n",
       "      <td>0</td>\n",
       "      <td>0</td>\n",
       "      <td>0</td>\n",
       "      <td>...</td>\n",
       "      <td>0</td>\n",
       "      <td>0</td>\n",
       "      <td>0</td>\n",
       "      <td>0</td>\n",
       "      <td>0</td>\n",
       "      <td>0</td>\n",
       "      <td>0</td>\n",
       "      <td>0</td>\n",
       "      <td>1</td>\n",
       "      <td>0</td>\n",
       "    </tr>\n",
       "    <tr>\n",
       "      <th>2980</th>\n",
       "      <td>-0.398064</td>\n",
       "      <td>-0.183891</td>\n",
       "      <td>-0.751540</td>\n",
       "      <td>-5.517516</td>\n",
       "      <td>0</td>\n",
       "      <td>0</td>\n",
       "      <td>0</td>\n",
       "      <td>0</td>\n",
       "      <td>0</td>\n",
       "      <td>0</td>\n",
       "      <td>...</td>\n",
       "      <td>0</td>\n",
       "      <td>0</td>\n",
       "      <td>0</td>\n",
       "      <td>0</td>\n",
       "      <td>0</td>\n",
       "      <td>0</td>\n",
       "      <td>0</td>\n",
       "      <td>0</td>\n",
       "      <td>1</td>\n",
       "      <td>0</td>\n",
       "    </tr>\n",
       "    <tr>\n",
       "      <th>2981</th>\n",
       "      <td>-0.422354</td>\n",
       "      <td>-1.532309</td>\n",
       "      <td>-1.098706</td>\n",
       "      <td>1.532639</td>\n",
       "      <td>0</td>\n",
       "      <td>0</td>\n",
       "      <td>0</td>\n",
       "      <td>0</td>\n",
       "      <td>0</td>\n",
       "      <td>0</td>\n",
       "      <td>...</td>\n",
       "      <td>0</td>\n",
       "      <td>0</td>\n",
       "      <td>0</td>\n",
       "      <td>0</td>\n",
       "      <td>0</td>\n",
       "      <td>0</td>\n",
       "      <td>0</td>\n",
       "      <td>0</td>\n",
       "      <td>1</td>\n",
       "      <td>0</td>\n",
       "    </tr>\n",
       "    <tr>\n",
       "      <th>2982</th>\n",
       "      <td>0.063440</td>\n",
       "      <td>0.170956</td>\n",
       "      <td>-1.445873</td>\n",
       "      <td>-0.972225</td>\n",
       "      <td>0</td>\n",
       "      <td>0</td>\n",
       "      <td>0</td>\n",
       "      <td>0</td>\n",
       "      <td>0</td>\n",
       "      <td>0</td>\n",
       "      <td>...</td>\n",
       "      <td>0</td>\n",
       "      <td>0</td>\n",
       "      <td>0</td>\n",
       "      <td>0</td>\n",
       "      <td>0</td>\n",
       "      <td>0</td>\n",
       "      <td>0</td>\n",
       "      <td>0</td>\n",
       "      <td>1</td>\n",
       "      <td>0</td>\n",
       "    </tr>\n",
       "  </tbody>\n",
       "</table>\n",
       "<p>5 rows × 54 columns</p>\n",
       "</div>"
      ],
      "text/plain": [
       "      Percent Smokers  Percent Obese  Unemployment_rate_2010  log_food_stamps  \\\n",
       "2978         0.306336      -0.751646               -0.877782        -0.773864   \n",
       "2979        -2.827030      -4.134520               -0.530616        -0.509604   \n",
       "2980        -0.398064      -0.183891               -0.751540        -5.517516   \n",
       "2981        -0.422354      -1.532309               -1.098706         1.532639   \n",
       "2982         0.063440       0.170956               -1.445873        -0.972225   \n",
       "\n",
       "      Alaska  Arizona  Arkansas  California  Colorado  Connecticut  \\\n",
       "2978       0        0         0           0         0            0   \n",
       "2979       0        0         0           0         0            0   \n",
       "2980       0        0         0           0         0            0   \n",
       "2981       0        0         0           0         0            0   \n",
       "2982       0        0         0           0         0            0   \n",
       "\n",
       "            ...          Tennessee  Texas  Utah  Vermont  Virginia  \\\n",
       "2978        ...                  0      0     0        0         0   \n",
       "2979        ...                  0      0     0        0         0   \n",
       "2980        ...                  0      0     0        0         0   \n",
       "2981        ...                  0      0     0        0         0   \n",
       "2982        ...                  0      0     0        0         0   \n",
       "\n",
       "      Washington  West Virginia  Wisconsin  Wyoming  Min Wages Dummies  \n",
       "2978           0              0          0        1                  0  \n",
       "2979           0              0          0        1                  0  \n",
       "2980           0              0          0        1                  0  \n",
       "2981           0              0          0        1                  0  \n",
       "2982           0              0          0        1                  0  \n",
       "\n",
       "[5 rows x 54 columns]"
      ]
     },
     "execution_count": 4,
     "metadata": {},
     "output_type": "execute_result"
    }
   ],
   "source": [
    "# the target is panda series of the dependent variable\n",
    "target = df['Life Expectancy'] \n",
    "\n",
    "# make dataframe of just feature, or independent variables\n",
    "features = df.drop(columns=['Life Expectancy']) # taking target out of dataframe\n",
    "\n",
    "# look at features dataframe\n",
    "features.tail()"
   ]
  },
  {
   "cell_type": "code",
   "execution_count": 6,
   "metadata": {},
   "outputs": [],
   "source": [
    "# split the data to train and test our model\n",
    "X_train, X_test, y_train, y_test = train_test_split(features, target, random_state=0,test_size=0.2)\n"
   ]
  },
  {
   "cell_type": "code",
   "execution_count": 7,
   "metadata": {},
   "outputs": [
    {
     "name": "stdout",
     "output_type": "stream",
     "text": [
      " Length of  \n",
      " Feautures Training Data: 2386 \n",
      " Features Test Data: 597 \n",
      " Target Training Data: 2386 \n",
      " Target Test Data: 597\n"
     ]
    }
   ],
   "source": [
    "# check the length of our train and test dataframes\n",
    "\n",
    "print(' Length of ',\n",
    "    '\\n Feautures Training Data:',len(X_train),\n",
    "    '\\n Features Test Data:', len(X_test), \n",
    "    '\\n Target Training Data:', len(y_train),\n",
    "    '\\n Target Test Data:', len(y_test))"
   ]
  },
  {
   "cell_type": "markdown",
   "metadata": {},
   "source": [
    "## Ordinary Least Squares"
   ]
  },
  {
   "cell_type": "markdown",
   "metadata": {},
   "source": [
    "Using the sum of the squared differences between our features (the observed dependent features), such as percent of the population that are smokers per county and percent of that population that is obese, we calculated the error."
   ]
  },
  {
   "cell_type": "code",
   "execution_count": 10,
   "metadata": {},
   "outputs": [
    {
     "data": {
      "text/html": [
       "<table class=\"simpletable\">\n",
       "<caption>OLS Regression Results</caption>\n",
       "<tr>\n",
       "  <th>Dep. Variable:</th>     <td>Life Expectancy</td> <th>  R-squared:         </th> <td>   0.799</td>\n",
       "</tr>\n",
       "<tr>\n",
       "  <th>Model:</th>                   <td>OLS</td>       <th>  Adj. R-squared:    </th> <td>   0.794</td>\n",
       "</tr>\n",
       "<tr>\n",
       "  <th>Method:</th>             <td>Least Squares</td>  <th>  F-statistic:       </th> <td>   174.6</td>\n",
       "</tr>\n",
       "<tr>\n",
       "  <th>Date:</th>             <td>Tue, 25 Dec 2018</td> <th>  Prob (F-statistic):</th>  <td>  0.00</td> \n",
       "</tr>\n",
       "<tr>\n",
       "  <th>Time:</th>                 <td>17:44:16</td>     <th>  Log-Likelihood:    </th> <td> -1472.2</td>\n",
       "</tr>\n",
       "<tr>\n",
       "  <th>No. Observations:</th>      <td>  2386</td>      <th>  AIC:               </th> <td>   3052.</td>\n",
       "</tr>\n",
       "<tr>\n",
       "  <th>Df Residuals:</th>          <td>  2332</td>      <th>  BIC:               </th> <td>   3364.</td>\n",
       "</tr>\n",
       "<tr>\n",
       "  <th>Df Model:</th>              <td>    53</td>      <th>                     </th>     <td> </td>   \n",
       "</tr>\n",
       "<tr>\n",
       "  <th>Covariance Type:</th>      <td>nonrobust</td>    <th>                     </th>     <td> </td>   \n",
       "</tr>\n",
       "</table>\n",
       "<table class=\"simpletable\">\n",
       "<tr>\n",
       "             <td></td>               <th>coef</th>     <th>std err</th>      <th>t</th>      <th>P>|t|</th>  <th>[0.025</th>    <th>0.975]</th>  \n",
       "</tr>\n",
       "<tr>\n",
       "  <th>const</th>                  <td>   -0.6100</td> <td>    0.065</td> <td>   -9.325</td> <td> 0.000</td> <td>   -0.738</td> <td>   -0.482</td>\n",
       "</tr>\n",
       "<tr>\n",
       "  <th>Percent Smokers</th>        <td>   -0.5154</td> <td>    0.015</td> <td>  -33.921</td> <td> 0.000</td> <td>   -0.545</td> <td>   -0.486</td>\n",
       "</tr>\n",
       "<tr>\n",
       "  <th>Percent Obese</th>          <td>   -0.2725</td> <td>    0.015</td> <td>  -17.690</td> <td> 0.000</td> <td>   -0.303</td> <td>   -0.242</td>\n",
       "</tr>\n",
       "<tr>\n",
       "  <th>Unemployment_rate_2010</th> <td>   -0.1011</td> <td>    0.016</td> <td>   -6.360</td> <td> 0.000</td> <td>   -0.132</td> <td>   -0.070</td>\n",
       "</tr>\n",
       "<tr>\n",
       "  <th>log_food_stamps</th>        <td>    0.0026</td> <td>    0.010</td> <td>    0.264</td> <td> 0.792</td> <td>   -0.017</td> <td>    0.022</td>\n",
       "</tr>\n",
       "<tr>\n",
       "  <th>Alaska</th>                 <td>    0.4988</td> <td>    0.148</td> <td>    3.372</td> <td> 0.001</td> <td>    0.209</td> <td>    0.789</td>\n",
       "</tr>\n",
       "<tr>\n",
       "  <th>Arizona</th>                <td>   -0.0099</td> <td>    0.114</td> <td>   -0.087</td> <td> 0.931</td> <td>   -0.233</td> <td>    0.213</td>\n",
       "</tr>\n",
       "<tr>\n",
       "  <th>Arkansas</th>               <td>    0.2905</td> <td>    0.088</td> <td>    3.286</td> <td> 0.001</td> <td>    0.117</td> <td>    0.464</td>\n",
       "</tr>\n",
       "<tr>\n",
       "  <th>California</th>             <td>   -0.2731</td> <td>    0.075</td> <td>   -3.644</td> <td> 0.000</td> <td>   -0.420</td> <td>   -0.126</td>\n",
       "</tr>\n",
       "<tr>\n",
       "  <th>Colorado</th>               <td>   -0.0981</td> <td>    0.075</td> <td>   -1.313</td> <td> 0.189</td> <td>   -0.245</td> <td>    0.048</td>\n",
       "</tr>\n",
       "<tr>\n",
       "  <th>Connecticut</th>            <td>    0.0469</td> <td>    0.153</td> <td>    0.307</td> <td> 0.759</td> <td>   -0.252</td> <td>    0.346</td>\n",
       "</tr>\n",
       "<tr>\n",
       "  <th>Delaware</th>               <td>    0.9728</td> <td>    0.459</td> <td>    2.121</td> <td> 0.034</td> <td>    0.074</td> <td>    1.872</td>\n",
       "</tr>\n",
       "<tr>\n",
       "  <th>Florida</th>                <td>   -0.0355</td> <td>    0.071</td> <td>   -0.499</td> <td> 0.618</td> <td>   -0.175</td> <td>    0.104</td>\n",
       "</tr>\n",
       "<tr>\n",
       "  <th>Georgia</th>                <td>    0.0141</td> <td>    0.076</td> <td>    0.186</td> <td> 0.852</td> <td>   -0.135</td> <td>    0.163</td>\n",
       "</tr>\n",
       "<tr>\n",
       "  <th>Hawaii</th>                 <td>    0.9519</td> <td>    0.329</td> <td>    2.892</td> <td> 0.004</td> <td>    0.307</td> <td>    1.597</td>\n",
       "</tr>\n",
       "<tr>\n",
       "  <th>Idaho</th>                  <td>    0.6843</td> <td>    0.103</td> <td>    6.630</td> <td> 0.000</td> <td>    0.482</td> <td>    0.887</td>\n",
       "</tr>\n",
       "<tr>\n",
       "  <th>Illinois</th>               <td>    0.8155</td> <td>    0.085</td> <td>    9.593</td> <td> 0.000</td> <td>    0.649</td> <td>    0.982</td>\n",
       "</tr>\n",
       "<tr>\n",
       "  <th>Indiana</th>                <td>    1.0221</td> <td>    0.086</td> <td>   11.886</td> <td> 0.000</td> <td>    0.853</td> <td>    1.191</td>\n",
       "</tr>\n",
       "<tr>\n",
       "  <th>Iowa</th>                   <td>    1.1693</td> <td>    0.086</td> <td>   13.558</td> <td> 0.000</td> <td>    1.000</td> <td>    1.338</td>\n",
       "</tr>\n",
       "<tr>\n",
       "  <th>Kansas</th>                 <td>    0.8408</td> <td>    0.087</td> <td>    9.704</td> <td> 0.000</td> <td>    0.671</td> <td>    1.011</td>\n",
       "</tr>\n",
       "<tr>\n",
       "  <th>Kentucky</th>               <td>    0.6287</td> <td>    0.081</td> <td>    7.721</td> <td> 0.000</td> <td>    0.469</td> <td>    0.788</td>\n",
       "</tr>\n",
       "<tr>\n",
       "  <th>Louisiana</th>              <td>    0.1977</td> <td>    0.098</td> <td>    2.009</td> <td> 0.045</td> <td>    0.005</td> <td>    0.391</td>\n",
       "</tr>\n",
       "<tr>\n",
       "  <th>Maine</th>                  <td>    0.1659</td> <td>    0.122</td> <td>    1.364</td> <td> 0.173</td> <td>   -0.073</td> <td>    0.404</td>\n",
       "</tr>\n",
       "<tr>\n",
       "  <th>Maryland</th>               <td>    0.4301</td> <td>    0.132</td> <td>    3.266</td> <td> 0.001</td> <td>    0.172</td> <td>    0.688</td>\n",
       "</tr>\n",
       "<tr>\n",
       "  <th>Massachusetts</th>          <td>    0.0532</td> <td>    0.131</td> <td>    0.405</td> <td> 0.686</td> <td>   -0.205</td> <td>    0.311</td>\n",
       "</tr>\n",
       "<tr>\n",
       "  <th>Michigan</th>               <td>    1.2921</td> <td>    0.084</td> <td>   15.344</td> <td> 0.000</td> <td>    1.127</td> <td>    1.457</td>\n",
       "</tr>\n",
       "<tr>\n",
       "  <th>Minnesota</th>              <td>    1.3857</td> <td>    0.089</td> <td>   15.551</td> <td> 0.000</td> <td>    1.211</td> <td>    1.560</td>\n",
       "</tr>\n",
       "<tr>\n",
       "  <th>Mississippi</th>            <td>   -0.1528</td> <td>    0.086</td> <td>   -1.787</td> <td> 0.074</td> <td>   -0.321</td> <td>    0.015</td>\n",
       "</tr>\n",
       "<tr>\n",
       "  <th>Missouri</th>               <td>    0.9389</td> <td>    0.081</td> <td>   11.523</td> <td> 0.000</td> <td>    0.779</td> <td>    1.099</td>\n",
       "</tr>\n",
       "<tr>\n",
       "  <th>Montana</th>                <td>    0.4347</td> <td>    0.100</td> <td>    4.345</td> <td> 0.000</td> <td>    0.238</td> <td>    0.631</td>\n",
       "</tr>\n",
       "<tr>\n",
       "  <th>Nebraska</th>               <td>    1.0502</td> <td>    0.090</td> <td>   11.675</td> <td> 0.000</td> <td>    0.874</td> <td>    1.227</td>\n",
       "</tr>\n",
       "<tr>\n",
       "  <th>Nevada</th>                 <td>    0.4926</td> <td>    0.153</td> <td>    3.215</td> <td> 0.001</td> <td>    0.192</td> <td>    0.793</td>\n",
       "</tr>\n",
       "<tr>\n",
       "  <th>New Hampshire</th>          <td>    0.7330</td> <td>    0.176</td> <td>    4.171</td> <td> 0.000</td> <td>    0.388</td> <td>    1.078</td>\n",
       "</tr>\n",
       "<tr>\n",
       "  <th>New Jersey</th>             <td>    0.4292</td> <td>    0.128</td> <td>    3.358</td> <td> 0.001</td> <td>    0.179</td> <td>    0.680</td>\n",
       "</tr>\n",
       "<tr>\n",
       "  <th>New Mexico</th>             <td>   -0.3934</td> <td>    0.092</td> <td>   -4.271</td> <td> 0.000</td> <td>   -0.574</td> <td>   -0.213</td>\n",
       "</tr>\n",
       "<tr>\n",
       "  <th>New York</th>               <td>    0.8585</td> <td>    0.096</td> <td>    8.917</td> <td> 0.000</td> <td>    0.670</td> <td>    1.047</td>\n",
       "</tr>\n",
       "<tr>\n",
       "  <th>North Carolina</th>         <td>    0.4072</td> <td>    0.082</td> <td>    4.962</td> <td> 0.000</td> <td>    0.246</td> <td>    0.568</td>\n",
       "</tr>\n",
       "<tr>\n",
       "  <th>North Dakota</th>           <td>    1.1696</td> <td>    0.102</td> <td>   11.451</td> <td> 0.000</td> <td>    0.969</td> <td>    1.370</td>\n",
       "</tr>\n",
       "<tr>\n",
       "  <th>Ohio</th>                   <td>    0.3307</td> <td>    0.061</td> <td>    5.436</td> <td> 0.000</td> <td>    0.211</td> <td>    0.450</td>\n",
       "</tr>\n",
       "<tr>\n",
       "  <th>Oklahoma</th>               <td>    0.2167</td> <td>    0.090</td> <td>    2.407</td> <td> 0.016</td> <td>    0.040</td> <td>    0.393</td>\n",
       "</tr>\n",
       "<tr>\n",
       "  <th>Oregon</th>                 <td>    0.1670</td> <td>    0.083</td> <td>    2.023</td> <td> 0.043</td> <td>    0.005</td> <td>    0.329</td>\n",
       "</tr>\n",
       "<tr>\n",
       "  <th>Pennsylvania</th>           <td>    1.0057</td> <td>    0.089</td> <td>   11.280</td> <td> 0.000</td> <td>    0.831</td> <td>    1.181</td>\n",
       "</tr>\n",
       "<tr>\n",
       "  <th>Rhode Island</th>           <td>   -0.0172</td> <td>    0.245</td> <td>   -0.070</td> <td> 0.944</td> <td>   -0.498</td> <td>    0.463</td>\n",
       "</tr>\n",
       "<tr>\n",
       "  <th>South Carolina</th>         <td>    0.2156</td> <td>    0.102</td> <td>    2.123</td> <td> 0.034</td> <td>    0.016</td> <td>    0.415</td>\n",
       "</tr>\n",
       "<tr>\n",
       "  <th>South Dakota</th>           <td>    0.9480</td> <td>    0.095</td> <td>    9.981</td> <td> 0.000</td> <td>    0.762</td> <td>    1.134</td>\n",
       "</tr>\n",
       "<tr>\n",
       "  <th>Tennessee</th>              <td>    0.2368</td> <td>    0.082</td> <td>    2.878</td> <td> 0.004</td> <td>    0.075</td> <td>    0.398</td>\n",
       "</tr>\n",
       "<tr>\n",
       "  <th>Texas</th>                  <td>    0.1295</td> <td>    0.074</td> <td>    1.750</td> <td> 0.080</td> <td>   -0.016</td> <td>    0.275</td>\n",
       "</tr>\n",
       "<tr>\n",
       "  <th>Utah</th>                   <td>    0.0480</td> <td>    0.123</td> <td>    0.391</td> <td> 0.696</td> <td>   -0.192</td> <td>    0.288</td>\n",
       "</tr>\n",
       "<tr>\n",
       "  <th>Vermont</th>                <td>    0.5273</td> <td>    0.154</td> <td>    3.418</td> <td> 0.001</td> <td>    0.225</td> <td>    0.830</td>\n",
       "</tr>\n",
       "<tr>\n",
       "  <th>Virginia</th>               <td>    0.4524</td> <td>    0.085</td> <td>    5.301</td> <td> 0.000</td> <td>    0.285</td> <td>    0.620</td>\n",
       "</tr>\n",
       "<tr>\n",
       "  <th>Washington</th>             <td>    0.2302</td> <td>    0.082</td> <td>    2.807</td> <td> 0.005</td> <td>    0.069</td> <td>    0.391</td>\n",
       "</tr>\n",
       "<tr>\n",
       "  <th>West Virginia</th>          <td>    0.6923</td> <td>    0.094</td> <td>    7.333</td> <td> 0.000</td> <td>    0.507</td> <td>    0.877</td>\n",
       "</tr>\n",
       "<tr>\n",
       "  <th>Wisconsin</th>              <td>    1.1976</td> <td>    0.091</td> <td>   13.136</td> <td> 0.000</td> <td>    1.019</td> <td>    1.376</td>\n",
       "</tr>\n",
       "<tr>\n",
       "  <th>Wyoming</th>                <td>    0.3897</td> <td>    0.131</td> <td>    2.982</td> <td> 0.003</td> <td>    0.133</td> <td>    0.646</td>\n",
       "</tr>\n",
       "<tr>\n",
       "  <th>Min Wages Dummies</th>      <td>    0.6654</td> <td>    0.071</td> <td>    9.428</td> <td> 0.000</td> <td>    0.527</td> <td>    0.804</td>\n",
       "</tr>\n",
       "</table>\n",
       "<table class=\"simpletable\">\n",
       "<tr>\n",
       "  <th>Omnibus:</th>       <td>182.802</td> <th>  Durbin-Watson:     </th> <td>   2.005</td> \n",
       "</tr>\n",
       "<tr>\n",
       "  <th>Prob(Omnibus):</th> <td> 0.000</td>  <th>  Jarque-Bera (JB):  </th> <td> 714.371</td> \n",
       "</tr>\n",
       "<tr>\n",
       "  <th>Skew:</th>          <td>-0.285</td>  <th>  Prob(JB):          </th> <td>7.52e-156</td>\n",
       "</tr>\n",
       "<tr>\n",
       "  <th>Kurtosis:</th>      <td> 5.619</td>  <th>  Cond. No.          </th> <td>2.25e+15</td> \n",
       "</tr>\n",
       "</table><br/><br/>Warnings:<br/>[1] Standard Errors assume that the covariance matrix of the errors is correctly specified.<br/>[2] The smallest eigenvalue is 8.55e-28. This might indicate that there are<br/>strong multicollinearity problems or that the design matrix is singular."
      ],
      "text/plain": [
       "<class 'statsmodels.iolib.summary.Summary'>\n",
       "\"\"\"\n",
       "                            OLS Regression Results                            \n",
       "==============================================================================\n",
       "Dep. Variable:        Life Expectancy   R-squared:                       0.799\n",
       "Model:                            OLS   Adj. R-squared:                  0.794\n",
       "Method:                 Least Squares   F-statistic:                     174.6\n",
       "Date:                Tue, 25 Dec 2018   Prob (F-statistic):               0.00\n",
       "Time:                        17:44:16   Log-Likelihood:                -1472.2\n",
       "No. Observations:                2386   AIC:                             3052.\n",
       "Df Residuals:                    2332   BIC:                             3364.\n",
       "Df Model:                          53                                         \n",
       "Covariance Type:            nonrobust                                         \n",
       "==========================================================================================\n",
       "                             coef    std err          t      P>|t|      [0.025      0.975]\n",
       "------------------------------------------------------------------------------------------\n",
       "const                     -0.6100      0.065     -9.325      0.000      -0.738      -0.482\n",
       "Percent Smokers           -0.5154      0.015    -33.921      0.000      -0.545      -0.486\n",
       "Percent Obese             -0.2725      0.015    -17.690      0.000      -0.303      -0.242\n",
       "Unemployment_rate_2010    -0.1011      0.016     -6.360      0.000      -0.132      -0.070\n",
       "log_food_stamps            0.0026      0.010      0.264      0.792      -0.017       0.022\n",
       "Alaska                     0.4988      0.148      3.372      0.001       0.209       0.789\n",
       "Arizona                   -0.0099      0.114     -0.087      0.931      -0.233       0.213\n",
       "Arkansas                   0.2905      0.088      3.286      0.001       0.117       0.464\n",
       "California                -0.2731      0.075     -3.644      0.000      -0.420      -0.126\n",
       "Colorado                  -0.0981      0.075     -1.313      0.189      -0.245       0.048\n",
       "Connecticut                0.0469      0.153      0.307      0.759      -0.252       0.346\n",
       "Delaware                   0.9728      0.459      2.121      0.034       0.074       1.872\n",
       "Florida                   -0.0355      0.071     -0.499      0.618      -0.175       0.104\n",
       "Georgia                    0.0141      0.076      0.186      0.852      -0.135       0.163\n",
       "Hawaii                     0.9519      0.329      2.892      0.004       0.307       1.597\n",
       "Idaho                      0.6843      0.103      6.630      0.000       0.482       0.887\n",
       "Illinois                   0.8155      0.085      9.593      0.000       0.649       0.982\n",
       "Indiana                    1.0221      0.086     11.886      0.000       0.853       1.191\n",
       "Iowa                       1.1693      0.086     13.558      0.000       1.000       1.338\n",
       "Kansas                     0.8408      0.087      9.704      0.000       0.671       1.011\n",
       "Kentucky                   0.6287      0.081      7.721      0.000       0.469       0.788\n",
       "Louisiana                  0.1977      0.098      2.009      0.045       0.005       0.391\n",
       "Maine                      0.1659      0.122      1.364      0.173      -0.073       0.404\n",
       "Maryland                   0.4301      0.132      3.266      0.001       0.172       0.688\n",
       "Massachusetts              0.0532      0.131      0.405      0.686      -0.205       0.311\n",
       "Michigan                   1.2921      0.084     15.344      0.000       1.127       1.457\n",
       "Minnesota                  1.3857      0.089     15.551      0.000       1.211       1.560\n",
       "Mississippi               -0.1528      0.086     -1.787      0.074      -0.321       0.015\n",
       "Missouri                   0.9389      0.081     11.523      0.000       0.779       1.099\n",
       "Montana                    0.4347      0.100      4.345      0.000       0.238       0.631\n",
       "Nebraska                   1.0502      0.090     11.675      0.000       0.874       1.227\n",
       "Nevada                     0.4926      0.153      3.215      0.001       0.192       0.793\n",
       "New Hampshire              0.7330      0.176      4.171      0.000       0.388       1.078\n",
       "New Jersey                 0.4292      0.128      3.358      0.001       0.179       0.680\n",
       "New Mexico                -0.3934      0.092     -4.271      0.000      -0.574      -0.213\n",
       "New York                   0.8585      0.096      8.917      0.000       0.670       1.047\n",
       "North Carolina             0.4072      0.082      4.962      0.000       0.246       0.568\n",
       "North Dakota               1.1696      0.102     11.451      0.000       0.969       1.370\n",
       "Ohio                       0.3307      0.061      5.436      0.000       0.211       0.450\n",
       "Oklahoma                   0.2167      0.090      2.407      0.016       0.040       0.393\n",
       "Oregon                     0.1670      0.083      2.023      0.043       0.005       0.329\n",
       "Pennsylvania               1.0057      0.089     11.280      0.000       0.831       1.181\n",
       "Rhode Island              -0.0172      0.245     -0.070      0.944      -0.498       0.463\n",
       "South Carolina             0.2156      0.102      2.123      0.034       0.016       0.415\n",
       "South Dakota               0.9480      0.095      9.981      0.000       0.762       1.134\n",
       "Tennessee                  0.2368      0.082      2.878      0.004       0.075       0.398\n",
       "Texas                      0.1295      0.074      1.750      0.080      -0.016       0.275\n",
       "Utah                       0.0480      0.123      0.391      0.696      -0.192       0.288\n",
       "Vermont                    0.5273      0.154      3.418      0.001       0.225       0.830\n",
       "Virginia                   0.4524      0.085      5.301      0.000       0.285       0.620\n",
       "Washington                 0.2302      0.082      2.807      0.005       0.069       0.391\n",
       "West Virginia              0.6923      0.094      7.333      0.000       0.507       0.877\n",
       "Wisconsin                  1.1976      0.091     13.136      0.000       1.019       1.376\n",
       "Wyoming                    0.3897      0.131      2.982      0.003       0.133       0.646\n",
       "Min Wages Dummies          0.6654      0.071      9.428      0.000       0.527       0.804\n",
       "==============================================================================\n",
       "Omnibus:                      182.802   Durbin-Watson:                   2.005\n",
       "Prob(Omnibus):                  0.000   Jarque-Bera (JB):              714.371\n",
       "Skew:                          -0.285   Prob(JB):                    7.52e-156\n",
       "Kurtosis:                       5.619   Cond. No.                     2.25e+15\n",
       "==============================================================================\n",
       "\n",
       "Warnings:\n",
       "[1] Standard Errors assume that the covariance matrix of the errors is correctly specified.\n",
       "[2] The smallest eigenvalue is 8.55e-28. This might indicate that there are\n",
       "strong multicollinearity problems or that the design matrix is singular.\n",
       "\"\"\""
      ]
     },
     "execution_count": 10,
     "metadata": {},
     "output_type": "execute_result"
    }
   ],
   "source": [
    "# set the X_train dataframe to a variable to build a linear regression model with\n",
    "predictors = X_train #features\n",
    "\n",
    "# add constant term to predictors\n",
    "predictors_int = sm.add_constant(predictors)\n",
    "\n",
    "# make a baseline OLS model fit to our training data\n",
    "model = sm.OLS(y_train,predictors_int).fit()\n",
    "#sm.OLS(df['Life Expectancy'],predictors_int).fit()\n",
    "\n",
    "# print out a summary of the baseline model\n",
    "model.summary()"
   ]
  },
  {
   "cell_type": "markdown",
   "metadata": {},
   "source": [
    "# r-sq is 0.799, which is very good! \n",
    "\n",
    "r-sq = \"translates in the percent of variance explained by the model. The remaining percentage represents the variance explained by error, the E term, that which the model and predictors fail to grasp.\"\n",
    "\n",
    "adj. r-sq is 0.794, which is also great.\n",
    "\n",
    "From our initial model readout above, it looks like log_food_stamps, AZ, CO, CT, FL, GA, ME, MA, MS, RI, TX, UT all have p-values > 0.05, meaning that there is no statistically significant relationship between these variables and Life Expectancy. \n",
    "\n",
    "**later we might want to take out the above ^ features and see if we can get our p-value higher**\n",
    "\n",
    "We have slight negative skew at -0.285 and we are leptokurtic at 5.619, the latter meaning that we have some outlier data points, or occasional values exceeding (in terms of standard deviations from the mean) what is predicted by the normal distribution."
   ]
  },
  {
   "cell_type": "code",
   "execution_count": 13,
   "metadata": {},
   "outputs": [],
   "source": [
    "# predict new y values\n",
    "y_ols_pred = model.predict(sm.add_constant(X_test))\n"
   ]
  },
  {
   "cell_type": "code",
   "execution_count": 30,
   "metadata": {
    "scrolled": true
   },
   "outputs": [
    {
     "data": {
      "text/plain": [
       "Text(0,0.5,'Predicted Y-Values from Baseline Model')"
      ]
     },
     "execution_count": 30,
     "metadata": {},
     "output_type": "execute_result"
    },
    {
     "data": {
      "image/png": "[encoded data removed]",
      "text/plain": [
       "<Figure size 432x288 with 1 Axes>"
      ]
     },
     "metadata": {},
     "output_type": "display_data"
    }
   ],
   "source": [
    "# plot the y-values our model (based on the training data) predicted vs the y-values from our test data to evaluate our model's performance\n",
    "plt.scatter(y_test, y_ols_pred, alpha=0.4)\n",
    "plt.xlabel('Test Y-Values')\n",
    "plt.ylabel('Predicted Y-Values from Baseline Model')"
   ]
  },
  {
   "cell_type": "markdown",
   "metadata": {},
   "source": [
    "^ why are we doing this above and why are we doing regression with scikit learn and statsmodel? Let's just use 1. I vote for scikit learn. - AL\n"
   ]
  },
  {
   "cell_type": "markdown",
   "metadata": {},
   "source": [
    "## Scikit-learn regression"
   ]
  },
  {
   "cell_type": "code",
   "execution_count": 31,
   "metadata": {},
   "outputs": [
    {
     "data": {
      "text/plain": [
       "LinearRegression(copy_X=True, fit_intercept=True, n_jobs=None,\n",
       "         normalize=False)"
      ]
     },
     "execution_count": 31,
     "metadata": {},
     "output_type": "execute_result"
    }
   ],
   "source": [
    "# set the y variable to Life Expectancy\n",
    "y = df['Life Expectancy']\n",
    "\n",
    "# set the linear regression method to a variable\n",
    "linreg = LinearRegression()\n",
    "\n",
    "# fit a linear regression to the predictors (features) and life expectancy\n",
    "linreg.fit(predictors, y_train)"
   ]
  },
  {
   "cell_type": "code",
   "execution_count": 32,
   "metadata": {},
   "outputs": [
    {
     "name": "stdout",
     "output_type": "stream",
     "text": [
      "[-5.15483625e-01 -2.72476557e-01 -1.00999467e-01  2.64948194e-03\n",
      " -3.07738194e+11 -3.07738194e+11  2.89980587e-01 -3.07738194e+11\n",
      " -3.07738194e+11 -3.07738194e+11  9.73099709e-01 -3.07738194e+11\n",
      "  1.39579773e-02  9.51542854e-01  6.83807373e-01  8.15466404e-01\n",
      "  1.02210236e+00  1.16943359e+00  8.40713501e-01  6.28814697e-01\n",
      "  1.97561264e-01 -3.07738194e+11  4.29801941e-01 -3.07738194e+11\n",
      "  1.29191589e+00  1.38579559e+00 -1.52954102e-01  9.38903809e-01\n",
      "  4.34707642e-01  1.05006409e+00  4.92687225e-01  7.33216047e-01\n",
      "  4.29283142e-01 -3.07738194e+11  8.58169556e-01  4.07073975e-01\n",
      "  1.16955566e+00 -3.07738194e+11  2.16827393e-01 -3.07738194e+11\n",
      "  1.00582504e+00 -3.07738194e+11  2.15469360e-01  9.47677612e-01\n",
      "  2.36877441e-01  1.29302979e-01  4.79278564e-02  5.27126312e-01\n",
      "  4.52224731e-01 -3.07738194e+11  6.92504883e-01  1.19749451e+00\n",
      "  3.89614105e-01  3.07738194e+11] \n",
      " There are 54 coefficients for the linear regression \n",
      " the y-intercept is  -0.609953267479369\n",
      "The model is a  <class 'sklearn.linear_model.base.LinearRegression'>\n",
      "The R-squared value is  0.7987306319927164 which maps to the OLS R-squared value of .808\n"
     ]
    }
   ],
   "source": [
    "# get coefficients of the linear regression\n",
    "print(linreg.coef_ ,  '\\n There are',len(linreg.coef_),'coefficients for the linear regression','\\n the y-intercept is ', linreg.intercept_)\n",
    "print('The model is a ', type(linreg))\n",
    "print('The R-squared value is ', linreg.score(X_train, y_train), 'which maps to the OLS R-squared value of .808')\n",
    "\n",
    "# predict the y value from the linear regression model\n",
    "y_pred = linreg.predict(X_test)\n"
   ]
  },
  {
   "cell_type": "code",
   "execution_count": 34,
   "metadata": {},
   "outputs": [
    {
     "data": {
      "text/plain": [
       "Text(0,0.5,'Predicted Values')"
      ]
     },
     "execution_count": 34,
     "metadata": {},
     "output_type": "execute_result"
    },
    {
     "data": {
      "image/png": "[encoded data removed]",
      "text/plain": [
       "<Figure size 432x288 with 1 Axes>"
      ]
     },
     "metadata": {},
     "output_type": "display_data"
    }
   ],
   "source": [
    "# plot the predicted y-value vs the true-value \n",
    "plt.scatter(y_test, y_pred, alpha = 0.5)\n",
    "plt.xlabel('True Values')\n",
    "plt.ylabel('Predicted Values')"
   ]
  },
  {
   "cell_type": "markdown",
   "metadata": {},
   "source": [
    "# Feature Selection"
   ]
  },
  {
   "cell_type": "markdown",
   "metadata": {},
   "source": [
    "### Recursive Feature Elimination \n",
    "picks the top *n* features from your model\n",
    "\n",
    "From [documentation](https://scikit-learn.org/stable/modules/generated/sklearn.feature_selection.RFE.html#sklearn.feature_selection.RFE): \"...the goal of recursive feature elimination (RFE) is to select features by recursively considering smaller and smaller sets of features. First, the estimator is trained on the initial set of features and the importance of each feature is obtained either through a coef_ attribute or through a feature_importances_ attribute. Then, the least important features are pruned from current set of features. That procedure is recursively repeated on the pruned set until the desired number of features to select is eventually reached.\""
   ]
  },
  {
   "cell_type": "code",
   "execution_count": 201,
   "metadata": {},
   "outputs": [],
   "source": [
    "from sklearn.feature_selection import RFE\n"
   ]
  },
  {
   "cell_type": "code",
   "execution_count": 187,
   "metadata": {},
   "outputs": [],
   "source": [
    "linreg = LinearRegression()\n",
    "selector = RFE(linreg, n_features_to_select = 54)\n",
    "selector = selector.fit(predictors, y_train)\n"
   ]
  },
  {
   "cell_type": "code",
   "execution_count": 188,
   "metadata": {},
   "outputs": [
    {
     "data": {
      "text/plain": [
       "array([ True,  True,  True,  True,  True,  True,  True,  True,  True,\n",
       "        True,  True,  True,  True,  True,  True,  True,  True,  True,\n",
       "        True,  True,  True,  True,  True,  True,  True,  True,  True,\n",
       "        True,  True,  True,  True,  True,  True,  True,  True,  True,\n",
       "        True,  True,  True,  True,  True,  True,  True,  True,  True,\n",
       "        True,  True,  True,  True,  True,  True,  True,  True,  True])"
      ]
     },
     "execution_count": 188,
     "metadata": {},
     "output_type": "execute_result"
    }
   ],
   "source": [
    "selector.support_ \n"
   ]
  },
  {
   "cell_type": "code",
   "execution_count": 189,
   "metadata": {},
   "outputs": [
    {
     "data": {
      "text/plain": [
       "LinearRegression(copy_X=True, fit_intercept=True, n_jobs=None,\n",
       "         normalize=False)"
      ]
     },
     "execution_count": 189,
     "metadata": {},
     "output_type": "execute_result"
    }
   ],
   "source": [
    "# Fit the linear regression model again using the 5 columns selected\n",
    "\n",
    "selected_columns = predictors.columns[selector.support_ ]\n",
    "linreg.fit(predictors[selected_columns],y_train)"
   ]
  },
  {
   "cell_type": "code",
   "execution_count": 190,
   "metadata": {},
   "outputs": [],
   "source": [
    "# predict y-hat using new model\n",
    "yhat = linreg.predict(predictors[selected_columns])\n"
   ]
  },
  {
   "cell_type": "code",
   "execution_count": 191,
   "metadata": {},
   "outputs": [],
   "source": [
    "# Comparing metrics w/baseline model\n",
    "\n",
    "SS_Residual = np.sum((y_train-yhat)**2)\n",
    "SS_Total = np.sum((y_train-np.mean(y_train))**2)\n",
    "r_squared = 1 - (float(SS_Residual))/SS_Total\n",
    "adjusted_r_squared = 1 - (1-r_squared)*(len(y_train)-1)/(len(y_train)-predictors[selected_columns].shape[1]-1)"
   ]
  },
  {
   "cell_type": "code",
   "execution_count": 192,
   "metadata": {},
   "outputs": [
    {
     "data": {
      "text/plain": [
       "0.7987306319927164"
      ]
     },
     "execution_count": 192,
     "metadata": {},
     "output_type": "execute_result"
    }
   ],
   "source": [
    "r_squared"
   ]
  },
  {
   "cell_type": "code",
   "execution_count": 193,
   "metadata": {},
   "outputs": [
    {
     "data": {
      "text/plain": [
       "0.7940680211508488"
      ]
     },
     "execution_count": 193,
     "metadata": {},
     "output_type": "execute_result"
    }
   ],
   "source": [
    "adjusted_r_squared"
   ]
  },
  {
   "cell_type": "markdown",
   "metadata": {},
   "source": [
    "We can see that when we only use the top 5 features for our model our r-squared value significantly decreases from ~ 80% to ~ 60%, meaning that we want to include more features than just the top 5.\n",
    "\n",
    "After playing around a bit with the *n* value, we found that n = 54 gave us the highest r-squared and adjusted r-squared value (0.7987306319927164 and 0.7940680211508488, respectively). Since we know that our df only has 54 columns, this value doesn't really tell us much about how best features. It's essentially saying that the 54 features we have are the best ones to use (ie our baseline model is best so far).\n"
   ]
  },
  {
   "cell_type": "markdown",
   "metadata": {},
   "source": [
    "## Using Filter Methods"
   ]
  },
  {
   "cell_type": "code",
   "execution_count": null,
   "metadata": {},
   "outputs": [],
   "source": []
  },
  {
   "cell_type": "markdown",
   "metadata": {},
   "source": [
    "## Applying a Wrapper Method to Filtered features"
   ]
  },
  {
   "cell_type": "code",
   "execution_count": null,
   "metadata": {},
   "outputs": [],
   "source": []
  },
  {
   "cell_type": "markdown",
   "metadata": {},
   "source": [
    "## Creating Interact and Polynomial Terms"
   ]
  },
  {
   "cell_type": "code",
   "execution_count": null,
   "metadata": {},
   "outputs": [],
   "source": [
    "# maybe, depending on how our regression looks"
   ]
  },
  {
   "cell_type": "markdown",
   "metadata": {},
   "source": [
    "# Final Thoughts"
   ]
  },
  {
   "cell_type": "code",
   "execution_count": null,
   "metadata": {},
   "outputs": [],
   "source": []
  }
 ],
 "metadata": {
  "kernelspec": {
   "display_name": "Python 3",
   "language": "python",
   "name": "python3"
  },
  "language_info": {
   "codemirror_mode": {
    "name": "ipython",
    "version": 3
   },
   "file_extension": ".py",
   "mimetype": "text/x-python",
   "name": "python",
   "nbconvert_exporter": "python",
   "pygments_lexer": "ipython3",
   "version": "3.6.5"
  }
 },
 "nbformat": 4,
 "nbformat_minor": 2
}
