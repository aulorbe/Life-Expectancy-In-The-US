{
 "cells": [
  {
   "cell_type": "markdown",
   "metadata": {},
   "source": [
    "# Feature Engineering"
   ]
  },
  {
   "cell_type": "markdown",
   "metadata": {},
   "source": [
    "## Import libraries"
   ]
  },
  {
   "cell_type": "code",
   "execution_count": 87,
   "metadata": {},
   "outputs": [],
   "source": [
    "import pandas as pd\n",
    "import numpy as np\n",
    "import pylab\n",
    "from matplotlib import pyplot as plt\n",
    "from sklearn.linear_model import LinearRegression\n",
    "from sklearn.linear_model import Lasso\n",
    "from sklearn import datasets, linear_model, metrics, preprocessing, pipeline\n",
    "from sklearn.model_selection import train_test_split\n",
    "from sklearn.metrics import mean_squared_error\n",
    "from sklearn.feature_selection import RFE\n",
    "import statsmodels.api as sm\n",
    "from statsmodels.formula.api import ols\n",
    "import scipy.stats as stats"
   ]
  },
  {
   "cell_type": "markdown",
   "metadata": {},
   "source": [
    "## Import Dataframe"
   ]
  },
  {
   "cell_type": "code",
   "execution_count": 30,
   "metadata": {},
   "outputs": [],
   "source": [
    "df = pd.read_csv('csv_files/12_12_DF_log_state_FINAL.csv')"
   ]
  },
  {
   "cell_type": "markdown",
   "metadata": {},
   "source": [
    "### Initial look at dataframe"
   ]
  },
  {
   "cell_type": "code",
   "execution_count": 31,
   "metadata": {},
   "outputs": [
    {
     "data": {
      "text/html": [
       "<div>\n",
       "<style scoped>\n",
       "    .dataframe tbody tr th:only-of-type {\n",
       "        vertical-align: middle;\n",
       "    }\n",
       "\n",
       "    .dataframe tbody tr th {\n",
       "        vertical-align: top;\n",
       "    }\n",
       "\n",
       "    .dataframe thead th {\n",
       "        text-align: right;\n",
       "    }\n",
       "</style>\n",
       "<table border=\"1\" class=\"dataframe\">\n",
       "  <thead>\n",
       "    <tr style=\"text-align: right;\">\n",
       "      <th></th>\n",
       "      <th>Life Expectancy</th>\n",
       "      <th>Percent Smokers</th>\n",
       "      <th>Percent Obese</th>\n",
       "      <th>Unemployment_rate_2010</th>\n",
       "      <th>log_food_stamps</th>\n",
       "      <th>Alaska</th>\n",
       "      <th>Arizona</th>\n",
       "      <th>Arkansas</th>\n",
       "      <th>California</th>\n",
       "      <th>Colorado</th>\n",
       "      <th>...</th>\n",
       "      <th>Tennessee</th>\n",
       "      <th>Texas</th>\n",
       "      <th>Utah</th>\n",
       "      <th>Vermont</th>\n",
       "      <th>Virginia</th>\n",
       "      <th>Washington</th>\n",
       "      <th>West Virginia</th>\n",
       "      <th>Wisconsin</th>\n",
       "      <th>Wyoming</th>\n",
       "      <th>Min Wages Dummies</th>\n",
       "    </tr>\n",
       "  </thead>\n",
       "  <tbody>\n",
       "    <tr>\n",
       "      <th>2978</th>\n",
       "      <td>0.102956</td>\n",
       "      <td>0.306336</td>\n",
       "      <td>-0.751646</td>\n",
       "      <td>-0.877782</td>\n",
       "      <td>-0.773864</td>\n",
       "      <td>0</td>\n",
       "      <td>0</td>\n",
       "      <td>0</td>\n",
       "      <td>0</td>\n",
       "      <td>0</td>\n",
       "      <td>...</td>\n",
       "      <td>0</td>\n",
       "      <td>0</td>\n",
       "      <td>0</td>\n",
       "      <td>0</td>\n",
       "      <td>0</td>\n",
       "      <td>0</td>\n",
       "      <td>0</td>\n",
       "      <td>0</td>\n",
       "      <td>1</td>\n",
       "      <td>0</td>\n",
       "    </tr>\n",
       "    <tr>\n",
       "      <th>2979</th>\n",
       "      <td>2.342667</td>\n",
       "      <td>-2.827030</td>\n",
       "      <td>-4.134520</td>\n",
       "      <td>-0.530616</td>\n",
       "      <td>-0.509604</td>\n",
       "      <td>0</td>\n",
       "      <td>0</td>\n",
       "      <td>0</td>\n",
       "      <td>0</td>\n",
       "      <td>0</td>\n",
       "      <td>...</td>\n",
       "      <td>0</td>\n",
       "      <td>0</td>\n",
       "      <td>0</td>\n",
       "      <td>0</td>\n",
       "      <td>0</td>\n",
       "      <td>0</td>\n",
       "      <td>0</td>\n",
       "      <td>0</td>\n",
       "      <td>1</td>\n",
       "      <td>0</td>\n",
       "    </tr>\n",
       "    <tr>\n",
       "      <th>2980</th>\n",
       "      <td>-0.084430</td>\n",
       "      <td>-0.398064</td>\n",
       "      <td>-0.183891</td>\n",
       "      <td>-0.751540</td>\n",
       "      <td>-5.517516</td>\n",
       "      <td>0</td>\n",
       "      <td>0</td>\n",
       "      <td>0</td>\n",
       "      <td>0</td>\n",
       "      <td>0</td>\n",
       "      <td>...</td>\n",
       "      <td>0</td>\n",
       "      <td>0</td>\n",
       "      <td>0</td>\n",
       "      <td>0</td>\n",
       "      <td>0</td>\n",
       "      <td>0</td>\n",
       "      <td>0</td>\n",
       "      <td>0</td>\n",
       "      <td>1</td>\n",
       "      <td>0</td>\n",
       "    </tr>\n",
       "    <tr>\n",
       "      <th>2981</th>\n",
       "      <td>0.477728</td>\n",
       "      <td>-0.422354</td>\n",
       "      <td>-1.532309</td>\n",
       "      <td>-1.098706</td>\n",
       "      <td>1.532639</td>\n",
       "      <td>0</td>\n",
       "      <td>0</td>\n",
       "      <td>0</td>\n",
       "      <td>0</td>\n",
       "      <td>0</td>\n",
       "      <td>...</td>\n",
       "      <td>0</td>\n",
       "      <td>0</td>\n",
       "      <td>0</td>\n",
       "      <td>0</td>\n",
       "      <td>0</td>\n",
       "      <td>0</td>\n",
       "      <td>0</td>\n",
       "      <td>0</td>\n",
       "      <td>1</td>\n",
       "      <td>0</td>\n",
       "    </tr>\n",
       "    <tr>\n",
       "      <th>2982</th>\n",
       "      <td>0.419728</td>\n",
       "      <td>0.063440</td>\n",
       "      <td>0.170956</td>\n",
       "      <td>-1.445873</td>\n",
       "      <td>-0.972225</td>\n",
       "      <td>0</td>\n",
       "      <td>0</td>\n",
       "      <td>0</td>\n",
       "      <td>0</td>\n",
       "      <td>0</td>\n",
       "      <td>...</td>\n",
       "      <td>0</td>\n",
       "      <td>0</td>\n",
       "      <td>0</td>\n",
       "      <td>0</td>\n",
       "      <td>0</td>\n",
       "      <td>0</td>\n",
       "      <td>0</td>\n",
       "      <td>0</td>\n",
       "      <td>1</td>\n",
       "      <td>0</td>\n",
       "    </tr>\n",
       "  </tbody>\n",
       "</table>\n",
       "<p>5 rows × 55 columns</p>\n",
       "</div>"
      ],
      "text/plain": [
       "      Life Expectancy  Percent Smokers  Percent Obese  Unemployment_rate_2010  \\\n",
       "2978         0.102956         0.306336      -0.751646               -0.877782   \n",
       "2979         2.342667        -2.827030      -4.134520               -0.530616   \n",
       "2980        -0.084430        -0.398064      -0.183891               -0.751540   \n",
       "2981         0.477728        -0.422354      -1.532309               -1.098706   \n",
       "2982         0.419728         0.063440       0.170956               -1.445873   \n",
       "\n",
       "      log_food_stamps  Alaska  Arizona  Arkansas  California  Colorado  \\\n",
       "2978        -0.773864       0        0         0           0         0   \n",
       "2979        -0.509604       0        0         0           0         0   \n",
       "2980        -5.517516       0        0         0           0         0   \n",
       "2981         1.532639       0        0         0           0         0   \n",
       "2982        -0.972225       0        0         0           0         0   \n",
       "\n",
       "            ...          Tennessee  Texas  Utah  Vermont  Virginia  \\\n",
       "2978        ...                  0      0     0        0         0   \n",
       "2979        ...                  0      0     0        0         0   \n",
       "2980        ...                  0      0     0        0         0   \n",
       "2981        ...                  0      0     0        0         0   \n",
       "2982        ...                  0      0     0        0         0   \n",
       "\n",
       "      Washington  West Virginia  Wisconsin  Wyoming  Min Wages Dummies  \n",
       "2978           0              0          0        1                  0  \n",
       "2979           0              0          0        1                  0  \n",
       "2980           0              0          0        1                  0  \n",
       "2981           0              0          0        1                  0  \n",
       "2982           0              0          0        1                  0  \n",
       "\n",
       "[5 rows x 55 columns]"
      ]
     },
     "execution_count": 31,
     "metadata": {},
     "output_type": "execute_result"
    }
   ],
   "source": [
    "df.tail()"
   ]
  },
  {
   "cell_type": "markdown",
   "metadata": {},
   "source": [
    "## Test, Train, Split"
   ]
  },
  {
   "cell_type": "code",
   "execution_count": 32,
   "metadata": {},
   "outputs": [
    {
     "data": {
      "text/html": [
       "<div>\n",
       "<style scoped>\n",
       "    .dataframe tbody tr th:only-of-type {\n",
       "        vertical-align: middle;\n",
       "    }\n",
       "\n",
       "    .dataframe tbody tr th {\n",
       "        vertical-align: top;\n",
       "    }\n",
       "\n",
       "    .dataframe thead th {\n",
       "        text-align: right;\n",
       "    }\n",
       "</style>\n",
       "<table border=\"1\" class=\"dataframe\">\n",
       "  <thead>\n",
       "    <tr style=\"text-align: right;\">\n",
       "      <th></th>\n",
       "      <th>Percent Smokers</th>\n",
       "      <th>Percent Obese</th>\n",
       "      <th>Unemployment_rate_2010</th>\n",
       "      <th>log_food_stamps</th>\n",
       "      <th>Alaska</th>\n",
       "      <th>Arizona</th>\n",
       "      <th>Arkansas</th>\n",
       "      <th>California</th>\n",
       "      <th>Colorado</th>\n",
       "      <th>Connecticut</th>\n",
       "      <th>...</th>\n",
       "      <th>Tennessee</th>\n",
       "      <th>Texas</th>\n",
       "      <th>Utah</th>\n",
       "      <th>Vermont</th>\n",
       "      <th>Virginia</th>\n",
       "      <th>Washington</th>\n",
       "      <th>West Virginia</th>\n",
       "      <th>Wisconsin</th>\n",
       "      <th>Wyoming</th>\n",
       "      <th>Min Wages Dummies</th>\n",
       "    </tr>\n",
       "  </thead>\n",
       "  <tbody>\n",
       "    <tr>\n",
       "      <th>2978</th>\n",
       "      <td>0.306336</td>\n",
       "      <td>-0.751646</td>\n",
       "      <td>-0.877782</td>\n",
       "      <td>-0.773864</td>\n",
       "      <td>0</td>\n",
       "      <td>0</td>\n",
       "      <td>0</td>\n",
       "      <td>0</td>\n",
       "      <td>0</td>\n",
       "      <td>0</td>\n",
       "      <td>...</td>\n",
       "      <td>0</td>\n",
       "      <td>0</td>\n",
       "      <td>0</td>\n",
       "      <td>0</td>\n",
       "      <td>0</td>\n",
       "      <td>0</td>\n",
       "      <td>0</td>\n",
       "      <td>0</td>\n",
       "      <td>1</td>\n",
       "      <td>0</td>\n",
       "    </tr>\n",
       "    <tr>\n",
       "      <th>2979</th>\n",
       "      <td>-2.827030</td>\n",
       "      <td>-4.134520</td>\n",
       "      <td>-0.530616</td>\n",
       "      <td>-0.509604</td>\n",
       "      <td>0</td>\n",
       "      <td>0</td>\n",
       "      <td>0</td>\n",
       "      <td>0</td>\n",
       "      <td>0</td>\n",
       "      <td>0</td>\n",
       "      <td>...</td>\n",
       "      <td>0</td>\n",
       "      <td>0</td>\n",
       "      <td>0</td>\n",
       "      <td>0</td>\n",
       "      <td>0</td>\n",
       "      <td>0</td>\n",
       "      <td>0</td>\n",
       "      <td>0</td>\n",
       "      <td>1</td>\n",
       "      <td>0</td>\n",
       "    </tr>\n",
       "    <tr>\n",
       "      <th>2980</th>\n",
       "      <td>-0.398064</td>\n",
       "      <td>-0.183891</td>\n",
       "      <td>-0.751540</td>\n",
       "      <td>-5.517516</td>\n",
       "      <td>0</td>\n",
       "      <td>0</td>\n",
       "      <td>0</td>\n",
       "      <td>0</td>\n",
       "      <td>0</td>\n",
       "      <td>0</td>\n",
       "      <td>...</td>\n",
       "      <td>0</td>\n",
       "      <td>0</td>\n",
       "      <td>0</td>\n",
       "      <td>0</td>\n",
       "      <td>0</td>\n",
       "      <td>0</td>\n",
       "      <td>0</td>\n",
       "      <td>0</td>\n",
       "      <td>1</td>\n",
       "      <td>0</td>\n",
       "    </tr>\n",
       "    <tr>\n",
       "      <th>2981</th>\n",
       "      <td>-0.422354</td>\n",
       "      <td>-1.532309</td>\n",
       "      <td>-1.098706</td>\n",
       "      <td>1.532639</td>\n",
       "      <td>0</td>\n",
       "      <td>0</td>\n",
       "      <td>0</td>\n",
       "      <td>0</td>\n",
       "      <td>0</td>\n",
       "      <td>0</td>\n",
       "      <td>...</td>\n",
       "      <td>0</td>\n",
       "      <td>0</td>\n",
       "      <td>0</td>\n",
       "      <td>0</td>\n",
       "      <td>0</td>\n",
       "      <td>0</td>\n",
       "      <td>0</td>\n",
       "      <td>0</td>\n",
       "      <td>1</td>\n",
       "      <td>0</td>\n",
       "    </tr>\n",
       "    <tr>\n",
       "      <th>2982</th>\n",
       "      <td>0.063440</td>\n",
       "      <td>0.170956</td>\n",
       "      <td>-1.445873</td>\n",
       "      <td>-0.972225</td>\n",
       "      <td>0</td>\n",
       "      <td>0</td>\n",
       "      <td>0</td>\n",
       "      <td>0</td>\n",
       "      <td>0</td>\n",
       "      <td>0</td>\n",
       "      <td>...</td>\n",
       "      <td>0</td>\n",
       "      <td>0</td>\n",
       "      <td>0</td>\n",
       "      <td>0</td>\n",
       "      <td>0</td>\n",
       "      <td>0</td>\n",
       "      <td>0</td>\n",
       "      <td>0</td>\n",
       "      <td>1</td>\n",
       "      <td>0</td>\n",
       "    </tr>\n",
       "  </tbody>\n",
       "</table>\n",
       "<p>5 rows × 54 columns</p>\n",
       "</div>"
      ],
      "text/plain": [
       "      Percent Smokers  Percent Obese  Unemployment_rate_2010  log_food_stamps  \\\n",
       "2978         0.306336      -0.751646               -0.877782        -0.773864   \n",
       "2979        -2.827030      -4.134520               -0.530616        -0.509604   \n",
       "2980        -0.398064      -0.183891               -0.751540        -5.517516   \n",
       "2981        -0.422354      -1.532309               -1.098706         1.532639   \n",
       "2982         0.063440       0.170956               -1.445873        -0.972225   \n",
       "\n",
       "      Alaska  Arizona  Arkansas  California  Colorado  Connecticut  \\\n",
       "2978       0        0         0           0         0            0   \n",
       "2979       0        0         0           0         0            0   \n",
       "2980       0        0         0           0         0            0   \n",
       "2981       0        0         0           0         0            0   \n",
       "2982       0        0         0           0         0            0   \n",
       "\n",
       "            ...          Tennessee  Texas  Utah  Vermont  Virginia  \\\n",
       "2978        ...                  0      0     0        0         0   \n",
       "2979        ...                  0      0     0        0         0   \n",
       "2980        ...                  0      0     0        0         0   \n",
       "2981        ...                  0      0     0        0         0   \n",
       "2982        ...                  0      0     0        0         0   \n",
       "\n",
       "      Washington  West Virginia  Wisconsin  Wyoming  Min Wages Dummies  \n",
       "2978           0              0          0        1                  0  \n",
       "2979           0              0          0        1                  0  \n",
       "2980           0              0          0        1                  0  \n",
       "2981           0              0          0        1                  0  \n",
       "2982           0              0          0        1                  0  \n",
       "\n",
       "[5 rows x 54 columns]"
      ]
     },
     "execution_count": 32,
     "metadata": {},
     "output_type": "execute_result"
    }
   ],
   "source": [
    "# the target is panda series of the dependent variable\n",
    "target = df['Life Expectancy'] \n",
    "\n",
    "# make dataframe of just feature, or independent variables\n",
    "features = df.drop(columns=['Life Expectancy']) # taking target out of dataframe\n",
    "\n",
    "# look at features dataframe\n",
    "features.tail()"
   ]
  },
  {
   "cell_type": "code",
   "execution_count": 33,
   "metadata": {},
   "outputs": [],
   "source": [
    "# split the data to train and test our model\n",
    "X_train, X_test, y_train, y_test = train_test_split(features, target, random_state=0,test_size=0.2)\n"
   ]
  },
  {
   "cell_type": "code",
   "execution_count": 34,
   "metadata": {},
   "outputs": [
    {
     "name": "stdout",
     "output_type": "stream",
     "text": [
      " Length of  \n",
      " Feautures Training Data: 2386 \n",
      " Features Test Data: 597 \n",
      " Target Training Data: 2386 \n",
      " Target Test Data: 597\n"
     ]
    }
   ],
   "source": [
    "# check the length of our train and test dataframes\n",
    "\n",
    "print(' Length of ',\n",
    "    '\\n Feautures Training Data:',len(X_train),\n",
    "    '\\n Features Test Data:', len(X_test), \n",
    "    '\\n Target Training Data:', len(y_train),\n",
    "    '\\n Target Test Data:', len(y_test))"
   ]
  },
  {
   "cell_type": "markdown",
   "metadata": {},
   "source": [
    "## Ordinary Least Squares"
   ]
  },
  {
   "cell_type": "markdown",
   "metadata": {},
   "source": [
    "Using the sum of the squared differences between our features (the observed dependent features), such as percent of the population that are smokers per county and percent of that population that is obese, we calculated the error."
   ]
  },
  {
   "cell_type": "code",
   "execution_count": 35,
   "metadata": {},
   "outputs": [],
   "source": [
    "# set the X_train dataframe to a variable to build a linear regression model with\n",
    "# predictors = X_train #features\n",
    "\n",
    "# # add constant term to predictors\n",
    "# predictors_int = sm.add_constant(predictors)\n",
    "\n",
    "# # make a model based on OLS\n",
    "# model = sm.OLS(y_train,predictors_int).fit()#sm.OLS(df['Life Expectancy'],predictors_int).fit()\n",
    "\n",
    "# # print out a summary of the model\n",
    "# model.summary()"
   ]
  },
  {
   "cell_type": "markdown",
   "metadata": {},
   "source": [
    "# r-sq is 0.799, which is very good! \n",
    "\n",
    "r-sq = \"translates in the percent of variance explained by the model. The remaining percentage represents the variance explained by error, the E term, that which the model and predictors fail to grasp.\"\n",
    "\n",
    "adj. r-sq is 0.794, which is also great.\n",
    "\n",
    "From our initial model readout above, it looks like log_food_stamps, AZ, CO, CT, FL, GA, ME, MA, MS, RI, TX, UT all have p-values > 0.05, meaning that there is no statistically significant relationship between these variables and Life Expectancy. \n",
    "\n",
    "**later we might want to take out the above ^ features and see if we can get our p-value higher**\n",
    "\n",
    "We have slight negative skew at -0.285 and we are leptokurtic at 5.619, the latter meaning that we have some outlier data points, or occasional values exceeding (in terms of standard deviations from the mean) what is predicted by the normal distribution."
   ]
  },
  {
   "cell_type": "code",
   "execution_count": 36,
   "metadata": {},
   "outputs": [],
   "source": [
    "# predict new y values\n",
    "# y_ols_pred = model.predict(sm.add_constant(X_test))\n"
   ]
  },
  {
   "cell_type": "code",
   "execution_count": 37,
   "metadata": {
    "scrolled": true
   },
   "outputs": [],
   "source": [
    "# plot the y-values our model (based on the training data) predicted vs the y-values from our test data to evaluate our model's performance\n",
    "# plt.scatter(y_test, y_ols_pred, alpha=0.4)\n",
    "# plt.xlabel('Test Y-Values')\n",
    "# plt.ylabel('Predicted Y-Values from Baseline Model')"
   ]
  },
  {
   "cell_type": "markdown",
   "metadata": {},
   "source": [
    "^ why are we doing this above and why are we doing regression with scikit learn and statsmodel? Let's just use 1. I vote for scikit learn. - AL\n"
   ]
  },
  {
   "cell_type": "markdown",
   "metadata": {},
   "source": [
    "## Scikit-learn regression"
   ]
  },
  {
   "cell_type": "code",
   "execution_count": 38,
   "metadata": {},
   "outputs": [
    {
     "data": {
      "text/plain": [
       "LinearRegression(copy_X=True, fit_intercept=True, n_jobs=1, normalize=False)"
      ]
     },
     "execution_count": 38,
     "metadata": {},
     "output_type": "execute_result"
    }
   ],
   "source": [
    "# set the y variable to Life Expectancy\n",
    "y = df['Life Expectancy']\n",
    "\n",
    "# set the linear regression method to a variable\n",
    "linreg = LinearRegression()\n",
    "\n",
    "# fit a linear regression to the predictors (features) and life expectancy\n",
    "linreg.fit(X_train, y_train)"
   ]
  },
  {
   "cell_type": "code",
   "execution_count": 39,
   "metadata": {},
   "outputs": [
    {
     "name": "stdout",
     "output_type": "stream",
     "text": [
      "[-5.15420169e-01 -2.72497735e-01 -1.01091241e-01  2.66770325e-03\n",
      " -3.96522465e+10 -3.96522465e+10  2.90474718e-01 -3.96522465e+10\n",
      " -3.96522465e+10 -3.96522465e+10  9.72876430e-01 -3.96522465e+10\n",
      "  1.41429901e-02  9.52096611e-01  6.84298515e-01  8.15558076e-01\n",
      "  1.02209473e+00  1.16933823e+00  8.40753555e-01  6.28746033e-01\n",
      "  1.97726965e-01 -3.96522465e+10  4.30167198e-01 -3.96522465e+10\n",
      "  1.29209709e+00  1.38575363e+00 -1.52824402e-01  9.38953400e-01\n",
      "  4.34665680e-01  1.05021095e+00  4.92664337e-01  7.33026862e-01\n",
      "  4.29213524e-01 -3.96522465e+10  8.58562469e-01  4.07265663e-01\n",
      "  1.16956902e+00 -3.96522465e+10  2.16690063e-01 -3.96522465e+10\n",
      "  1.00573635e+00 -3.96522465e+10  2.15647697e-01  9.47994232e-01\n",
      "  2.36842155e-01  1.29531860e-01  4.80136871e-02  5.27268887e-01\n",
      "  4.52423096e-01 -3.96522465e+10  6.92344666e-01  1.19766808e+00\n",
      "  3.89728069e-01  3.96522465e+10] \n",
      " There are 54 coefficients for the linear regression \n",
      " the y-intercept is  -0.6100600790028065\n",
      "The model is a  <class 'sklearn.linear_model.base.LinearRegression'>\n",
      "The R-squared value is  0.7987305146787826 which maps to the OLS R-squared value of .808\n"
     ]
    }
   ],
   "source": [
    "# get coefficients of the linear regression\n",
    "print(linreg.coef_ ,  '\\n There are',len(linreg.coef_),'coefficients for the linear regression','\\n the y-intercept is ', linreg.intercept_)\n",
    "print('The model is a ', type(linreg))\n",
    "print('The R-squared value is ', linreg.score(X_train, y_train), 'which maps to the OLS R-squared value of .808')\n"
   ]
  },
  {
   "cell_type": "code",
   "execution_count": 40,
   "metadata": {},
   "outputs": [],
   "source": [
    "# predict the y value from the linear regression model\n",
    "y_hat_train = linreg.predict(X_train)\n",
    "y_hat_test = linreg.predict(X_test)"
   ]
  },
  {
   "cell_type": "code",
   "execution_count": 41,
   "metadata": {},
   "outputs": [],
   "source": [
    "# look at the residuals\n",
    "train_residuals = y_hat_train - y_train\n",
    "test_residuals = y_hat_test - y_test"
   ]
  },
  {
   "cell_type": "code",
   "execution_count": 42,
   "metadata": {
    "scrolled": true
   },
   "outputs": [
    {
     "name": "stdout",
     "output_type": "stream",
     "text": [
      "Train Mean Squarred Error: 0.201118626937046\n",
      "Test Mean Squarred Error: 0.17353431321031754\n"
     ]
    }
   ],
   "source": [
    "from sklearn.metrics import mean_squared_error\n",
    "\n",
    "# calculate the RMSE\n",
    "train_mse = mean_squared_error(y_train, y_hat_train)\n",
    "test_mse = mean_squared_error(y_test, y_hat_test)\n",
    "print('Train Mean Squarred Error:', train_mse)\n",
    "print('Test Mean Squarred Error:', test_mse)"
   ]
  },
  {
   "cell_type": "code",
   "execution_count": 43,
   "metadata": {},
   "outputs": [
    {
     "data": {
      "text/plain": [
       "Text(0,0.5,'Predicted Values')"
      ]
     },
     "execution_count": 43,
     "metadata": {},
     "output_type": "execute_result"
    },
    {
     "data": {
      "image/png": "[encoded data removed]",
      "text/plain": [
       "<Figure size 432x288 with 1 Axes>"
      ]
     },
     "metadata": {},
     "output_type": "display_data"
    }
   ],
   "source": [
    "# plot the predicted y-value vs the true-value \n",
    "# diff between y-hat and true-y = the residuals\n",
    "plt.scatter(y_test, y_hat_test, alpha = 0.5)\n",
    "plt.xlabel('True Values')\n",
    "plt.ylabel('Predicted Values')"
   ]
  },
  {
   "cell_type": "markdown",
   "metadata": {},
   "source": [
    "# Feature Selection"
   ]
  },
  {
   "cell_type": "markdown",
   "metadata": {},
   "source": [
    "## Wrapper Method: Recursive Feature Elimination \n",
    "After the initial scikit-Learn linear regression. We started to do some feature selection, starting with the wrapper method, which picks the top *n* features from your model.\n",
    "\n",
    "From [documentation](https://scikit-learn.org/stable/modules/generated/sklearn.feature_selection.RFE.html#sklearn.feature_selection.RFE): \"...the goal of recursive feature elimination (RFE) is to select features by recursively considering smaller and smaller sets of features. First, the estimator is trained on the initial set of features and the importance of each feature is obtained either through a coef_ attribute or through a feature_importances_ attribute. Then, the least important features are pruned from current set of features. That procedure is recursively repeated on the pruned set until the desired number of features to select is eventually reached.\""
   ]
  },
  {
   "cell_type": "code",
   "execution_count": 80,
   "metadata": {},
   "outputs": [],
   "source": [
    "linreg = LinearRegression()\n",
    "selector = RFE(linreg, n_features_to_select = 54)\n",
    "selector = selector.fit(X_train, y_train)"
   ]
  },
  {
   "cell_type": "code",
   "execution_count": 81,
   "metadata": {},
   "outputs": [
    {
     "data": {
      "text/plain": [
       "array([ True,  True,  True,  True,  True,  True,  True,  True,  True,\n",
       "        True,  True,  True,  True,  True,  True,  True,  True,  True,\n",
       "        True,  True,  True,  True,  True,  True,  True,  True,  True,\n",
       "        True,  True,  True,  True,  True,  True,  True,  True,  True,\n",
       "        True,  True,  True,  True,  True,  True,  True,  True,  True,\n",
       "        True,  True,  True,  True,  True,  True,  True,  True,  True])"
      ]
     },
     "execution_count": 81,
     "metadata": {},
     "output_type": "execute_result"
    }
   ],
   "source": [
    "selector.support_ "
   ]
  },
  {
   "cell_type": "code",
   "execution_count": 82,
   "metadata": {},
   "outputs": [],
   "source": [
    "# Fit the linear regression model again using the 5 columns selected\n",
    "selected_columns = X_train.columns[selector.support_ ]\n",
    "model = linreg.fit(X_train[selected_columns],y_train)"
   ]
  },
  {
   "cell_type": "code",
   "execution_count": 83,
   "metadata": {},
   "outputs": [],
   "source": [
    "# predict y-hat using new model\n",
    "yhat = model.predict(X_train[selected_columns])"
   ]
  },
  {
   "cell_type": "code",
   "execution_count": 84,
   "metadata": {},
   "outputs": [],
   "source": [
    "# Comparing metrics w/baseline model\n",
    "SS_Residual = np.sum((y_train-yhat)**2)\n",
    "SS_Total = np.sum((y_train-np.mean(y_train))**2)\n",
    "r_squared = 1 - (float(SS_Residual))/SS_Total\n",
    "adjusted_r_squared = 1 - (1-r_squared)*(len(y_train)-1)/(len(y_train)-X_train[selected_columns].shape[1]-1)\n",
    "train_mse = mean_squared_error(y_train, yhat)"
   ]
  },
  {
   "cell_type": "code",
   "execution_count": 85,
   "metadata": {},
   "outputs": [
    {
     "name": "stdout",
     "output_type": "stream",
     "text": [
      "R Squarred Error: 0.7987305146787826\n",
      "Adjusted R Squarred Error: 0.7940679011192178\n",
      "Train Mean Squarred Error: 0.201118626937046\n"
     ]
    }
   ],
   "source": [
    "print('R Squarred Error:', r_squared)\n",
    "print('Adjusted R Squarred Error:', adjusted_r_squared)\n",
    "print('Train Mean Squarred Error:', train_mse)"
   ]
  },
  {
   "cell_type": "markdown",
   "metadata": {},
   "source": [
    "We can see that when we only use the top 5 features for our model our r-squared value significantly decreases from ~ 80% to ~ 60%, meaning that we want to include more features than just the top 5.\n",
    "\n",
    "After playing around a bit with the *n* value, we found that n = 54 gave us the highest r-squared and adjusted r-squared value (0.7987306319927164 and 0.7940680211508488, respectively). Since we know that our df only has 54 columns, this value doesn't really tell us much about how best features. It's essentially saying that the 54 features we have are the best ones to use (ie our baseline model is best so far).\n"
   ]
  },
  {
   "cell_type": "markdown",
   "metadata": {},
   "source": [
    "## Filter Method 1: Variance Threshold"
   ]
  },
  {
   "cell_type": "markdown",
   "metadata": {},
   "source": [
    "\"is a simple baseline approach to feature selection. It removes all features whose variance doesn’t meet some threshold. By default, it removes all zero-variance features, i.e. features that have the same value in all samples.\" - [Documentation](https://scikit-learn.org/stable/modules/feature_selection.html#variance-threshold)"
   ]
  },
  {
   "cell_type": "code",
   "execution_count": 68,
   "metadata": {},
   "outputs": [],
   "source": [
    "from sklearn.feature_selection import VarianceThreshold\n"
   ]
  },
  {
   "cell_type": "code",
   "execution_count": 69,
   "metadata": {},
   "outputs": [],
   "source": [
    "thresholder = VarianceThreshold(threshold=0)\n",
    "\n",
    "def variance_threshold_selector(data, threshold=0):\n",
    "    selector = VarianceThreshold(threshold)\n",
    "    selector.fit(data)\n",
    "    return data[data.columns[selector.get_support(indices=True)]]"
   ]
  },
  {
   "cell_type": "code",
   "execution_count": 70,
   "metadata": {},
   "outputs": [],
   "source": [
    "features_selected_train = variance_threshold_selector(X_train)\n"
   ]
  },
  {
   "cell_type": "code",
   "execution_count": 71,
   "metadata": {},
   "outputs": [
    {
     "data": {
      "text/html": [
       "<div>\n",
       "<style scoped>\n",
       "    .dataframe tbody tr th:only-of-type {\n",
       "        vertical-align: middle;\n",
       "    }\n",
       "\n",
       "    .dataframe tbody tr th {\n",
       "        vertical-align: top;\n",
       "    }\n",
       "\n",
       "    .dataframe thead th {\n",
       "        text-align: right;\n",
       "    }\n",
       "</style>\n",
       "<table border=\"1\" class=\"dataframe\">\n",
       "  <thead>\n",
       "    <tr style=\"text-align: right;\">\n",
       "      <th></th>\n",
       "      <th>Percent Smokers</th>\n",
       "      <th>Percent Obese</th>\n",
       "      <th>Unemployment_rate_2010</th>\n",
       "      <th>log_food_stamps</th>\n",
       "      <th>Alaska</th>\n",
       "      <th>Arizona</th>\n",
       "      <th>Arkansas</th>\n",
       "      <th>California</th>\n",
       "      <th>Colorado</th>\n",
       "      <th>Connecticut</th>\n",
       "      <th>...</th>\n",
       "      <th>Tennessee</th>\n",
       "      <th>Texas</th>\n",
       "      <th>Utah</th>\n",
       "      <th>Vermont</th>\n",
       "      <th>Virginia</th>\n",
       "      <th>Washington</th>\n",
       "      <th>West Virginia</th>\n",
       "      <th>Wisconsin</th>\n",
       "      <th>Wyoming</th>\n",
       "      <th>Min Wages Dummies</th>\n",
       "    </tr>\n",
       "  </thead>\n",
       "  <tbody>\n",
       "    <tr>\n",
       "      <th>369</th>\n",
       "      <td>0.962157</td>\n",
       "      <td>0.644085</td>\n",
       "      <td>0.069035</td>\n",
       "      <td>-0.158180</td>\n",
       "      <td>0</td>\n",
       "      <td>0</td>\n",
       "      <td>0</td>\n",
       "      <td>0</td>\n",
       "      <td>0</td>\n",
       "      <td>0</td>\n",
       "      <td>...</td>\n",
       "      <td>0</td>\n",
       "      <td>0</td>\n",
       "      <td>0</td>\n",
       "      <td>0</td>\n",
       "      <td>0</td>\n",
       "      <td>0</td>\n",
       "      <td>0</td>\n",
       "      <td>0</td>\n",
       "      <td>0</td>\n",
       "      <td>0</td>\n",
       "    </tr>\n",
       "    <tr>\n",
       "      <th>1313</th>\n",
       "      <td>-1.248202</td>\n",
       "      <td>-0.680676</td>\n",
       "      <td>-0.688419</td>\n",
       "      <td>0.751310</td>\n",
       "      <td>0</td>\n",
       "      <td>0</td>\n",
       "      <td>0</td>\n",
       "      <td>0</td>\n",
       "      <td>0</td>\n",
       "      <td>0</td>\n",
       "      <td>...</td>\n",
       "      <td>0</td>\n",
       "      <td>0</td>\n",
       "      <td>0</td>\n",
       "      <td>0</td>\n",
       "      <td>0</td>\n",
       "      <td>0</td>\n",
       "      <td>0</td>\n",
       "      <td>0</td>\n",
       "      <td>0</td>\n",
       "      <td>0</td>\n",
       "    </tr>\n",
       "    <tr>\n",
       "      <th>1628</th>\n",
       "      <td>-0.981016</td>\n",
       "      <td>-0.278517</td>\n",
       "      <td>-1.635237</td>\n",
       "      <td>-1.058666</td>\n",
       "      <td>0</td>\n",
       "      <td>0</td>\n",
       "      <td>0</td>\n",
       "      <td>0</td>\n",
       "      <td>0</td>\n",
       "      <td>0</td>\n",
       "      <td>...</td>\n",
       "      <td>0</td>\n",
       "      <td>0</td>\n",
       "      <td>0</td>\n",
       "      <td>0</td>\n",
       "      <td>0</td>\n",
       "      <td>0</td>\n",
       "      <td>0</td>\n",
       "      <td>0</td>\n",
       "      <td>0</td>\n",
       "      <td>0</td>\n",
       "    </tr>\n",
       "    <tr>\n",
       "      <th>2696</th>\n",
       "      <td>-0.665250</td>\n",
       "      <td>-1.390370</td>\n",
       "      <td>-0.783101</td>\n",
       "      <td>0.156292</td>\n",
       "      <td>0</td>\n",
       "      <td>0</td>\n",
       "      <td>0</td>\n",
       "      <td>0</td>\n",
       "      <td>0</td>\n",
       "      <td>0</td>\n",
       "      <td>...</td>\n",
       "      <td>0</td>\n",
       "      <td>0</td>\n",
       "      <td>0</td>\n",
       "      <td>1</td>\n",
       "      <td>0</td>\n",
       "      <td>0</td>\n",
       "      <td>0</td>\n",
       "      <td>0</td>\n",
       "      <td>0</td>\n",
       "      <td>0</td>\n",
       "    </tr>\n",
       "    <tr>\n",
       "      <th>1275</th>\n",
       "      <td>0.063440</td>\n",
       "      <td>-0.609707</td>\n",
       "      <td>0.258399</td>\n",
       "      <td>0.315317</td>\n",
       "      <td>0</td>\n",
       "      <td>0</td>\n",
       "      <td>0</td>\n",
       "      <td>0</td>\n",
       "      <td>0</td>\n",
       "      <td>0</td>\n",
       "      <td>...</td>\n",
       "      <td>0</td>\n",
       "      <td>0</td>\n",
       "      <td>0</td>\n",
       "      <td>0</td>\n",
       "      <td>0</td>\n",
       "      <td>0</td>\n",
       "      <td>0</td>\n",
       "      <td>0</td>\n",
       "      <td>0</td>\n",
       "      <td>0</td>\n",
       "    </tr>\n",
       "  </tbody>\n",
       "</table>\n",
       "<p>5 rows × 54 columns</p>\n",
       "</div>"
      ],
      "text/plain": [
       "      Percent Smokers  Percent Obese  Unemployment_rate_2010  log_food_stamps  \\\n",
       "369          0.962157       0.644085                0.069035        -0.158180   \n",
       "1313        -1.248202      -0.680676               -0.688419         0.751310   \n",
       "1628        -0.981016      -0.278517               -1.635237        -1.058666   \n",
       "2696        -0.665250      -1.390370               -0.783101         0.156292   \n",
       "1275         0.063440      -0.609707                0.258399         0.315317   \n",
       "\n",
       "      Alaska  Arizona  Arkansas  California  Colorado  Connecticut  \\\n",
       "369        0        0         0           0         0            0   \n",
       "1313       0        0         0           0         0            0   \n",
       "1628       0        0         0           0         0            0   \n",
       "2696       0        0         0           0         0            0   \n",
       "1275       0        0         0           0         0            0   \n",
       "\n",
       "            ...          Tennessee  Texas  Utah  Vermont  Virginia  \\\n",
       "369         ...                  0      0     0        0         0   \n",
       "1313        ...                  0      0     0        0         0   \n",
       "1628        ...                  0      0     0        0         0   \n",
       "2696        ...                  0      0     0        1         0   \n",
       "1275        ...                  0      0     0        0         0   \n",
       "\n",
       "      Washington  West Virginia  Wisconsin  Wyoming  Min Wages Dummies  \n",
       "369            0              0          0        0                  0  \n",
       "1313           0              0          0        0                  0  \n",
       "1628           0              0          0        0                  0  \n",
       "2696           0              0          0        0                  0  \n",
       "1275           0              0          0        0                  0  \n",
       "\n",
       "[5 rows x 54 columns]"
      ]
     },
     "execution_count": 71,
     "metadata": {},
     "output_type": "execute_result"
    }
   ],
   "source": [
    "features_selected_train.head()"
   ]
  },
  {
   "cell_type": "code",
   "execution_count": 72,
   "metadata": {},
   "outputs": [],
   "source": [
    "# now that we have tossed out any features with low variance, let's run our model again\n",
    "# to see if we can get higher metrics\n",
    "\n",
    "linreg = LinearRegression()\n",
    "fitting_model = linreg.fit(features_selected_train, y_train)\n",
    "\n",
    "y_hat = linreg.predict(features_selected_train)\n"
   ]
  },
  {
   "cell_type": "code",
   "execution_count": 75,
   "metadata": {},
   "outputs": [],
   "source": [
    "SS_Residual = np.sum((y_train-y_hat)**2)\n",
    "SS_Total = np.sum((y_train-np.mean(y_train))**2)\n",
    "r_squared = 1 - (float(SS_Residual))/SS_Total\n",
    "adjusted_r_squared = 1 - (1-r_squared)*(len(y_train)-1)/(len(y_train)-features_selected_train.shape[1]-1)\n",
    "train_mse_filter = mean_squared_error(y_train, y_hat)"
   ]
  },
  {
   "cell_type": "code",
   "execution_count": 76,
   "metadata": {},
   "outputs": [
    {
     "name": "stdout",
     "output_type": "stream",
     "text": [
      "R Squarred Error: 0.7987305146787826\n",
      "Adjusted R Squarred Error: 0.7940679011192178\n",
      "Train Mean Squarred Error: 0.201118626937046\n"
     ]
    }
   ],
   "source": [
    "print('R Squarred Error:', r_squared)\n",
    "print('Adjusted R Squarred Error:', adjusted_r_squared)\n",
    "print('Train Mean Squarred Error:', train_mse_filter)"
   ]
  },
  {
   "cell_type": "code",
   "execution_count": 336,
   "metadata": {},
   "outputs": [],
   "source": [
    "## ORIGINAL ANALYSIS, WITH THRESHOLD OF 0.5\n",
    "# we can see that filtering out low-variance features actually made our model worse in terms\n",
    "# of r-sq and adjusted r-sq, but we got a higher RMSE than our base model"
   ]
  },
  {
   "cell_type": "code",
   "execution_count": 444,
   "metadata": {},
   "outputs": [],
   "source": [
    "## SUBSEQUENT ANALYSIS WITH THRESHOLD OF 0\n",
    "# after playing around with some different threshold values, we found that having no threshold\n",
    "# still gave us the best r-sq and adjusted r-sq values, even though these had a inverse relationship\n",
    "# with our RMSE value(ie our RMSE lowered the higher our r-sq and adj. r-sq values got)\n",
    "# This ^ indicates that our original model is still our best"
   ]
  },
  {
   "cell_type": "markdown",
   "metadata": {},
   "source": [
    "## Filter Method 2: Univariate Feature Selection"
   ]
  },
  {
   "cell_type": "markdown",
   "metadata": {},
   "source": [
    "\"Univariate feature selection works by selecting the best features based on univariate statistical tests....removes all but the  highest scoring features\" - [Documentation](https://scikit-learn.org/stable/modules/feature_selection.html#univariate-feature-selection)\n",
    "\n",
    "Returns scores and p-values of features"
   ]
  },
  {
   "cell_type": "code",
   "execution_count": 105,
   "metadata": {},
   "outputs": [],
   "source": [
    "from sklearn.feature_selection import SelectKBest\n",
    "from sklearn.feature_selection import f_regression, mutual_info_regression"
   ]
  },
  {
   "cell_type": "code",
   "execution_count": 106,
   "metadata": {},
   "outputs": [],
   "source": [
    "def information_selector(X, y, scoring, k=5):\n",
    "    selector = SelectKBest(score_func=scoring, k=k)\n",
    "    selector.fit(X, y)\n",
    "    return X[X.columns[selector.get_support(indices=True)]]"
   ]
  },
  {
   "cell_type": "code",
   "execution_count": 107,
   "metadata": {},
   "outputs": [],
   "source": [
    "features_selected_train = information_selector(X_train, y_train, mutual_info_regression, k=26)\n"
   ]
  },
  {
   "cell_type": "code",
   "execution_count": 108,
   "metadata": {},
   "outputs": [],
   "source": [
    "linreg = LinearRegression()\n",
    "fitting_model = linreg.fit(features_selected_train, y_train)\n",
    "\n",
    "y_hat = linreg.predict(features_selected_train)"
   ]
  },
  {
   "cell_type": "code",
   "execution_count": 114,
   "metadata": {},
   "outputs": [],
   "source": [
    "SS_Residual = np.sum((y_train-y_hat)**2)\n",
    "SS_Total = np.sum((y_train-np.mean(y_train))**2)\n",
    "r_squared = 1 - (float(SS_Residual))/SS_Total\n",
    "adjusted_r_squared = 1 - (1-r_squared)*(len(y_train)-1)/(len(y_train)-features_selected_train.shape[1]-1)\n",
    "train_mse_filter = mean_squared_error(y_train, y_hat)"
   ]
  },
  {
   "cell_type": "code",
   "execution_count": 117,
   "metadata": {},
   "outputs": [
    {
     "name": "stdout",
     "output_type": "stream",
     "text": [
      "R Squarred Error: 0.7504989437248331\n",
      "Adjusted R Squarred Error: 0.7477490380600792\n",
      "Train Mean Squarred Error: 0.24931404667389212\n",
      "Train Mean Squarred Error: 0.24931404667389212\n"
     ]
    }
   ],
   "source": [
    "print('R Squarred Error:', r_squared)\n",
    "print('Adjusted R Squarred Error:', adjusted_r_squared)\n",
    "print('Train Mean Squarred Error:', train_mse_filter)\n",
    "print('Train Mean Squarred Error:', train_mse_filter)"
   ]
  },
  {
   "cell_type": "code",
   "execution_count": 496,
   "metadata": {},
   "outputs": [],
   "source": [
    "# Here, we got pretty close to some pretty good metrics. This is the highest RMSE we've seen, but\n",
    "# our original model still has the highest r-sq and adj. r-sq values. \n",
    "\n",
    "# After toggling our k-value a bit, we found that k=26 gave us the best results."
   ]
  },
  {
   "cell_type": "markdown",
   "metadata": {},
   "source": [
    "## Polynomial Terms"
   ]
  },
  {
   "cell_type": "code",
   "execution_count": 118,
   "metadata": {},
   "outputs": [
    {
     "data": {
      "text/html": [
       "<div>\n",
       "<style scoped>\n",
       "    .dataframe tbody tr th:only-of-type {\n",
       "        vertical-align: middle;\n",
       "    }\n",
       "\n",
       "    .dataframe tbody tr th {\n",
       "        vertical-align: top;\n",
       "    }\n",
       "\n",
       "    .dataframe thead th {\n",
       "        text-align: right;\n",
       "    }\n",
       "</style>\n",
       "<table border=\"1\" class=\"dataframe\">\n",
       "  <thead>\n",
       "    <tr style=\"text-align: right;\">\n",
       "      <th></th>\n",
       "      <th>Percent Smokers</th>\n",
       "      <th>Percent Obese</th>\n",
       "      <th>Unemployment_rate_2010</th>\n",
       "      <th>log_food_stamps</th>\n",
       "      <th>Alaska</th>\n",
       "      <th>Arizona</th>\n",
       "      <th>Arkansas</th>\n",
       "      <th>California</th>\n",
       "      <th>Colorado</th>\n",
       "      <th>Connecticut</th>\n",
       "      <th>...</th>\n",
       "      <th>West Virginia^2</th>\n",
       "      <th>West Virginia Wisconsin</th>\n",
       "      <th>West Virginia Wyoming</th>\n",
       "      <th>West Virginia Min Wages Dummies</th>\n",
       "      <th>Wisconsin^2</th>\n",
       "      <th>Wisconsin Wyoming</th>\n",
       "      <th>Wisconsin Min Wages Dummies</th>\n",
       "      <th>Wyoming^2</th>\n",
       "      <th>Wyoming Min Wages Dummies</th>\n",
       "      <th>Min Wages Dummies^2</th>\n",
       "    </tr>\n",
       "  </thead>\n",
       "  <tbody>\n",
       "    <tr>\n",
       "      <th>0</th>\n",
       "      <td>0.962157</td>\n",
       "      <td>0.644085</td>\n",
       "      <td>0.069035</td>\n",
       "      <td>-0.158180</td>\n",
       "      <td>0.0</td>\n",
       "      <td>0.0</td>\n",
       "      <td>0.0</td>\n",
       "      <td>0.0</td>\n",
       "      <td>0.0</td>\n",
       "      <td>0.0</td>\n",
       "      <td>...</td>\n",
       "      <td>0.0</td>\n",
       "      <td>0.0</td>\n",
       "      <td>0.0</td>\n",
       "      <td>0.0</td>\n",
       "      <td>0.0</td>\n",
       "      <td>0.0</td>\n",
       "      <td>0.0</td>\n",
       "      <td>0.0</td>\n",
       "      <td>0.0</td>\n",
       "      <td>0.0</td>\n",
       "    </tr>\n",
       "    <tr>\n",
       "      <th>1</th>\n",
       "      <td>-1.248202</td>\n",
       "      <td>-0.680676</td>\n",
       "      <td>-0.688419</td>\n",
       "      <td>0.751310</td>\n",
       "      <td>0.0</td>\n",
       "      <td>0.0</td>\n",
       "      <td>0.0</td>\n",
       "      <td>0.0</td>\n",
       "      <td>0.0</td>\n",
       "      <td>0.0</td>\n",
       "      <td>...</td>\n",
       "      <td>0.0</td>\n",
       "      <td>0.0</td>\n",
       "      <td>0.0</td>\n",
       "      <td>0.0</td>\n",
       "      <td>0.0</td>\n",
       "      <td>0.0</td>\n",
       "      <td>0.0</td>\n",
       "      <td>0.0</td>\n",
       "      <td>0.0</td>\n",
       "      <td>0.0</td>\n",
       "    </tr>\n",
       "    <tr>\n",
       "      <th>2</th>\n",
       "      <td>-0.981016</td>\n",
       "      <td>-0.278517</td>\n",
       "      <td>-1.635237</td>\n",
       "      <td>-1.058666</td>\n",
       "      <td>0.0</td>\n",
       "      <td>0.0</td>\n",
       "      <td>0.0</td>\n",
       "      <td>0.0</td>\n",
       "      <td>0.0</td>\n",
       "      <td>0.0</td>\n",
       "      <td>...</td>\n",
       "      <td>0.0</td>\n",
       "      <td>0.0</td>\n",
       "      <td>0.0</td>\n",
       "      <td>0.0</td>\n",
       "      <td>0.0</td>\n",
       "      <td>0.0</td>\n",
       "      <td>0.0</td>\n",
       "      <td>0.0</td>\n",
       "      <td>0.0</td>\n",
       "      <td>0.0</td>\n",
       "    </tr>\n",
       "    <tr>\n",
       "      <th>3</th>\n",
       "      <td>-0.665250</td>\n",
       "      <td>-1.390370</td>\n",
       "      <td>-0.783101</td>\n",
       "      <td>0.156292</td>\n",
       "      <td>0.0</td>\n",
       "      <td>0.0</td>\n",
       "      <td>0.0</td>\n",
       "      <td>0.0</td>\n",
       "      <td>0.0</td>\n",
       "      <td>0.0</td>\n",
       "      <td>...</td>\n",
       "      <td>0.0</td>\n",
       "      <td>0.0</td>\n",
       "      <td>0.0</td>\n",
       "      <td>0.0</td>\n",
       "      <td>0.0</td>\n",
       "      <td>0.0</td>\n",
       "      <td>0.0</td>\n",
       "      <td>0.0</td>\n",
       "      <td>0.0</td>\n",
       "      <td>0.0</td>\n",
       "    </tr>\n",
       "    <tr>\n",
       "      <th>4</th>\n",
       "      <td>0.063440</td>\n",
       "      <td>-0.609707</td>\n",
       "      <td>0.258399</td>\n",
       "      <td>0.315317</td>\n",
       "      <td>0.0</td>\n",
       "      <td>0.0</td>\n",
       "      <td>0.0</td>\n",
       "      <td>0.0</td>\n",
       "      <td>0.0</td>\n",
       "      <td>0.0</td>\n",
       "      <td>...</td>\n",
       "      <td>0.0</td>\n",
       "      <td>0.0</td>\n",
       "      <td>0.0</td>\n",
       "      <td>0.0</td>\n",
       "      <td>0.0</td>\n",
       "      <td>0.0</td>\n",
       "      <td>0.0</td>\n",
       "      <td>0.0</td>\n",
       "      <td>0.0</td>\n",
       "      <td>0.0</td>\n",
       "    </tr>\n",
       "  </tbody>\n",
       "</table>\n",
       "<p>5 rows × 1539 columns</p>\n",
       "</div>"
      ],
      "text/plain": [
       "   Percent Smokers  Percent Obese  Unemployment_rate_2010  log_food_stamps  \\\n",
       "0         0.962157       0.644085                0.069035        -0.158180   \n",
       "1        -1.248202      -0.680676               -0.688419         0.751310   \n",
       "2        -0.981016      -0.278517               -1.635237        -1.058666   \n",
       "3        -0.665250      -1.390370               -0.783101         0.156292   \n",
       "4         0.063440      -0.609707                0.258399         0.315317   \n",
       "\n",
       "   Alaska  Arizona  Arkansas  California  Colorado  Connecticut  \\\n",
       "0     0.0      0.0       0.0         0.0       0.0          0.0   \n",
       "1     0.0      0.0       0.0         0.0       0.0          0.0   \n",
       "2     0.0      0.0       0.0         0.0       0.0          0.0   \n",
       "3     0.0      0.0       0.0         0.0       0.0          0.0   \n",
       "4     0.0      0.0       0.0         0.0       0.0          0.0   \n",
       "\n",
       "          ...           West Virginia^2  West Virginia Wisconsin  \\\n",
       "0         ...                       0.0                      0.0   \n",
       "1         ...                       0.0                      0.0   \n",
       "2         ...                       0.0                      0.0   \n",
       "3         ...                       0.0                      0.0   \n",
       "4         ...                       0.0                      0.0   \n",
       "\n",
       "   West Virginia Wyoming  West Virginia Min Wages Dummies  Wisconsin^2  \\\n",
       "0                    0.0                              0.0          0.0   \n",
       "1                    0.0                              0.0          0.0   \n",
       "2                    0.0                              0.0          0.0   \n",
       "3                    0.0                              0.0          0.0   \n",
       "4                    0.0                              0.0          0.0   \n",
       "\n",
       "   Wisconsin Wyoming  Wisconsin Min Wages Dummies  Wyoming^2  \\\n",
       "0                0.0                          0.0        0.0   \n",
       "1                0.0                          0.0        0.0   \n",
       "2                0.0                          0.0        0.0   \n",
       "3                0.0                          0.0        0.0   \n",
       "4                0.0                          0.0        0.0   \n",
       "\n",
       "   Wyoming Min Wages Dummies  Min Wages Dummies^2  \n",
       "0                        0.0                  0.0  \n",
       "1                        0.0                  0.0  \n",
       "2                        0.0                  0.0  \n",
       "3                        0.0                  0.0  \n",
       "4                        0.0                  0.0  \n",
       "\n",
       "[5 rows x 1539 columns]"
      ]
     },
     "execution_count": 118,
     "metadata": {},
     "output_type": "execute_result"
    }
   ],
   "source": [
    "poly = preprocessing.PolynomialFeatures(degree=2, interaction_only=False, include_bias=False)\n",
    "features_train = pd.DataFrame(poly.fit_transform(X_train), columns=poly.get_feature_names(X_train.columns))\n",
    "features_train.head()"
   ]
  },
  {
   "cell_type": "code",
   "execution_count": 119,
   "metadata": {},
   "outputs": [],
   "source": [
    "linreg = LinearRegression()\n",
    "fitting_model = linreg.fit(features_train, y_train)\n",
    "\n",
    "y_hat = linreg.predict(features_train)"
   ]
  },
  {
   "cell_type": "code",
   "execution_count": 120,
   "metadata": {},
   "outputs": [],
   "source": [
    "SS_Residual = np.sum((y_train-y_hat)**2)\n",
    "SS_Total = np.sum((y_train-np.mean(y_train))**2)\n",
    "r_squared = 1 - (float(SS_Residual))/SS_Total\n",
    "adjusted_r_squared = 1 - (1-r_squared)*(len(y_train)-1)/(len(y_train)-features_train.shape[1]-1)\n"
   ]
  },
  {
   "cell_type": "code",
   "execution_count": 123,
   "metadata": {},
   "outputs": [
    {
     "name": "stdout",
     "output_type": "stream",
     "text": [
      "R Squarred Error: 0.8386888897415672\n",
      "Adjusted R Squarred Error: 0.5452399551225032\n"
     ]
    }
   ],
   "source": [
    "print('R Squarred Error:', r_squared)\n",
    "print('Adjusted R Squarred Error:', adjusted_r_squared)"
   ]
  },
  {
   "cell_type": "code",
   "execution_count": null,
   "metadata": {},
   "outputs": [],
   "source": [
    "# Interesting! So, we raised our r-sq value by adding polynomial terms, but we greatly \n",
    "# decreased our adj. r-sq value, which is very bad! This means _ . \n",
    "\n",
    "# So, let's not include\n",
    "# polynomial terms in our model for now. At a later date, we can see exactly which polynomial\n",
    "# features are bringing our adj. r-sq down and get rid of them."
   ]
  },
  {
   "cell_type": "markdown",
   "metadata": {},
   "source": [
    "# LASSO method"
   ]
  },
  {
   "cell_type": "markdown",
   "metadata": {},
   "source": [
    "Using the \"Least Absolute Shrinkage and Selection Operator\" or LASSO to fit a model. LASSO performs L1 regularization and selects features."
   ]
  },
  {
   "cell_type": "code",
   "execution_count": 143,
   "metadata": {},
   "outputs": [
    {
     "name": "stdout",
     "output_type": "stream",
     "text": [
      "Training r^2, alpha=0.001: 0.7166136236122627\n",
      "Testing r^2, alpha=0.001: 0.7369604519128783\n",
      "Training MSE, alpha=0.001: 0.28317396857653937\n",
      "Testing MSE, alpha=0.001: 0.263763181776097\n"
     ]
    }
   ],
   "source": [
    "# Changing the alpha values to test what amount of features we should include for the model\n",
    "lasso = Lasso(alpha=0.01) \n",
    "lasso.fit(X_train, y_train)\n",
    "print('Training r^2, alpha=0.001:', lasso.score(X_train, y_train))\n",
    "print('Testing r^2, alpha=0.001:', lasso.score(X_test, y_test))\n",
    "print('Training MSE, alpha=0.001:', mean_squared_error(y_train, lasso.predict(X_train)))\n",
    "print('Testing MSE, alpha=0.001:', mean_squared_error(y_test, lasso.predict(X_test)))"
   ]
  },
  {
   "cell_type": "code",
   "execution_count": 144,
   "metadata": {},
   "outputs": [
    {
     "name": "stdout",
     "output_type": "stream",
     "text": [
      "Training r^2, alpha=0.001: 0.7921965337180782\n",
      "Testing r^2, alpha=0.001: 0.8221719437708916\n",
      "Training MSE, alpha=0.001: 0.20764771045486013\n",
      "Testing MSE, alpha=0.001: 0.17831726925151567\n"
     ]
    }
   ],
   "source": [
    "lasso = Lasso(alpha=0.001) \n",
    "lasso.fit(X_train, y_train)\n",
    "print('Training r^2, alpha=0.001:', lasso.score(X_train, y_train))\n",
    "print('Testing r^2, alpha=0.001:', lasso.score(X_test, y_test))\n",
    "print('Training MSE, alpha=0.001:', mean_squared_error(y_train, lasso.predict(X_train)))\n",
    "print('Testing MSE, alpha=0.001:', mean_squared_error(y_test, lasso.predict(X_test)))"
   ]
  },
  {
   "cell_type": "code",
   "execution_count": 150,
   "metadata": {},
   "outputs": [
    {
     "name": "stdout",
     "output_type": "stream",
     "text": [
      "Training r^2, alpha=0.0001: 0.7982144672687571\n",
      "Testing r^2, alpha=0.0001: 0.8281030382094214\n",
      "Training MSE, alpha=0.0001: 0.20163428755183385\n",
      "Testing MSE, alpha=0.0001: 0.17236985810403693\n"
     ]
    }
   ],
   "source": [
    "# this alpha value has the highest r squared value\n",
    "lasso = Lasso(alpha=0.0001) \n",
    "lasso.fit(X_train, y_train)\n",
    "print('Training r^2, alpha=0.0001:', lasso.score(X_train, y_train))\n",
    "print('Testing r^2, alpha=0.0001:', lasso.score(X_test, y_test))\n",
    "print('Training MSE, alpha=0.0001:', mean_squared_error(y_train, lasso.predict(X_train)))\n",
    "print('Testing MSE, alpha=0.0001:', mean_squared_error(y_test, lasso.predict(X_test)))"
   ]
  },
  {
   "cell_type": "code",
   "execution_count": 146,
   "metadata": {},
   "outputs": [
    {
     "data": {
      "text/plain": [
       "Index(['outcome'], dtype='object')"
      ]
     },
     "execution_count": 146,
     "metadata": {},
     "output_type": "execute_result"
    }
   ],
   "source": [
    "# set the y test data set to a pandas dataframe in order to use the .outcome.std() method\n",
    "y_test_df = y_test.to_frame(name='outcome')\n",
    "# check the columns of the y test dataframe\n",
    "y_test_df.columns"
   ]
  },
  {
   "cell_type": "code",
   "execution_count": 147,
   "metadata": {},
   "outputs": [
    {
     "name": "stdout",
     "output_type": "stream",
     "text": [
      "MSE: 0.1772447326758618\n",
      "RMSE: 0.4210044330833843\n",
      "0.4200742604933722\n"
     ]
    },
    {
     "data": {
      "text/plain": [
       "<matplotlib.axes._subplots.AxesSubplot at 0x1c2a133da0>"
      ]
     },
     "execution_count": 147,
     "metadata": {},
     "output_type": "execute_result"
    },
    {
     "data": {
      "image/png": "[encoded data removed]",
      "text/plain": [
       "<Figure size 1152x576 with 1 Axes>"
      ]
     },
     "metadata": {},
     "output_type": "display_data"
    }
   ],
   "source": [
    "lassoReg = Lasso(alpha=0.0001, normalize=True)\n",
    "\n",
    "lassoReg.fit(X_train,y_train)\n",
    "\n",
    "y_pred = lassoReg.predict(X_test)\n",
    "\n",
    "#calculating mse and rmse\n",
    "print('MSE:', metrics.mean_squared_error(y_test, y_pred))\n",
    "print('RMSE:', np.sqrt(metrics.mean_squared_error(y_test, y_pred)))\n",
    "print(np.sqrt(metrics.mean_squared_error(y_test, y_pred))/ y_test_df.outcome.std())\n",
    "\n",
    "coef = pd.DataFrame(data=lassoReg.coef_, index=X_train.columns )\n",
    "model_coef = coef.sort_values(by=0).T\n",
    "\n",
    "model_coef.plot(kind='bar', title='Lasso Model Coefficients', legend=False, figsize=(16,8))"
   ]
  },
  {
   "cell_type": "code",
   "execution_count": 151,
   "metadata": {},
   "outputs": [
    {
     "name": "stdout",
     "output_type": "stream",
     "text": [
      "\n",
      " There are 54 coefficients for LASSO\n",
      "Lasso parameter coefficients: [-5.11870686e-01 -2.77805299e-01 -1.10127598e-01  1.42949567e-03\n",
      "  4.46042731e-01 -1.05460153e-02  1.39020800e-01 -2.82006359e-01\n",
      " -1.28288871e-01  0.00000000e+00  5.82858920e-01 -5.27575805e-02\n",
      " -1.24935274e-01  6.79105805e-01  5.28486410e-01  6.65460026e-01\n",
      "  8.73670319e-01  1.01121575e+00  6.84156688e-01  4.82916908e-01\n",
      "  4.57670508e-02  1.20688830e-01  2.68101307e-01  8.13529071e-04\n",
      "  1.15339046e+00  1.22923198e+00 -2.81392915e-01  7.89726598e-01\n",
      "  2.69034840e-01  8.87054558e-01  3.27128911e-01  5.44100596e-01\n",
      "  2.68499942e-01 -4.16982100e-01  7.00626036e-01  2.62563843e-01\n",
      "  1.00299216e+00  3.07864747e-01  5.94427239e-02  1.36373517e-01\n",
      "  8.51627990e-01 -0.00000000e+00  7.23614265e-02  7.87861684e-01\n",
      "  9.19881227e-02 -1.98301704e-02 -8.95171158e-02  3.50360859e-01\n",
      "  2.98088354e-01  2.02346844e-01  5.39705840e-01  1.04577953e+00\n",
      "  2.13412329e-01  5.42922945e-01]\n"
     ]
    }
   ],
   "source": [
    "\n",
    "print('\\n There are',len(lasso.coef_),'coefficients for LASSO')\n",
    "print('Lasso parameter coefficients:', lasso.coef_)"
   ]
  },
  {
   "cell_type": "markdown",
   "metadata": {},
   "source": [
    "# Final Thoughts"
   ]
  },
  {
   "cell_type": "markdown",
   "metadata": {},
   "source": [
    "Our original linear regression model (using Scikit-Learn) is still the best, according to the methods we used here (including the Wrapper Method, Variance Threshold, Univariate Feature Selection, fitting the model with polynomial terms, LASSO). We ended and began with a r-squared value of 0.7987305146787826."
   ]
  },
  {
   "cell_type": "code",
   "execution_count": 142,
   "metadata": {},
   "outputs": [
    {
     "data": {
      "image/png": "[encoded data removed]",
      "text/plain": [
       "<Figure size 432x288 with 1 Axes>"
      ]
     },
     "metadata": {},
     "output_type": "display_data"
    }
   ],
   "source": [
    "# plotting our model's residuals against a normal distribution to evaluate normality, presence of outliers, etc.\n",
    "residuals = y_train-y_hat\n",
    "stats.probplot(residuals, dist=\"norm\", plot=pylab)\n",
    "pylab.show()"
   ]
  },
  {
   "cell_type": "markdown",
   "metadata": {},
   "source": [
    "qq plot documentation [here](http://www.statsmodels.org/devel/generated/statsmodels.graphics.gofplots.qqplot.html)"
   ]
  }
 ],
 "metadata": {
  "kernelspec": {
   "display_name": "Python 3",
   "language": "python",
   "name": "python3"
  },
  "language_info": {
   "codemirror_mode": {
    "name": "ipython",
    "version": 3
   },
   "file_extension": ".py",
   "mimetype": "text/x-python",
   "name": "python",
   "nbconvert_exporter": "python",
   "pygments_lexer": "ipython3",
   "version": "3.6.5"
  }
 },
 "nbformat": 4,
 "nbformat_minor": 2
}
