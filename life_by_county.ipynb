{
 "cells": [
  {
   "cell_type": "code",
   "execution_count": 1,
   "metadata": {},
   "outputs": [],
   "source": [
    "#import modules\n",
    "import re\n",
    "import pandas as pd\n",
    "import seaborn as sns\n",
    "import matplotlib.pyplot as plt"
   ]
  },
  {
   "cell_type": "code",
   "execution_count": 36,
   "metadata": {},
   "outputs": [
    {
     "name": "stdout",
     "output_type": "stream",
     "text": [
      "Collecting import_ipynb\n",
      "  Downloading https://files.pythonhosted.org/packages/63/35/495e0021bfdcc924c7cdec4e9fbb87c88dd03b9b9b22419444dc370c8a45/import-ipynb-0.1.3.tar.gz\n",
      "Building wheels for collected packages: import-ipynb\n",
      "  Running setup.py bdist_wheel for import-ipynb ... \u001b[?25ldone\n",
      "\u001b[?25h  Stored in directory: /Users/roberthillery/Library/Caches/pip/wheels/b4/7b/e9/a3a6e496115dffdb4e3085d0ae39ffe8a814eacc44bbf494b5\n",
      "Successfully built import-ipynb\n",
      "Installing collected packages: import-ipynb\n",
      "Successfully installed import-ipynb-0.1.3\n"
     ]
    }
   ],
   "source": [
    "#to get list of states from other notebook\n",
    "!pip install import_ipynb"
   ]
  },
  {
   "cell_type": "code",
   "execution_count": 37,
   "metadata": {},
   "outputs": [],
   "source": [
    "import import_ipynb"
   ]
  },
  {
   "cell_type": "code",
   "execution_count": 38,
   "metadata": {},
   "outputs": [
    {
     "name": "stdout",
     "output_type": "stream",
     "text": [
      "importing Jupyter notebook from wage_data.ipynb\n",
      "<!DOCTYPE HTML PUBLIC \"-//W3C//DTD HTML 4.01 Transitional//EN\" \"http://www.w3.org/TR/html4/loose.dtd\">\n",
      "<html lang=\"en\">\n",
      " <head>\n",
      "  <title>\n",
      "   U.S. Department of Labor - Wage &amp; Hour Divisions (WHD) - CHANGES IN BASIC MINIMUM WAGES IN NON-FARM EMPLOYMENT UNDER STATE LAW: SELECTED YEARS 1968 TO 2017\n",
      "  </title>\n",
      "  <meta content=\"US Department of Labor: WHD's mission is to enhance the welfare and protect the rights of American workers by enforcing employment laws.\" name=\"description\"/>\n",
      "  <meta content=\"employment laws, working conditions, minimum wages, employment rules, work rules, work laws, federal law work, contract compliance, office labor management standards, workers compensation, workers compensation programs, workers compensation law, fair labor standards act, FMLA\" name=\"keywords\"/>\n",
      "  <!-- begin dol-styles.shtm -->\n",
      "  <!-- Begin Customer Satisfaction Survey \n",
      "\n",
      "<script>(function(e,t,o,c){var n,s,a;e.SMCX=e.SMCX||[],t.getElementById(c)||(n=t.getElementsByTagName(o),s=n[n.length-1]\n",
      "['7.25', '7.75', '7.80', '7.25', '8.00', '7.78', '8.25', '7.25', '7.79', '7.25', '7.25', '7.25', '7.25', '7.25', '7.25', '7.25', '7.25', '7.25', '7.50', '7.25', '8.00', '7.25', '7.25', '7.25', '7.35', '7.25', '7.25', '7.25', '7.25', '7.25', '7.50', '7.25', '7.25', '7.25', '7.85', '7.25', '8.95', '7.25', '7.75', '7.25', '7.25', '7.25', '7.25', '7.25', '7.25', '7.25', '9.19', '7.25', '7.25', '5.15', '8.25']\n"
     ]
    }
   ],
   "source": [
    "from wage_data import states_final"
   ]
  },
  {
   "cell_type": "code",
   "execution_count": 13,
   "metadata": {},
   "outputs": [],
   "source": [
    "#read excel file\n",
    "df_dict = pd.read_excel(\"county_data.XLSX\", sheet_name='Life expectancy')"
   ]
  },
  {
   "cell_type": "code",
   "execution_count": 222,
   "metadata": {},
   "outputs": [
    {
     "data": {
      "text/html": [
       "<div>\n",
       "<style scoped>\n",
       "    .dataframe tbody tr th:only-of-type {\n",
       "        vertical-align: middle;\n",
       "    }\n",
       "\n",
       "    .dataframe tbody tr th {\n",
       "        vertical-align: top;\n",
       "    }\n",
       "\n",
       "    .dataframe thead th {\n",
       "        text-align: right;\n",
       "    }\n",
       "</style>\n",
       "<table border=\"1\" class=\"dataframe\">\n",
       "  <thead>\n",
       "    <tr style=\"text-align: right;\">\n",
       "      <th></th>\n",
       "      <th>Life expectancy</th>\n",
       "      <th>Unnamed: 1</th>\n",
       "      <th>Unnamed: 2</th>\n",
       "      <th>Unnamed: 3</th>\n",
       "      <th>Unnamed: 4</th>\n",
       "      <th>Unnamed: 5</th>\n",
       "      <th>Unnamed: 6</th>\n",
       "      <th>Unnamed: 7</th>\n",
       "      <th>Unnamed: 8</th>\n",
       "      <th>Unnamed: 9</th>\n",
       "      <th>Unnamed: 10</th>\n",
       "    </tr>\n",
       "  </thead>\n",
       "  <tbody>\n",
       "    <tr>\n",
       "      <th>0</th>\n",
       "      <td>Location</td>\n",
       "      <td>FIPS</td>\n",
       "      <td>Life expectancy, 1980*</td>\n",
       "      <td>Life expectancy, 1985*</td>\n",
       "      <td>Life expectancy, 1990*</td>\n",
       "      <td>Life expectancy, 1995*</td>\n",
       "      <td>Life expectancy, 2000*</td>\n",
       "      <td>Life expectancy, 2005*</td>\n",
       "      <td>Life expectancy, 2010*</td>\n",
       "      <td>Life expectancy, 2014*</td>\n",
       "      <td>% Change in Life Expectancy, 1980-2014</td>\n",
       "    </tr>\n",
       "    <tr>\n",
       "      <th>1</th>\n",
       "      <td>United States</td>\n",
       "      <td>NaN</td>\n",
       "      <td>73.75 (73.73, 73.77)</td>\n",
       "      <td>74.72 (74.71, 74.74)</td>\n",
       "      <td>75.39 (75.38, 75.41)</td>\n",
       "      <td>75.86 (75.85, 75.88)</td>\n",
       "      <td>76.94 (76.92, 76.95)</td>\n",
       "      <td>77.65 (77.61, 77.68)</td>\n",
       "      <td>78.82 (78.81, 78.84)</td>\n",
       "      <td>79.08 (79.04, 79.11)</td>\n",
       "      <td>7.22 (7.16, 7.27)</td>\n",
       "    </tr>\n",
       "    <tr>\n",
       "      <th>2</th>\n",
       "      <td>Alabama</td>\n",
       "      <td>1</td>\n",
       "      <td>72.29 (72.21, 72.37)</td>\n",
       "      <td>73.10 (73.02, 73.19)</td>\n",
       "      <td>73.50 (73.42, 73.57)</td>\n",
       "      <td>73.78 (73.70, 73.85)</td>\n",
       "      <td>74.46 (74.39, 74.53)</td>\n",
       "      <td>74.71 (74.62, 74.79)</td>\n",
       "      <td>75.58 (75.51, 75.65)</td>\n",
       "      <td>75.65 (75.57, 75.72)</td>\n",
       "      <td>4.65 (4.48, 4.82)</td>\n",
       "    </tr>\n",
       "    <tr>\n",
       "      <th>3</th>\n",
       "      <td>Autauga County, Alabama</td>\n",
       "      <td>1001</td>\n",
       "      <td>71.99 (71.33, 72.63)</td>\n",
       "      <td>72.70 (72.10, 73.32)</td>\n",
       "      <td>73.10 (72.54, 73.66)</td>\n",
       "      <td>73.69 (73.22, 74.20)</td>\n",
       "      <td>74.55 (74.10, 75.04)</td>\n",
       "      <td>74.71 (74.23, 75.20)</td>\n",
       "      <td>75.74 (75.25, 76.25)</td>\n",
       "      <td>75.67 (75.15, 76.18)</td>\n",
       "      <td>5.10 (3.86, 6.43)</td>\n",
       "    </tr>\n",
       "    <tr>\n",
       "      <th>4</th>\n",
       "      <td>Baldwin County, Alabama</td>\n",
       "      <td>1003</td>\n",
       "      <td>74.07 (73.60, 74.58)</td>\n",
       "      <td>74.92 (74.48, 75.37)</td>\n",
       "      <td>75.31 (74.88, 75.71)</td>\n",
       "      <td>75.79 (75.40, 76.20)</td>\n",
       "      <td>76.80 (76.45, 77.17)</td>\n",
       "      <td>77.09 (76.72, 77.47)</td>\n",
       "      <td>77.80 (77.45, 78.14)</td>\n",
       "      <td>78.08 (77.72, 78.43)</td>\n",
       "      <td>5.41 (4.51, 6.26)</td>\n",
       "    </tr>\n",
       "  </tbody>\n",
       "</table>\n",
       "</div>"
      ],
      "text/plain": [
       "           Life expectancy Unnamed: 1              Unnamed: 2  \\\n",
       "0                 Location       FIPS  Life expectancy, 1980*   \n",
       "1            United States        NaN    73.75 (73.73, 73.77)   \n",
       "2                  Alabama          1    72.29 (72.21, 72.37)   \n",
       "3  Autauga County, Alabama       1001    71.99 (71.33, 72.63)   \n",
       "4  Baldwin County, Alabama       1003    74.07 (73.60, 74.58)   \n",
       "\n",
       "               Unnamed: 3              Unnamed: 4              Unnamed: 5  \\\n",
       "0  Life expectancy, 1985*  Life expectancy, 1990*  Life expectancy, 1995*   \n",
       "1    74.72 (74.71, 74.74)    75.39 (75.38, 75.41)    75.86 (75.85, 75.88)   \n",
       "2    73.10 (73.02, 73.19)    73.50 (73.42, 73.57)    73.78 (73.70, 73.85)   \n",
       "3    72.70 (72.10, 73.32)    73.10 (72.54, 73.66)    73.69 (73.22, 74.20)   \n",
       "4    74.92 (74.48, 75.37)    75.31 (74.88, 75.71)    75.79 (75.40, 76.20)   \n",
       "\n",
       "               Unnamed: 6              Unnamed: 7              Unnamed: 8  \\\n",
       "0  Life expectancy, 2000*  Life expectancy, 2005*  Life expectancy, 2010*   \n",
       "1    76.94 (76.92, 76.95)    77.65 (77.61, 77.68)    78.82 (78.81, 78.84)   \n",
       "2    74.46 (74.39, 74.53)    74.71 (74.62, 74.79)    75.58 (75.51, 75.65)   \n",
       "3    74.55 (74.10, 75.04)    74.71 (74.23, 75.20)    75.74 (75.25, 76.25)   \n",
       "4    76.80 (76.45, 77.17)    77.09 (76.72, 77.47)    77.80 (77.45, 78.14)   \n",
       "\n",
       "               Unnamed: 9                             Unnamed: 10  \n",
       "0  Life expectancy, 2014*  % Change in Life Expectancy, 1980-2014  \n",
       "1    79.08 (79.04, 79.11)                       7.22 (7.16, 7.27)  \n",
       "2    75.65 (75.57, 75.72)                       4.65 (4.48, 4.82)  \n",
       "3    75.67 (75.15, 76.18)                       5.10 (3.86, 6.43)  \n",
       "4    78.08 (77.72, 78.43)                       5.41 (4.51, 6.26)  "
      ]
     },
     "execution_count": 222,
     "metadata": {},
     "output_type": "execute_result"
    }
   ],
   "source": [
    "#make it a dataframe \n",
    "df = pd.DataFrame(df_dict, columns=df_dict.keys())\n",
    "df.head()"
   ]
  },
  {
   "cell_type": "code",
   "execution_count": 225,
   "metadata": {},
   "outputs": [
    {
     "data": {
      "text/plain": [
       "(Index(['Life expectancy', 'Unnamed: 1', 'Unnamed: 2', 'Unnamed: 3',\n",
       "        'Unnamed: 4', 'Unnamed: 5', 'Unnamed: 6', 'Unnamed: 7', 'Unnamed: 8',\n",
       "        'Unnamed: 9', 'Unnamed: 10'],\n",
       "       dtype='object'),\n",
       " Index(['Life expectancy', 'Unnamed: 1', 'Unnamed: 2', 'Unnamed: 3',\n",
       "        'Unnamed: 4', 'Unnamed: 5', 'Unnamed: 6', 'Unnamed: 7', 'Unnamed: 8',\n",
       "        'Unnamed: 9', 'Unnamed: 10'],\n",
       "       dtype='object'),\n",
       " 3197)"
      ]
     },
     "execution_count": 225,
     "metadata": {},
     "output_type": "execute_result"
    }
   ],
   "source": [
    "#Look at keys, columns, and the len of df\n",
    "df_dict.keys(),df.columns, len(df)"
   ]
  },
  {
   "cell_type": "code",
   "execution_count": 226,
   "metadata": {},
   "outputs": [
    {
     "data": {
      "text/html": [
       "<div>\n",
       "<style scoped>\n",
       "    .dataframe tbody tr th:only-of-type {\n",
       "        vertical-align: middle;\n",
       "    }\n",
       "\n",
       "    .dataframe tbody tr th {\n",
       "        vertical-align: top;\n",
       "    }\n",
       "\n",
       "    .dataframe thead th {\n",
       "        text-align: right;\n",
       "    }\n",
       "</style>\n",
       "<table border=\"1\" class=\"dataframe\">\n",
       "  <thead>\n",
       "    <tr style=\"text-align: right;\">\n",
       "      <th></th>\n",
       "      <th>Location</th>\n",
       "      <th>Life expectancy 2014</th>\n",
       "    </tr>\n",
       "  </thead>\n",
       "  <tbody>\n",
       "    <tr>\n",
       "      <th>0</th>\n",
       "      <td>Location</td>\n",
       "      <td>Life expectancy, 2014*</td>\n",
       "    </tr>\n",
       "    <tr>\n",
       "      <th>1</th>\n",
       "      <td>United States</td>\n",
       "      <td>79.08 (79.04, 79.11)</td>\n",
       "    </tr>\n",
       "    <tr>\n",
       "      <th>2</th>\n",
       "      <td>Alabama</td>\n",
       "      <td>75.65 (75.57, 75.72)</td>\n",
       "    </tr>\n",
       "    <tr>\n",
       "      <th>3</th>\n",
       "      <td>Autauga County, Alabama</td>\n",
       "      <td>75.67 (75.15, 76.18)</td>\n",
       "    </tr>\n",
       "    <tr>\n",
       "      <th>4</th>\n",
       "      <td>Baldwin County, Alabama</td>\n",
       "      <td>78.08 (77.72, 78.43)</td>\n",
       "    </tr>\n",
       "  </tbody>\n",
       "</table>\n",
       "</div>"
      ],
      "text/plain": [
       "                  Location    Life expectancy 2014\n",
       "0                 Location  Life expectancy, 2014*\n",
       "1            United States    79.08 (79.04, 79.11)\n",
       "2                  Alabama    75.65 (75.57, 75.72)\n",
       "3  Autauga County, Alabama    75.67 (75.15, 76.18)\n",
       "4  Baldwin County, Alabama    78.08 (77.72, 78.43)"
      ]
     },
     "execution_count": 226,
     "metadata": {},
     "output_type": "execute_result"
    }
   ],
   "source": [
    "#get the data for one year\n",
    "just_2014 = df.drop(df.columns[[1,2,3,4,5,6,7,8, 10]], axis=1)\n",
    "just_2014.columns = ['Location', 'Life expectancy 2014']\n",
    "just_2014.head()"
   ]
  },
  {
   "cell_type": "code",
   "execution_count": 227,
   "metadata": {},
   "outputs": [
    {
     "data": {
      "text/html": [
       "<div>\n",
       "<style scoped>\n",
       "    .dataframe tbody tr th:only-of-type {\n",
       "        vertical-align: middle;\n",
       "    }\n",
       "\n",
       "    .dataframe tbody tr th {\n",
       "        vertical-align: top;\n",
       "    }\n",
       "\n",
       "    .dataframe thead th {\n",
       "        text-align: right;\n",
       "    }\n",
       "</style>\n",
       "<table border=\"1\" class=\"dataframe\">\n",
       "  <thead>\n",
       "    <tr style=\"text-align: right;\">\n",
       "      <th></th>\n",
       "      <th>Location</th>\n",
       "      <th>Life expectancy 2014</th>\n",
       "    </tr>\n",
       "  </thead>\n",
       "  <tbody>\n",
       "    <tr>\n",
       "      <th>2</th>\n",
       "      <td>Alabama</td>\n",
       "      <td>75.65 (75.57, 75.72)</td>\n",
       "    </tr>\n",
       "    <tr>\n",
       "      <th>70</th>\n",
       "      <td>Alaska</td>\n",
       "      <td>78.41 (78.16, 78.69)</td>\n",
       "    </tr>\n",
       "    <tr>\n",
       "      <th>100</th>\n",
       "      <td>Arizona</td>\n",
       "      <td>79.58 (79.50, 79.67)</td>\n",
       "    </tr>\n",
       "    <tr>\n",
       "      <th>116</th>\n",
       "      <td>Arkansas</td>\n",
       "      <td>76.18 (76.09, 76.26)</td>\n",
       "    </tr>\n",
       "    <tr>\n",
       "      <th>192</th>\n",
       "      <td>California</td>\n",
       "      <td>80.82 (80.77, 80.86)</td>\n",
       "    </tr>\n",
       "  </tbody>\n",
       "</table>\n",
       "</div>"
      ],
      "text/plain": [
       "       Location  Life expectancy 2014\n",
       "2       Alabama  75.65 (75.57, 75.72)\n",
       "70       Alaska  78.41 (78.16, 78.69)\n",
       "100     Arizona  79.58 (79.50, 79.67)\n",
       "116    Arkansas  76.18 (76.09, 76.26)\n",
       "192  California  80.82 (80.77, 80.86)"
      ]
     },
     "execution_count": 227,
     "metadata": {},
     "output_type": "execute_result"
    }
   ],
   "source": [
    "#get just the state data\n",
    "le_state = just_2014.loc[just_2014['Location'].isin(states_final)]\n",
    "le_state.head()"
   ]
  },
  {
   "cell_type": "code",
   "execution_count": 231,
   "metadata": {},
   "outputs": [
    {
     "data": {
      "text/html": [
       "<div>\n",
       "<style scoped>\n",
       "    .dataframe tbody tr th:only-of-type {\n",
       "        vertical-align: middle;\n",
       "    }\n",
       "\n",
       "    .dataframe tbody tr th {\n",
       "        vertical-align: top;\n",
       "    }\n",
       "\n",
       "    .dataframe thead th {\n",
       "        text-align: right;\n",
       "    }\n",
       "</style>\n",
       "<table border=\"1\" class=\"dataframe\">\n",
       "  <thead>\n",
       "    <tr style=\"text-align: right;\">\n",
       "      <th></th>\n",
       "      <th>Location</th>\n",
       "      <th>Life expectancy 2014</th>\n",
       "    </tr>\n",
       "  </thead>\n",
       "  <tbody>\n",
       "    <tr>\n",
       "      <th>0</th>\n",
       "      <td>Autauga County, Alabama</td>\n",
       "      <td>75.67 (75.15, 76.18)</td>\n",
       "    </tr>\n",
       "    <tr>\n",
       "      <th>1</th>\n",
       "      <td>Baldwin County, Alabama</td>\n",
       "      <td>78.08 (77.72, 78.43)</td>\n",
       "    </tr>\n",
       "    <tr>\n",
       "      <th>2</th>\n",
       "      <td>Barbour County, Alabama</td>\n",
       "      <td>75.42 (74.78, 76.07)</td>\n",
       "    </tr>\n",
       "    <tr>\n",
       "      <th>3</th>\n",
       "      <td>Bibb County, Alabama</td>\n",
       "      <td>73.97 (73.28, 74.68)</td>\n",
       "    </tr>\n",
       "    <tr>\n",
       "      <th>4</th>\n",
       "      <td>Blount County, Alabama</td>\n",
       "      <td>76.16 (75.66, 76.69)</td>\n",
       "    </tr>\n",
       "  </tbody>\n",
       "</table>\n",
       "</div>"
      ],
      "text/plain": [
       "                  Location  Life expectancy 2014\n",
       "0  Autauga County, Alabama  75.67 (75.15, 76.18)\n",
       "1  Baldwin County, Alabama  78.08 (77.72, 78.43)\n",
       "2  Barbour County, Alabama  75.42 (74.78, 76.07)\n",
       "3     Bibb County, Alabama  73.97 (73.28, 74.68)\n",
       "4   Blount County, Alabama  76.16 (75.66, 76.69)"
      ]
     },
     "execution_count": 231,
     "metadata": {},
     "output_type": "execute_result"
    }
   ],
   "source": [
    "#get just the county data by subtracting out the state data along with the first and last rows\n",
    "l_e_county = just_2014.loc[-just_2014['Location'].isin(states_final)][2:-2]\n",
    "\n",
    "#reset column index \n",
    "l_e_county = l_e_county.reset_index(drop=True)\n",
    "#le_county = just_2014.loc[just_2014['Location'].isin(states_final)]\n",
    "l_e_county.head()"
   ]
  },
  {
   "cell_type": "code",
   "execution_count": 195,
   "metadata": {},
   "outputs": [],
   "source": [
    "#want to split county and state, as well as just get mean life expectancy"
   ]
  },
  {
   "cell_type": "code",
   "execution_count": 232,
   "metadata": {},
   "outputs": [],
   "source": [
    "#l_e_county['Location' :\"Aleutians East Borough\"]\n",
    "\n",
    "c_split = l_e_county.loc[:]['Location'].str.split(',', expand=True)\n",
    "c_split.columns = ['County', 'State']"
   ]
  },
  {
   "cell_type": "code",
   "execution_count": 233,
   "metadata": {},
   "outputs": [
    {
     "data": {
      "text/html": [
       "<div>\n",
       "<style scoped>\n",
       "    .dataframe tbody tr th:only-of-type {\n",
       "        vertical-align: middle;\n",
       "    }\n",
       "\n",
       "    .dataframe tbody tr th {\n",
       "        vertical-align: top;\n",
       "    }\n",
       "\n",
       "    .dataframe thead th {\n",
       "        text-align: right;\n",
       "    }\n",
       "</style>\n",
       "<table border=\"1\" class=\"dataframe\">\n",
       "  <thead>\n",
       "    <tr style=\"text-align: right;\">\n",
       "      <th></th>\n",
       "      <th>County</th>\n",
       "      <th>State</th>\n",
       "      <th>Life expectancy 2014</th>\n",
       "    </tr>\n",
       "  </thead>\n",
       "  <tbody>\n",
       "    <tr>\n",
       "      <th>0</th>\n",
       "      <td>Autauga County</td>\n",
       "      <td>Alabama</td>\n",
       "      <td>75.67</td>\n",
       "    </tr>\n",
       "    <tr>\n",
       "      <th>1</th>\n",
       "      <td>Baldwin County</td>\n",
       "      <td>Alabama</td>\n",
       "      <td>78.08</td>\n",
       "    </tr>\n",
       "    <tr>\n",
       "      <th>2</th>\n",
       "      <td>Barbour County</td>\n",
       "      <td>Alabama</td>\n",
       "      <td>75.42</td>\n",
       "    </tr>\n",
       "    <tr>\n",
       "      <th>3</th>\n",
       "      <td>Bibb County</td>\n",
       "      <td>Alabama</td>\n",
       "      <td>73.97</td>\n",
       "    </tr>\n",
       "    <tr>\n",
       "      <th>4</th>\n",
       "      <td>Blount County</td>\n",
       "      <td>Alabama</td>\n",
       "      <td>76.16</td>\n",
       "    </tr>\n",
       "  </tbody>\n",
       "</table>\n",
       "</div>"
      ],
      "text/plain": [
       "           County     State Life expectancy 2014\n",
       "0  Autauga County   Alabama                75.67\n",
       "1  Baldwin County   Alabama                78.08\n",
       "2  Barbour County   Alabama                75.42\n",
       "3     Bibb County   Alabama                73.97\n",
       "4   Blount County   Alabama                76.16"
      ]
     },
     "execution_count": 233,
     "metadata": {},
     "output_type": "execute_result"
    }
   ],
   "source": [
    "le = l_e_county.loc[:]['Life expectancy 2014'][:].str.split(expand=True)\n",
    "le_only = le.iloc[:,0]\n",
    "c_split['Life expectancy 2014'] = le_only\n",
    "final_county = c_split\n",
    "final_county.head()"
   ]
  },
  {
   "cell_type": "code",
   "execution_count": 239,
   "metadata": {},
   "outputs": [
    {
     "data": {
      "text/html": [
       "<div>\n",
       "<style scoped>\n",
       "    .dataframe tbody tr th:only-of-type {\n",
       "        vertical-align: middle;\n",
       "    }\n",
       "\n",
       "    .dataframe tbody tr th {\n",
       "        vertical-align: top;\n",
       "    }\n",
       "\n",
       "    .dataframe thead th {\n",
       "        text-align: right;\n",
       "    }\n",
       "</style>\n",
       "<table border=\"1\" class=\"dataframe\">\n",
       "  <thead>\n",
       "    <tr style=\"text-align: right;\">\n",
       "      <th></th>\n",
       "      <th>County</th>\n",
       "      <th>State</th>\n",
       "      <th>Life expectancy 2014</th>\n",
       "    </tr>\n",
       "  </thead>\n",
       "  <tbody>\n",
       "    <tr>\n",
       "      <th>67</th>\n",
       "      <td>Aleutians East Borough</td>\n",
       "      <td>Alaska</td>\n",
       "      <td>83.73</td>\n",
       "    </tr>\n",
       "  </tbody>\n",
       "</table>\n",
       "</div>"
      ],
      "text/plain": [
       "                    County    State Life expectancy 2014\n",
       "67  Aleutians East Borough   Alaska                83.73"
      ]
     },
     "execution_count": 239,
     "metadata": {},
     "output_type": "execute_result"
    }
   ],
   "source": [
    "#to search for a specific county\n",
    "final_county.loc[final_county['County'] == 'Aleutians East Borough']"
   ]
  },
  {
   "cell_type": "code",
   "execution_count": null,
   "metadata": {},
   "outputs": [],
   "source": []
  }
 ],
 "metadata": {
  "kernelspec": {
   "display_name": "Python 3",
   "language": "python",
   "name": "python3"
  },
  "language_info": {
   "codemirror_mode": {
    "name": "ipython",
    "version": 3
   },
   "file_extension": ".py",
   "mimetype": "text/x-python",
   "name": "python",
   "nbconvert_exporter": "python",
   "pygments_lexer": "ipython3",
   "version": "3.6.5"
  }
 },
 "nbformat": 4,
 "nbformat_minor": 2
}
