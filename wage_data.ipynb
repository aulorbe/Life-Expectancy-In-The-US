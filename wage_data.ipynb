{
 "cells": [
  {
   "cell_type": "code",
   "execution_count": 1,
   "metadata": {},
   "outputs": [],
   "source": [
    "from bs4 import BeautifulSoup\n",
    "import requests\n",
    "import re\n",
    "import pandas as pd\n",
    "import seaborn as sns\n",
    "import matplotlib.pyplot as plt"
   ]
  },
  {
   "cell_type": "code",
   "execution_count": 2,
   "metadata": {},
   "outputs": [],
   "source": [
    "html_page = requests.get('https://www.dol.gov/whd/state/stateMinWageHis.htm') \n",
    "soup = BeautifulSoup(html_page.content, 'html.parser')"
   ]
  },
  {
   "cell_type": "code",
   "execution_count": 3,
   "metadata": {},
   "outputs": [
    {
     "name": "stdout",
     "output_type": "stream",
     "text": [
      "<!DOCTYPE HTML PUBLIC \"-//W3C//DTD HTML 4.01 Transitional//EN\" \"http://www.w3.org/TR/html4/loose.dtd\">\n",
      "<html lang=\"en\">\n",
      " <head>\n",
      "  <title>\n",
      "   U.S. Department of Labor - Wage &amp; Hour Divisions (WHD) - CHANGES IN BASIC MINIMUM WAGES IN NON-FARM EMPLOYMENT UNDER STATE LAW: SELECTED YEARS 1968 TO 2017\n",
      "  </title>\n",
      "  <meta content=\"US Department of Labor: WHD's mission is to enhance the welfare and protect the rights of American workers by enforcing employment laws.\" name=\"description\"/>\n",
      "  <meta content=\"employment laws, working conditions, minimum wages, employment rules, work rules, work laws, federal law work, contract compliance, office labor management standards, workers compensation, workers compensation programs, workers compensation law, fair labor standards act, FMLA\" name=\"keywords\"/>\n",
      "  <!-- begin dol-styles.shtm -->\n",
      "  <!-- Begin Customer Satisfaction Survey \r\n",
      "\r\n",
      "<script>(function(e,t,o,c){var n,s,a;e.SMCX=e.SMCX||[],t.getElementById(c)||(n=t.getElementsByTagName(o),s=n[n.length-1]\n"
     ]
    }
   ],
   "source": [
    "print(soup.prettify()[:1000])"
   ]
  },
  {
   "cell_type": "code",
   "execution_count": 28,
   "metadata": {},
   "outputs": [],
   "source": [
    "#wages_script = soup.find_all(summary ='This is a table of minimum changes by state for 2007 to 2013' ) #{\"summary\":'This is a table of minimum changes by state for 2007 to 2013'})\n",
    "wages_script = soup.findChildren('table', {\"class\":'minwage', 'summary':\"This is a table of minimum changes by state for 2007 to 2013.\" })\n"
   ]
  },
  {
   "cell_type": "code",
   "execution_count": 104,
   "metadata": {},
   "outputs": [],
   "source": [
    "#wages_script"
   ]
  },
  {
   "cell_type": "code",
   "execution_count": 38,
   "metadata": {},
   "outputs": [],
   "source": [
    "more_wages = wages_script[0]"
   ]
  },
  {
   "cell_type": "code",
   "execution_count": 62,
   "metadata": {},
   "outputs": [
    {
     "data": {
      "text/plain": [
       "[<td>Alabama</td>,\n",
       " <td>...</td>,\n",
       " <td>...</td>,\n",
       " <td>...</td>,\n",
       " <td>...</td>,\n",
       " <td>...</td>,\n",
       " <td>...</td>,\n",
       " <td>...</td>]"
      ]
     },
     "execution_count": 62,
     "metadata": {},
     "output_type": "execute_result"
    }
   ],
   "source": [
    "more_wages('tr')[2]('td')"
   ]
  },
  {
   "cell_type": "code",
   "execution_count": 70,
   "metadata": {},
   "outputs": [
    {
     "data": {
      "text/plain": [
       "'Alaska'"
      ]
     },
     "execution_count": 70,
     "metadata": {},
     "output_type": "execute_result"
    }
   ],
   "source": [
    "more_wages('tr')[3]('td')[0].get_text()"
   ]
  },
  {
   "cell_type": "code",
   "execution_count": 105,
   "metadata": {},
   "outputs": [
    {
     "data": {
      "text/plain": [
       "<td><strong>7.75</strong></td>"
      ]
     },
     "execution_count": 105,
     "metadata": {},
     "output_type": "execute_result"
    }
   ],
   "source": [
    "more_wages('tr')[3]('td')[-4]"
   ]
  },
  {
   "cell_type": "code",
   "execution_count": 106,
   "metadata": {},
   "outputs": [
    {
     "data": {
      "text/plain": [
       "[<td>District \n",
       "       of Columbia</td>,\n",
       " <td><strong>7.00</strong></td>,\n",
       " <td>7.00</td>,\n",
       " <td><strong>7.55 \n",
       "       </strong></td>,\n",
       " <td><strong>8.25 \n",
       "       </strong></td>,\n",
       " <td>8.25</td>,\n",
       " <td>8.25</td>,\n",
       " <td>8.25</td>]"
      ]
     },
     "execution_count": 106,
     "metadata": {},
     "output_type": "execute_result"
    }
   ],
   "source": [
    "more_wages('tr')[52]('td')"
   ]
  },
  {
   "cell_type": "code",
   "execution_count": 112,
   "metadata": {},
   "outputs": [],
   "source": [
    "df_states = pd.DataFrame(states_final, columns=[\"states\"])\n",
    "df_states.to_csv('states_list.csv', index=False)"
   ]
  },
  {
   "cell_type": "code",
   "execution_count": 107,
   "metadata": {},
   "outputs": [
    {
     "data": {
      "text/plain": [
       "['Alabama',\n",
       " 'Alaska',\n",
       " 'Arizona',\n",
       " 'Arkansas',\n",
       " 'California',\n",
       " 'Colorado',\n",
       " 'Connecticut',\n",
       " 'Delaware',\n",
       " 'Florida',\n",
       " 'Georgia',\n",
       " 'Hawaii',\n",
       " 'Idaho',\n",
       " 'Illinois',\n",
       " 'Indiana',\n",
       " 'Iowa',\n",
       " 'Kansas',\n",
       " 'Kentucky',\n",
       " 'Louisiana',\n",
       " 'Maine',\n",
       " 'Maryland',\n",
       " 'Massachusetts',\n",
       " 'Michigan',\n",
       " 'Minnesota',\n",
       " 'Mississippi',\n",
       " 'Missouri',\n",
       " 'Montana',\n",
       " 'Nebraska',\n",
       " 'Nevada',\n",
       " 'New Hampshire',\n",
       " 'New Jersey',\n",
       " 'New Mexico',\n",
       " 'New York',\n",
       " 'North Carolina',\n",
       " 'North Dakota',\n",
       " 'Ohio',\n",
       " 'Oklahoma',\n",
       " 'Oregon',\n",
       " 'Pennsylvania',\n",
       " 'Rhode Island',\n",
       " 'South Carolina',\n",
       " 'South Dakota',\n",
       " 'Tennessee',\n",
       " 'Texas',\n",
       " 'Utah',\n",
       " 'Vermont',\n",
       " 'Virginia',\n",
       " 'Washington',\n",
       " 'West Virginia',\n",
       " 'Wisconsin',\n",
       " 'Wyoming',\n",
       " 'District of Columbia']"
      ]
     },
     "execution_count": 107,
     "metadata": {},
     "output_type": "execute_result"
    }
   ],
   "source": [
    "states_alpha = []\n",
    "states_final = []\n",
    "for i in range(2,53):\n",
    "    state_names = more_wages('tr')[i]('td')[0].get_text()\n",
    "    states_alpha.append(state_names)\n",
    "states_alpha\n",
    "for i in states_alpha:\n",
    "    cleaned_states = re.sub('[^a-zA-Z]+', ' ', i)\n",
    "    states_final.append(cleaned_states)\n",
    "states_final"
   ]
  },
  {
   "cell_type": "code",
   "execution_count": 110,
   "metadata": {},
   "outputs": [
    {
     "name": "stdout",
     "output_type": "stream",
     "text": [
      "['7.25', '7.75', '7.25', '7.25', '8.00', '7.24', '8.25', '7.25', '7.25', '7.25', '7.25', '7.25', '7.25', '7.25', '7.25', '7.25', '7.25', '7.25', '7.50', '7.25', '8.00', '7.25', '7.25', '7.25', '7.25', '7.25', '7.25', '7.25', '7.25', '7.25', '7.50', '7.25', '7.25', '7.25', '7.30', '7.25', '8.40', '7.25', '7.40', '7.25', '7.25', '7.25', '7.25', '7.25', '7.25', '7.25', '8.55', '7.25', '7.25', '5.15', '7.25']\n"
     ]
    }
   ],
   "source": [
    "min_wage_list = []\n",
    "for i in range(2,53):\n",
    "    min_wage_list.append(more_wages('tr')[i]('td')[-4].get_text())\n",
    "min_wage_fed = []\n",
    "for i in min_wage_list:\n",
    "    if len(i) != 4:\n",
    "        i = '7.25'\n",
    "    min_wage_fed.append(i)\n",
    "print(min_wage_fed)   "
   ]
  },
  {
   "cell_type": "code",
   "execution_count": 111,
   "metadata": {},
   "outputs": [
    {
     "data": {
      "text/plain": [
       "['7.25',\n",
       " '7.75',\n",
       " '7.25',\n",
       " '7.25',\n",
       " '8.00',\n",
       " '7.24',\n",
       " '8.25',\n",
       " '7.25',\n",
       " '7.25',\n",
       " '7.25',\n",
       " '7.25',\n",
       " '7.25',\n",
       " '7.25',\n",
       " '7.25',\n",
       " '7.25',\n",
       " '7.25',\n",
       " '7.25',\n",
       " '7.25',\n",
       " '7.50',\n",
       " '7.25',\n",
       " '8.00',\n",
       " '7.25',\n",
       " '7.25',\n",
       " '7.25',\n",
       " '7.25',\n",
       " '7.25',\n",
       " '7.25',\n",
       " '7.25',\n",
       " '7.25',\n",
       " '7.25',\n",
       " '7.50',\n",
       " '7.25',\n",
       " '7.25',\n",
       " '7.25',\n",
       " '7.30',\n",
       " '7.25',\n",
       " '8.40',\n",
       " '7.25',\n",
       " '7.40',\n",
       " '7.25',\n",
       " '7.25',\n",
       " '7.25',\n",
       " '7.25',\n",
       " '7.25',\n",
       " '7.25',\n",
       " '7.25',\n",
       " '8.55',\n",
       " '7.25',\n",
       " '7.25',\n",
       " '5.15',\n",
       " '7.25']"
      ]
     },
     "execution_count": 111,
     "metadata": {},
     "output_type": "execute_result"
    }
   ],
   "source": [
    "min_wage_fed"
   ]
  },
  {
   "cell_type": "code",
   "execution_count": 100,
   "metadata": {},
   "outputs": [
    {
     "data": {
      "text/plain": [
       "51"
      ]
     },
     "execution_count": 100,
     "metadata": {},
     "output_type": "execute_result"
    }
   ],
   "source": [
    "len(list(zip(states_final, min_wage_fed)))"
   ]
  },
  {
   "cell_type": "code",
   "execution_count": 102,
   "metadata": {},
   "outputs": [],
   "source": [
    "final_wages = list(zip(states_final, min_wage_fed))"
   ]
  },
  {
   "cell_type": "code",
   "execution_count": 114,
   "metadata": {},
   "outputs": [
    {
     "data": {
      "text/plain": [
       "list"
      ]
     },
     "execution_count": 114,
     "metadata": {},
     "output_type": "execute_result"
    }
   ],
   "source": [
    "type(final_wages)"
   ]
  },
  {
   "cell_type": "code",
   "execution_count": 116,
   "metadata": {},
   "outputs": [],
   "source": [
    "df = pd.DataFrame(final_wages, columns=['County', 'Min Wage'])"
   ]
  },
  {
   "cell_type": "code",
   "execution_count": 118,
   "metadata": {},
   "outputs": [
    {
     "data": {
      "text/html": [
       "<div>\n",
       "<style scoped>\n",
       "    .dataframe tbody tr th:only-of-type {\n",
       "        vertical-align: middle;\n",
       "    }\n",
       "\n",
       "    .dataframe tbody tr th {\n",
       "        vertical-align: top;\n",
       "    }\n",
       "\n",
       "    .dataframe thead th {\n",
       "        text-align: right;\n",
       "    }\n",
       "</style>\n",
       "<table border=\"1\" class=\"dataframe\">\n",
       "  <thead>\n",
       "    <tr style=\"text-align: right;\">\n",
       "      <th></th>\n",
       "      <th>County</th>\n",
       "      <th>Min Wage</th>\n",
       "    </tr>\n",
       "  </thead>\n",
       "  <tbody>\n",
       "    <tr>\n",
       "      <th>0</th>\n",
       "      <td>Alabama</td>\n",
       "      <td>7.25</td>\n",
       "    </tr>\n",
       "    <tr>\n",
       "      <th>1</th>\n",
       "      <td>Alaska</td>\n",
       "      <td>7.75</td>\n",
       "    </tr>\n",
       "    <tr>\n",
       "      <th>2</th>\n",
       "      <td>Arizona</td>\n",
       "      <td>7.80</td>\n",
       "    </tr>\n",
       "    <tr>\n",
       "      <th>3</th>\n",
       "      <td>Arkansas</td>\n",
       "      <td>7.25</td>\n",
       "    </tr>\n",
       "    <tr>\n",
       "      <th>4</th>\n",
       "      <td>California</td>\n",
       "      <td>8.00</td>\n",
       "    </tr>\n",
       "  </tbody>\n",
       "</table>\n",
       "</div>"
      ],
      "text/plain": [
       "       County Min Wage\n",
       "0     Alabama     7.25\n",
       "1      Alaska     7.75\n",
       "2     Arizona     7.80\n",
       "3    Arkansas     7.25\n",
       "4  California     8.00"
      ]
     },
     "execution_count": 118,
     "metadata": {},
     "output_type": "execute_result"
    }
   ],
   "source": [
    "df.head()"
   ]
  },
  {
   "cell_type": "code",
   "execution_count": 119,
   "metadata": {},
   "outputs": [],
   "source": [
    "df.to_csv('csv_files/wage_data_state.csv', encoding='utf-8', index=False)"
   ]
  },
  {
   "cell_type": "code",
   "execution_count": null,
   "metadata": {},
   "outputs": [],
   "source": []
  }
 ],
 "metadata": {
  "kernelspec": {
   "display_name": "Python 3",
   "language": "python",
   "name": "python3"
  },
  "language_info": {
   "codemirror_mode": {
    "name": "ipython",
    "version": 3
   },
   "file_extension": ".py",
   "mimetype": "text/x-python",
   "name": "python",
   "nbconvert_exporter": "python",
   "pygments_lexer": "ipython3",
   "version": "3.6.5"
  }
 },
 "nbformat": 4,
 "nbformat_minor": 2
}
