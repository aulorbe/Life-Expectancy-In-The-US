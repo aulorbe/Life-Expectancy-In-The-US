{
 "cells": [
  {
   "cell_type": "markdown",
   "metadata": {},
   "source": [
    "# Feature Engineering"
   ]
  },
  {
   "cell_type": "markdown",
   "metadata": {},
   "source": [
    "## Import libraries"
   ]
  },
  {
   "cell_type": "code",
   "execution_count": 350,
   "metadata": {},
   "outputs": [],
   "source": [
    "import pandas as pd\n",
    "import numpy as np\n",
    "from matplotlib import pyplot as plt\n",
    "from sklearn.linear_model import LinearRegression\n",
    "from sklearn import datasets, linear_model, metrics, preprocessing, pipeline\n",
    "from sklearn.model_selection import train_test_split\n",
    "import statsmodels.api as sm\n",
    "from statsmodels.formula.api import ols"
   ]
  },
  {
   "cell_type": "markdown",
   "metadata": {},
   "source": [
    "## Import Dataframe"
   ]
  },
  {
   "cell_type": "code",
   "execution_count": 351,
   "metadata": {},
   "outputs": [],
   "source": [
    "df = pd.read_csv('csv_files/12_12_DF_log_state_FINAL.csv')"
   ]
  },
  {
   "cell_type": "markdown",
   "metadata": {},
   "source": [
    "### Initial look at dataframe"
   ]
  },
  {
   "cell_type": "code",
   "execution_count": 352,
   "metadata": {},
   "outputs": [
    {
     "data": {
      "text/html": [
       "<div>\n",
       "<style scoped>\n",
       "    .dataframe tbody tr th:only-of-type {\n",
       "        vertical-align: middle;\n",
       "    }\n",
       "\n",
       "    .dataframe tbody tr th {\n",
       "        vertical-align: top;\n",
       "    }\n",
       "\n",
       "    .dataframe thead th {\n",
       "        text-align: right;\n",
       "    }\n",
       "</style>\n",
       "<table border=\"1\" class=\"dataframe\">\n",
       "  <thead>\n",
       "    <tr style=\"text-align: right;\">\n",
       "      <th></th>\n",
       "      <th>Life Expectancy</th>\n",
       "      <th>Percent Smokers</th>\n",
       "      <th>Percent Obese</th>\n",
       "      <th>Unemployment_rate_2010</th>\n",
       "      <th>log_food_stamps</th>\n",
       "      <th>Alaska</th>\n",
       "      <th>Arizona</th>\n",
       "      <th>Arkansas</th>\n",
       "      <th>California</th>\n",
       "      <th>Colorado</th>\n",
       "      <th>...</th>\n",
       "      <th>Tennessee</th>\n",
       "      <th>Texas</th>\n",
       "      <th>Utah</th>\n",
       "      <th>Vermont</th>\n",
       "      <th>Virginia</th>\n",
       "      <th>Washington</th>\n",
       "      <th>West Virginia</th>\n",
       "      <th>Wisconsin</th>\n",
       "      <th>Wyoming</th>\n",
       "      <th>Min Wages Dummies</th>\n",
       "    </tr>\n",
       "  </thead>\n",
       "  <tbody>\n",
       "    <tr>\n",
       "      <th>2978</th>\n",
       "      <td>0.102956</td>\n",
       "      <td>0.306336</td>\n",
       "      <td>-0.751646</td>\n",
       "      <td>-0.877782</td>\n",
       "      <td>-0.773864</td>\n",
       "      <td>0</td>\n",
       "      <td>0</td>\n",
       "      <td>0</td>\n",
       "      <td>0</td>\n",
       "      <td>0</td>\n",
       "      <td>...</td>\n",
       "      <td>0</td>\n",
       "      <td>0</td>\n",
       "      <td>0</td>\n",
       "      <td>0</td>\n",
       "      <td>0</td>\n",
       "      <td>0</td>\n",
       "      <td>0</td>\n",
       "      <td>0</td>\n",
       "      <td>1</td>\n",
       "      <td>0</td>\n",
       "    </tr>\n",
       "    <tr>\n",
       "      <th>2979</th>\n",
       "      <td>2.342667</td>\n",
       "      <td>-2.827030</td>\n",
       "      <td>-4.134520</td>\n",
       "      <td>-0.530616</td>\n",
       "      <td>-0.509604</td>\n",
       "      <td>0</td>\n",
       "      <td>0</td>\n",
       "      <td>0</td>\n",
       "      <td>0</td>\n",
       "      <td>0</td>\n",
       "      <td>...</td>\n",
       "      <td>0</td>\n",
       "      <td>0</td>\n",
       "      <td>0</td>\n",
       "      <td>0</td>\n",
       "      <td>0</td>\n",
       "      <td>0</td>\n",
       "      <td>0</td>\n",
       "      <td>0</td>\n",
       "      <td>1</td>\n",
       "      <td>0</td>\n",
       "    </tr>\n",
       "    <tr>\n",
       "      <th>2980</th>\n",
       "      <td>-0.084430</td>\n",
       "      <td>-0.398064</td>\n",
       "      <td>-0.183891</td>\n",
       "      <td>-0.751540</td>\n",
       "      <td>-5.517516</td>\n",
       "      <td>0</td>\n",
       "      <td>0</td>\n",
       "      <td>0</td>\n",
       "      <td>0</td>\n",
       "      <td>0</td>\n",
       "      <td>...</td>\n",
       "      <td>0</td>\n",
       "      <td>0</td>\n",
       "      <td>0</td>\n",
       "      <td>0</td>\n",
       "      <td>0</td>\n",
       "      <td>0</td>\n",
       "      <td>0</td>\n",
       "      <td>0</td>\n",
       "      <td>1</td>\n",
       "      <td>0</td>\n",
       "    </tr>\n",
       "    <tr>\n",
       "      <th>2981</th>\n",
       "      <td>0.477728</td>\n",
       "      <td>-0.422354</td>\n",
       "      <td>-1.532309</td>\n",
       "      <td>-1.098706</td>\n",
       "      <td>1.532639</td>\n",
       "      <td>0</td>\n",
       "      <td>0</td>\n",
       "      <td>0</td>\n",
       "      <td>0</td>\n",
       "      <td>0</td>\n",
       "      <td>...</td>\n",
       "      <td>0</td>\n",
       "      <td>0</td>\n",
       "      <td>0</td>\n",
       "      <td>0</td>\n",
       "      <td>0</td>\n",
       "      <td>0</td>\n",
       "      <td>0</td>\n",
       "      <td>0</td>\n",
       "      <td>1</td>\n",
       "      <td>0</td>\n",
       "    </tr>\n",
       "    <tr>\n",
       "      <th>2982</th>\n",
       "      <td>0.419728</td>\n",
       "      <td>0.063440</td>\n",
       "      <td>0.170956</td>\n",
       "      <td>-1.445873</td>\n",
       "      <td>-0.972225</td>\n",
       "      <td>0</td>\n",
       "      <td>0</td>\n",
       "      <td>0</td>\n",
       "      <td>0</td>\n",
       "      <td>0</td>\n",
       "      <td>...</td>\n",
       "      <td>0</td>\n",
       "      <td>0</td>\n",
       "      <td>0</td>\n",
       "      <td>0</td>\n",
       "      <td>0</td>\n",
       "      <td>0</td>\n",
       "      <td>0</td>\n",
       "      <td>0</td>\n",
       "      <td>1</td>\n",
       "      <td>0</td>\n",
       "    </tr>\n",
       "  </tbody>\n",
       "</table>\n",
       "<p>5 rows × 55 columns</p>\n",
       "</div>"
      ],
      "text/plain": [
       "      Life Expectancy  Percent Smokers  Percent Obese  Unemployment_rate_2010  \\\n",
       "2978         0.102956         0.306336      -0.751646               -0.877782   \n",
       "2979         2.342667        -2.827030      -4.134520               -0.530616   \n",
       "2980        -0.084430        -0.398064      -0.183891               -0.751540   \n",
       "2981         0.477728        -0.422354      -1.532309               -1.098706   \n",
       "2982         0.419728         0.063440       0.170956               -1.445873   \n",
       "\n",
       "      log_food_stamps  Alaska  Arizona  Arkansas  California  Colorado  \\\n",
       "2978        -0.773864       0        0         0           0         0   \n",
       "2979        -0.509604       0        0         0           0         0   \n",
       "2980        -5.517516       0        0         0           0         0   \n",
       "2981         1.532639       0        0         0           0         0   \n",
       "2982        -0.972225       0        0         0           0         0   \n",
       "\n",
       "            ...          Tennessee  Texas  Utah  Vermont  Virginia  \\\n",
       "2978        ...                  0      0     0        0         0   \n",
       "2979        ...                  0      0     0        0         0   \n",
       "2980        ...                  0      0     0        0         0   \n",
       "2981        ...                  0      0     0        0         0   \n",
       "2982        ...                  0      0     0        0         0   \n",
       "\n",
       "      Washington  West Virginia  Wisconsin  Wyoming  Min Wages Dummies  \n",
       "2978           0              0          0        1                  0  \n",
       "2979           0              0          0        1                  0  \n",
       "2980           0              0          0        1                  0  \n",
       "2981           0              0          0        1                  0  \n",
       "2982           0              0          0        1                  0  \n",
       "\n",
       "[5 rows x 55 columns]"
      ]
     },
     "execution_count": 352,
     "metadata": {},
     "output_type": "execute_result"
    }
   ],
   "source": [
    "df.tail()"
   ]
  },
  {
   "cell_type": "markdown",
   "metadata": {},
   "source": [
    "## Test, Train, Split"
   ]
  },
  {
   "cell_type": "code",
   "execution_count": 353,
   "metadata": {},
   "outputs": [
    {
     "data": {
      "text/html": [
       "<div>\n",
       "<style scoped>\n",
       "    .dataframe tbody tr th:only-of-type {\n",
       "        vertical-align: middle;\n",
       "    }\n",
       "\n",
       "    .dataframe tbody tr th {\n",
       "        vertical-align: top;\n",
       "    }\n",
       "\n",
       "    .dataframe thead th {\n",
       "        text-align: right;\n",
       "    }\n",
       "</style>\n",
       "<table border=\"1\" class=\"dataframe\">\n",
       "  <thead>\n",
       "    <tr style=\"text-align: right;\">\n",
       "      <th></th>\n",
       "      <th>Percent Smokers</th>\n",
       "      <th>Percent Obese</th>\n",
       "      <th>Unemployment_rate_2010</th>\n",
       "      <th>log_food_stamps</th>\n",
       "      <th>Alaska</th>\n",
       "      <th>Arizona</th>\n",
       "      <th>Arkansas</th>\n",
       "      <th>California</th>\n",
       "      <th>Colorado</th>\n",
       "      <th>Connecticut</th>\n",
       "      <th>...</th>\n",
       "      <th>Tennessee</th>\n",
       "      <th>Texas</th>\n",
       "      <th>Utah</th>\n",
       "      <th>Vermont</th>\n",
       "      <th>Virginia</th>\n",
       "      <th>Washington</th>\n",
       "      <th>West Virginia</th>\n",
       "      <th>Wisconsin</th>\n",
       "      <th>Wyoming</th>\n",
       "      <th>Min Wages Dummies</th>\n",
       "    </tr>\n",
       "  </thead>\n",
       "  <tbody>\n",
       "    <tr>\n",
       "      <th>2978</th>\n",
       "      <td>0.306336</td>\n",
       "      <td>-0.751646</td>\n",
       "      <td>-0.877782</td>\n",
       "      <td>-0.773864</td>\n",
       "      <td>0</td>\n",
       "      <td>0</td>\n",
       "      <td>0</td>\n",
       "      <td>0</td>\n",
       "      <td>0</td>\n",
       "      <td>0</td>\n",
       "      <td>...</td>\n",
       "      <td>0</td>\n",
       "      <td>0</td>\n",
       "      <td>0</td>\n",
       "      <td>0</td>\n",
       "      <td>0</td>\n",
       "      <td>0</td>\n",
       "      <td>0</td>\n",
       "      <td>0</td>\n",
       "      <td>1</td>\n",
       "      <td>0</td>\n",
       "    </tr>\n",
       "    <tr>\n",
       "      <th>2979</th>\n",
       "      <td>-2.827030</td>\n",
       "      <td>-4.134520</td>\n",
       "      <td>-0.530616</td>\n",
       "      <td>-0.509604</td>\n",
       "      <td>0</td>\n",
       "      <td>0</td>\n",
       "      <td>0</td>\n",
       "      <td>0</td>\n",
       "      <td>0</td>\n",
       "      <td>0</td>\n",
       "      <td>...</td>\n",
       "      <td>0</td>\n",
       "      <td>0</td>\n",
       "      <td>0</td>\n",
       "      <td>0</td>\n",
       "      <td>0</td>\n",
       "      <td>0</td>\n",
       "      <td>0</td>\n",
       "      <td>0</td>\n",
       "      <td>1</td>\n",
       "      <td>0</td>\n",
       "    </tr>\n",
       "    <tr>\n",
       "      <th>2980</th>\n",
       "      <td>-0.398064</td>\n",
       "      <td>-0.183891</td>\n",
       "      <td>-0.751540</td>\n",
       "      <td>-5.517516</td>\n",
       "      <td>0</td>\n",
       "      <td>0</td>\n",
       "      <td>0</td>\n",
       "      <td>0</td>\n",
       "      <td>0</td>\n",
       "      <td>0</td>\n",
       "      <td>...</td>\n",
       "      <td>0</td>\n",
       "      <td>0</td>\n",
       "      <td>0</td>\n",
       "      <td>0</td>\n",
       "      <td>0</td>\n",
       "      <td>0</td>\n",
       "      <td>0</td>\n",
       "      <td>0</td>\n",
       "      <td>1</td>\n",
       "      <td>0</td>\n",
       "    </tr>\n",
       "    <tr>\n",
       "      <th>2981</th>\n",
       "      <td>-0.422354</td>\n",
       "      <td>-1.532309</td>\n",
       "      <td>-1.098706</td>\n",
       "      <td>1.532639</td>\n",
       "      <td>0</td>\n",
       "      <td>0</td>\n",
       "      <td>0</td>\n",
       "      <td>0</td>\n",
       "      <td>0</td>\n",
       "      <td>0</td>\n",
       "      <td>...</td>\n",
       "      <td>0</td>\n",
       "      <td>0</td>\n",
       "      <td>0</td>\n",
       "      <td>0</td>\n",
       "      <td>0</td>\n",
       "      <td>0</td>\n",
       "      <td>0</td>\n",
       "      <td>0</td>\n",
       "      <td>1</td>\n",
       "      <td>0</td>\n",
       "    </tr>\n",
       "    <tr>\n",
       "      <th>2982</th>\n",
       "      <td>0.063440</td>\n",
       "      <td>0.170956</td>\n",
       "      <td>-1.445873</td>\n",
       "      <td>-0.972225</td>\n",
       "      <td>0</td>\n",
       "      <td>0</td>\n",
       "      <td>0</td>\n",
       "      <td>0</td>\n",
       "      <td>0</td>\n",
       "      <td>0</td>\n",
       "      <td>...</td>\n",
       "      <td>0</td>\n",
       "      <td>0</td>\n",
       "      <td>0</td>\n",
       "      <td>0</td>\n",
       "      <td>0</td>\n",
       "      <td>0</td>\n",
       "      <td>0</td>\n",
       "      <td>0</td>\n",
       "      <td>1</td>\n",
       "      <td>0</td>\n",
       "    </tr>\n",
       "  </tbody>\n",
       "</table>\n",
       "<p>5 rows × 54 columns</p>\n",
       "</div>"
      ],
      "text/plain": [
       "      Percent Smokers  Percent Obese  Unemployment_rate_2010  log_food_stamps  \\\n",
       "2978         0.306336      -0.751646               -0.877782        -0.773864   \n",
       "2979        -2.827030      -4.134520               -0.530616        -0.509604   \n",
       "2980        -0.398064      -0.183891               -0.751540        -5.517516   \n",
       "2981        -0.422354      -1.532309               -1.098706         1.532639   \n",
       "2982         0.063440       0.170956               -1.445873        -0.972225   \n",
       "\n",
       "      Alaska  Arizona  Arkansas  California  Colorado  Connecticut  \\\n",
       "2978       0        0         0           0         0            0   \n",
       "2979       0        0         0           0         0            0   \n",
       "2980       0        0         0           0         0            0   \n",
       "2981       0        0         0           0         0            0   \n",
       "2982       0        0         0           0         0            0   \n",
       "\n",
       "            ...          Tennessee  Texas  Utah  Vermont  Virginia  \\\n",
       "2978        ...                  0      0     0        0         0   \n",
       "2979        ...                  0      0     0        0         0   \n",
       "2980        ...                  0      0     0        0         0   \n",
       "2981        ...                  0      0     0        0         0   \n",
       "2982        ...                  0      0     0        0         0   \n",
       "\n",
       "      Washington  West Virginia  Wisconsin  Wyoming  Min Wages Dummies  \n",
       "2978           0              0          0        1                  0  \n",
       "2979           0              0          0        1                  0  \n",
       "2980           0              0          0        1                  0  \n",
       "2981           0              0          0        1                  0  \n",
       "2982           0              0          0        1                  0  \n",
       "\n",
       "[5 rows x 54 columns]"
      ]
     },
     "execution_count": 353,
     "metadata": {},
     "output_type": "execute_result"
    }
   ],
   "source": [
    "# the target is panda series of the dependent variable\n",
    "target = df['Life Expectancy'] \n",
    "\n",
    "# make dataframe of just feature, or independent variables\n",
    "features = df.drop(columns=['Life Expectancy']) # taking target out of dataframe\n",
    "\n",
    "# look at features dataframe\n",
    "features.tail()"
   ]
  },
  {
   "cell_type": "code",
   "execution_count": 354,
   "metadata": {},
   "outputs": [],
   "source": [
    "# split the data to train and test our model\n",
    "X_train, X_test, y_train, y_test = train_test_split(features, target, random_state=0,test_size=0.2)\n"
   ]
  },
  {
   "cell_type": "code",
   "execution_count": 355,
   "metadata": {},
   "outputs": [
    {
     "name": "stdout",
     "output_type": "stream",
     "text": [
      " Length of  \n",
      " Feautures Training Data: 2386 \n",
      " Features Test Data: 597 \n",
      " Target Training Data: 2386 \n",
      " Target Test Data: 597\n"
     ]
    }
   ],
   "source": [
    "# check the length of our train and test dataframes\n",
    "\n",
    "print(' Length of ',\n",
    "    '\\n Feautures Training Data:',len(X_train),\n",
    "    '\\n Features Test Data:', len(X_test), \n",
    "    '\\n Target Training Data:', len(y_train),\n",
    "    '\\n Target Test Data:', len(y_test))"
   ]
  },
  {
   "cell_type": "markdown",
   "metadata": {},
   "source": [
    "## Ordinary Least Squares"
   ]
  },
  {
   "cell_type": "markdown",
   "metadata": {},
   "source": [
    "Using the sum of the squared differences between our features (the observed dependent features), such as percent of the population that are smokers per county and percent of that population that is obese, we calculated the error."
   ]
  },
  {
   "cell_type": "code",
   "execution_count": 356,
   "metadata": {},
   "outputs": [],
   "source": [
    "# set the X_train dataframe to a variable to build a linear regression model with\n",
    "# predictors = X_train #features\n",
    "\n",
    "# # add constant term to predictors\n",
    "# predictors_int = sm.add_constant(predictors)\n",
    "\n",
    "# # make a model based on OLS\n",
    "# model = sm.OLS(y_train,predictors_int).fit()#sm.OLS(df['Life Expectancy'],predictors_int).fit()\n",
    "\n",
    "# # print out a summary of the model\n",
    "# model.summary()"
   ]
  },
  {
   "cell_type": "markdown",
   "metadata": {},
   "source": [
    "# r-sq is 0.799, which is very good! \n",
    "\n",
    "r-sq = \"translates in the percent of variance explained by the model. The remaining percentage represents the variance explained by error, the E term, that which the model and predictors fail to grasp.\"\n",
    "\n",
    "adj. r-sq is 0.794, which is also great.\n",
    "\n",
    "From our initial model readout above, it looks like log_food_stamps, AZ, CO, CT, FL, GA, ME, MA, MS, RI, TX, UT all have p-values > 0.05, meaning that there is no statistically significant relationship between these variables and Life Expectancy. \n",
    "\n",
    "**later we might want to take out the above ^ features and see if we can get our p-value higher**\n",
    "\n",
    "We have slight negative skew at -0.285 and we are leptokurtic at 5.619, the latter meaning that we have some outlier data points, or occasional values exceeding (in terms of standard deviations from the mean) what is predicted by the normal distribution."
   ]
  },
  {
   "cell_type": "code",
   "execution_count": 357,
   "metadata": {},
   "outputs": [],
   "source": [
    "# predict new y values\n",
    "# y_ols_pred = model.predict(sm.add_constant(X_test))\n"
   ]
  },
  {
   "cell_type": "code",
   "execution_count": 358,
   "metadata": {
    "scrolled": true
   },
   "outputs": [],
   "source": [
    "# plot the y-values our model (based on the training data) predicted vs the y-values from our test data to evaluate our model's performance\n",
    "# plt.scatter(y_test, y_ols_pred, alpha=0.4)\n",
    "# plt.xlabel('Test Y-Values')\n",
    "# plt.ylabel('Predicted Y-Values from Baseline Model')"
   ]
  },
  {
   "cell_type": "markdown",
   "metadata": {},
   "source": [
    "^ why are we doing this above and why are we doing regression with scikit learn and statsmodel? Let's just use 1. I vote for scikit learn. - AL\n"
   ]
  },
  {
   "cell_type": "markdown",
   "metadata": {},
   "source": [
    "## Scikit-learn regression"
   ]
  },
  {
   "cell_type": "code",
   "execution_count": 359,
   "metadata": {},
   "outputs": [
    {
     "data": {
      "text/plain": [
       "LinearRegression(copy_X=True, fit_intercept=True, n_jobs=None,\n",
       "         normalize=False)"
      ]
     },
     "execution_count": 359,
     "metadata": {},
     "output_type": "execute_result"
    }
   ],
   "source": [
    "# set the y variable to Life Expectancy\n",
    "y = df['Life Expectancy']\n",
    "\n",
    "# set the linear regression method to a variable\n",
    "linreg = LinearRegression()\n",
    "\n",
    "# fit a linear regression to the predictors (features) and life expectancy\n",
    "linreg.fit(X_train, y_train)"
   ]
  },
  {
   "cell_type": "code",
   "execution_count": 360,
   "metadata": {},
   "outputs": [
    {
     "name": "stdout",
     "output_type": "stream",
     "text": [
      "[-5.15483625e-01 -2.72476557e-01 -1.00999467e-01  2.64948194e-03\n",
      " -3.07738194e+11 -3.07738194e+11  2.89980587e-01 -3.07738194e+11\n",
      " -3.07738194e+11 -3.07738194e+11  9.73099709e-01 -3.07738194e+11\n",
      "  1.39579773e-02  9.51542854e-01  6.83807373e-01  8.15466404e-01\n",
      "  1.02210236e+00  1.16943359e+00  8.40713501e-01  6.28814697e-01\n",
      "  1.97561264e-01 -3.07738194e+11  4.29801941e-01 -3.07738194e+11\n",
      "  1.29191589e+00  1.38579559e+00 -1.52954102e-01  9.38903809e-01\n",
      "  4.34707642e-01  1.05006409e+00  4.92687225e-01  7.33216047e-01\n",
      "  4.29283142e-01 -3.07738194e+11  8.58169556e-01  4.07073975e-01\n",
      "  1.16955566e+00 -3.07738194e+11  2.16827393e-01 -3.07738194e+11\n",
      "  1.00582504e+00 -3.07738194e+11  2.15469360e-01  9.47677612e-01\n",
      "  2.36877441e-01  1.29302979e-01  4.79278564e-02  5.27126312e-01\n",
      "  4.52224731e-01 -3.07738194e+11  6.92504883e-01  1.19749451e+00\n",
      "  3.89614105e-01  3.07738194e+11] \n",
      " There are 54 coefficients for the linear regression \n",
      " the y-intercept is  -0.609953267479369\n",
      "The model is a  <class 'sklearn.linear_model.base.LinearRegression'>\n",
      "The R-squared value is  0.7987306319927164 which maps to the OLS R-squared value of .808\n"
     ]
    }
   ],
   "source": [
    "# get coefficients of the linear regression\n",
    "print(linreg.coef_ ,  '\\n There are',len(linreg.coef_),'coefficients for the linear regression','\\n the y-intercept is ', linreg.intercept_)\n",
    "print('The model is a ', type(linreg))\n",
    "print('The R-squared value is ', linreg.score(X_train, y_train), 'which maps to the OLS R-squared value of .808')\n"
   ]
  },
  {
   "cell_type": "code",
   "execution_count": 361,
   "metadata": {},
   "outputs": [],
   "source": [
    "# predict the y value from the linear regression model\n",
    "y_hat_train = linreg.predict(X_train)\n",
    "y_hat_test = linreg.predict(X_test)"
   ]
  },
  {
   "cell_type": "code",
   "execution_count": 362,
   "metadata": {},
   "outputs": [],
   "source": [
    "# look at the residuals\n",
    "train_residuals = y_hat_train - y_train\n",
    "test_residuals = y_hat_test - y_test"
   ]
  },
  {
   "cell_type": "code",
   "execution_count": 363,
   "metadata": {},
   "outputs": [
    {
     "name": "stdout",
     "output_type": "stream",
     "text": [
      "Train Mean Squarred Error: 0.20111850971104311\n",
      "Test Mean Squarred Error: 0.17354713826299414\n"
     ]
    }
   ],
   "source": [
    "from sklearn.metrics import mean_squared_error\n",
    "\n",
    "# calculate the RMSE\n",
    "train_mse = mean_squared_error(y_train, y_hat_train)\n",
    "test_mse = mean_squared_error(y_test, y_hat_test)\n",
    "print('Train Mean Squarred Error:', train_mse)\n",
    "print('Test Mean Squarred Error:', test_mse)"
   ]
  },
  {
   "cell_type": "code",
   "execution_count": 364,
   "metadata": {},
   "outputs": [
    {
     "data": {
      "text/plain": [
       "Text(0,0.5,'Predicted Values')"
      ]
     },
     "execution_count": 364,
     "metadata": {},
     "output_type": "execute_result"
    },
    {
     "data": {
      "image/png": "[encoded data removed]",
      "text/plain": [
       "<Figure size 432x288 with 1 Axes>"
      ]
     },
     "metadata": {},
     "output_type": "display_data"
    }
   ],
   "source": [
    "# plot the predicted y-value vs the true-value \n",
    "# diff between y-hat and true-y = the residuals\n",
    "plt.scatter(y_test, y_pred, alpha = 0.5)\n",
    "plt.xlabel('True Values')\n",
    "plt.ylabel('Predicted Values')"
   ]
  },
  {
   "cell_type": "markdown",
   "metadata": {},
   "source": [
    "# Feature Selection"
   ]
  },
  {
   "cell_type": "markdown",
   "metadata": {},
   "source": [
    "## Wrapper Method: Recursive Feature Elimination \n",
    "picks the top *n* features from your model\n",
    "\n",
    "From [documentation](https://scikit-learn.org/stable/modules/generated/sklearn.feature_selection.RFE.html#sklearn.feature_selection.RFE): \"...the goal of recursive feature elimination (RFE) is to select features by recursively considering smaller and smaller sets of features. First, the estimator is trained on the initial set of features and the importance of each feature is obtained either through a coef_ attribute or through a feature_importances_ attribute. Then, the least important features are pruned from current set of features. That procedure is recursively repeated on the pruned set until the desired number of features to select is eventually reached.\""
   ]
  },
  {
   "cell_type": "code",
   "execution_count": 365,
   "metadata": {},
   "outputs": [],
   "source": [
    "from sklearn.feature_selection import RFE\n"
   ]
  },
  {
   "cell_type": "code",
   "execution_count": 366,
   "metadata": {},
   "outputs": [],
   "source": [
    "linreg = LinearRegression()\n",
    "selector = RFE(linreg, n_features_to_select = 54)\n",
    "selector = selector.fit(X_train, y_train)\n"
   ]
  },
  {
   "cell_type": "code",
   "execution_count": 367,
   "metadata": {},
   "outputs": [
    {
     "data": {
      "text/plain": [
       "array([ True,  True,  True,  True,  True,  True,  True,  True,  True,\n",
       "        True,  True,  True,  True,  True,  True,  True,  True,  True,\n",
       "        True,  True,  True,  True,  True,  True,  True,  True,  True,\n",
       "        True,  True,  True,  True,  True,  True,  True,  True,  True,\n",
       "        True,  True,  True,  True,  True,  True,  True,  True,  True,\n",
       "        True,  True,  True,  True,  True,  True,  True,  True,  True])"
      ]
     },
     "execution_count": 367,
     "metadata": {},
     "output_type": "execute_result"
    }
   ],
   "source": [
    "selector.support_ \n"
   ]
  },
  {
   "cell_type": "code",
   "execution_count": 368,
   "metadata": {},
   "outputs": [],
   "source": [
    "# Fit the linear regression model again using the 5 columns selected\n",
    "\n",
    "selected_columns = X_train.columns[selector.support_ ]\n",
    "model = linreg.fit(X_train[selected_columns],y_train)"
   ]
  },
  {
   "cell_type": "code",
   "execution_count": 369,
   "metadata": {},
   "outputs": [],
   "source": [
    "# predict y-hat using new model\n",
    "yhat = model.predict(X_train[selected_columns])"
   ]
  },
  {
   "cell_type": "code",
   "execution_count": 370,
   "metadata": {},
   "outputs": [],
   "source": [
    "# Comparing metrics w/baseline model\n",
    "\n",
    "SS_Residual = np.sum((y_train-yhat)**2)\n",
    "SS_Total = np.sum((y_train-np.mean(y_train))**2)\n",
    "r_squared = 1 - (float(SS_Residual))/SS_Total\n",
    "adjusted_r_squared = 1 - (1-r_squared)*(len(y_train)-1)/(len(y_train)-X_train[selected_columns].shape[1]-1)"
   ]
  },
  {
   "cell_type": "code",
   "execution_count": 371,
   "metadata": {},
   "outputs": [
    {
     "data": {
      "text/plain": [
       "0.7987306319927164"
      ]
     },
     "execution_count": 371,
     "metadata": {},
     "output_type": "execute_result"
    }
   ],
   "source": [
    "r_squared"
   ]
  },
  {
   "cell_type": "code",
   "execution_count": 372,
   "metadata": {},
   "outputs": [
    {
     "data": {
      "text/plain": [
       "0.7940680211508488"
      ]
     },
     "execution_count": 372,
     "metadata": {},
     "output_type": "execute_result"
    }
   ],
   "source": [
    "adjusted_r_squared"
   ]
  },
  {
   "cell_type": "code",
   "execution_count": 373,
   "metadata": {},
   "outputs": [
    {
     "name": "stdout",
     "output_type": "stream",
     "text": [
      "Train Mean Squarred Error: 0.20111850971104311\n"
     ]
    }
   ],
   "source": [
    "train_mse = mean_squared_error(y_train, yhat)\n",
    "\n",
    "print('Train Mean Squarred Error:', train_mse)\n"
   ]
  },
  {
   "cell_type": "code",
   "execution_count": null,
   "metadata": {},
   "outputs": [],
   "source": []
  },
  {
   "cell_type": "code",
   "execution_count": null,
   "metadata": {},
   "outputs": [],
   "source": []
  },
  {
   "cell_type": "markdown",
   "metadata": {},
   "source": [
    "We can see that when we only use the top 5 features for our model our r-squared value significantly decreases from ~ 80% to ~ 60%, meaning that we want to include more features than just the top 5.\n",
    "\n",
    "After playing around a bit with the *n* value, we found that n = 54 gave us the highest r-squared and adjusted r-squared value (0.7987306319927164 and 0.7940680211508488, respectively). Since we know that our df only has 54 columns, this value doesn't really tell us much about how best features. It's essentially saying that the 54 features we have are the best ones to use (ie our baseline model is best so far).\n"
   ]
  },
  {
   "cell_type": "code",
   "execution_count": null,
   "metadata": {},
   "outputs": [],
   "source": []
  },
  {
   "cell_type": "markdown",
   "metadata": {},
   "source": [
    "## Filter Method 1: Variance Threshold"
   ]
  },
  {
   "cell_type": "markdown",
   "metadata": {},
   "source": [
    "\"is a simple baseline approach to feature selection. It removes all features whose variance doesn’t meet some threshold. By default, it removes all zero-variance features, i.e. features that have the same value in all samples.\" - [Documentation](https://scikit-learn.org/stable/modules/feature_selection.html#variance-threshold)"
   ]
  },
  {
   "cell_type": "code",
   "execution_count": 374,
   "metadata": {},
   "outputs": [],
   "source": [
    "from sklearn.feature_selection import VarianceThreshold\n"
   ]
  },
  {
   "cell_type": "code",
   "execution_count": 435,
   "metadata": {},
   "outputs": [],
   "source": [
    "thresholder = VarianceThreshold(threshold=0)\n",
    "\n",
    "def variance_threshold_selector(data, threshold=0):\n",
    "    selector = VarianceThreshold(threshold)\n",
    "    selector.fit(data)\n",
    "    return data[data.columns[selector.get_support(indices=True)]]"
   ]
  },
  {
   "cell_type": "code",
   "execution_count": 436,
   "metadata": {},
   "outputs": [],
   "source": [
    "features_selected_train = variance_threshold_selector(X_train)\n"
   ]
  },
  {
   "cell_type": "code",
   "execution_count": 437,
   "metadata": {},
   "outputs": [
    {
     "data": {
      "text/html": [
       "<div>\n",
       "<style scoped>\n",
       "    .dataframe tbody tr th:only-of-type {\n",
       "        vertical-align: middle;\n",
       "    }\n",
       "\n",
       "    .dataframe tbody tr th {\n",
       "        vertical-align: top;\n",
       "    }\n",
       "\n",
       "    .dataframe thead th {\n",
       "        text-align: right;\n",
       "    }\n",
       "</style>\n",
       "<table border=\"1\" class=\"dataframe\">\n",
       "  <thead>\n",
       "    <tr style=\"text-align: right;\">\n",
       "      <th></th>\n",
       "      <th>Percent Smokers</th>\n",
       "      <th>Percent Obese</th>\n",
       "      <th>Unemployment_rate_2010</th>\n",
       "      <th>log_food_stamps</th>\n",
       "      <th>Alaska</th>\n",
       "      <th>Arizona</th>\n",
       "      <th>Arkansas</th>\n",
       "      <th>California</th>\n",
       "      <th>Colorado</th>\n",
       "      <th>Connecticut</th>\n",
       "      <th>...</th>\n",
       "      <th>Tennessee</th>\n",
       "      <th>Texas</th>\n",
       "      <th>Utah</th>\n",
       "      <th>Vermont</th>\n",
       "      <th>Virginia</th>\n",
       "      <th>Washington</th>\n",
       "      <th>West Virginia</th>\n",
       "      <th>Wisconsin</th>\n",
       "      <th>Wyoming</th>\n",
       "      <th>Min Wages Dummies</th>\n",
       "    </tr>\n",
       "  </thead>\n",
       "  <tbody>\n",
       "    <tr>\n",
       "      <th>369</th>\n",
       "      <td>0.962157</td>\n",
       "      <td>0.644085</td>\n",
       "      <td>0.069035</td>\n",
       "      <td>-0.158180</td>\n",
       "      <td>0</td>\n",
       "      <td>0</td>\n",
       "      <td>0</td>\n",
       "      <td>0</td>\n",
       "      <td>0</td>\n",
       "      <td>0</td>\n",
       "      <td>...</td>\n",
       "      <td>0</td>\n",
       "      <td>0</td>\n",
       "      <td>0</td>\n",
       "      <td>0</td>\n",
       "      <td>0</td>\n",
       "      <td>0</td>\n",
       "      <td>0</td>\n",
       "      <td>0</td>\n",
       "      <td>0</td>\n",
       "      <td>0</td>\n",
       "    </tr>\n",
       "    <tr>\n",
       "      <th>1313</th>\n",
       "      <td>-1.248202</td>\n",
       "      <td>-0.680676</td>\n",
       "      <td>-0.688419</td>\n",
       "      <td>0.751310</td>\n",
       "      <td>0</td>\n",
       "      <td>0</td>\n",
       "      <td>0</td>\n",
       "      <td>0</td>\n",
       "      <td>0</td>\n",
       "      <td>0</td>\n",
       "      <td>...</td>\n",
       "      <td>0</td>\n",
       "      <td>0</td>\n",
       "      <td>0</td>\n",
       "      <td>0</td>\n",
       "      <td>0</td>\n",
       "      <td>0</td>\n",
       "      <td>0</td>\n",
       "      <td>0</td>\n",
       "      <td>0</td>\n",
       "      <td>0</td>\n",
       "    </tr>\n",
       "    <tr>\n",
       "      <th>1628</th>\n",
       "      <td>-0.981016</td>\n",
       "      <td>-0.278517</td>\n",
       "      <td>-1.635237</td>\n",
       "      <td>-1.058666</td>\n",
       "      <td>0</td>\n",
       "      <td>0</td>\n",
       "      <td>0</td>\n",
       "      <td>0</td>\n",
       "      <td>0</td>\n",
       "      <td>0</td>\n",
       "      <td>...</td>\n",
       "      <td>0</td>\n",
       "      <td>0</td>\n",
       "      <td>0</td>\n",
       "      <td>0</td>\n",
       "      <td>0</td>\n",
       "      <td>0</td>\n",
       "      <td>0</td>\n",
       "      <td>0</td>\n",
       "      <td>0</td>\n",
       "      <td>0</td>\n",
       "    </tr>\n",
       "    <tr>\n",
       "      <th>2696</th>\n",
       "      <td>-0.665250</td>\n",
       "      <td>-1.390370</td>\n",
       "      <td>-0.783101</td>\n",
       "      <td>0.156292</td>\n",
       "      <td>0</td>\n",
       "      <td>0</td>\n",
       "      <td>0</td>\n",
       "      <td>0</td>\n",
       "      <td>0</td>\n",
       "      <td>0</td>\n",
       "      <td>...</td>\n",
       "      <td>0</td>\n",
       "      <td>0</td>\n",
       "      <td>0</td>\n",
       "      <td>1</td>\n",
       "      <td>0</td>\n",
       "      <td>0</td>\n",
       "      <td>0</td>\n",
       "      <td>0</td>\n",
       "      <td>0</td>\n",
       "      <td>0</td>\n",
       "    </tr>\n",
       "    <tr>\n",
       "      <th>1275</th>\n",
       "      <td>0.063440</td>\n",
       "      <td>-0.609707</td>\n",
       "      <td>0.258399</td>\n",
       "      <td>0.315317</td>\n",
       "      <td>0</td>\n",
       "      <td>0</td>\n",
       "      <td>0</td>\n",
       "      <td>0</td>\n",
       "      <td>0</td>\n",
       "      <td>0</td>\n",
       "      <td>...</td>\n",
       "      <td>0</td>\n",
       "      <td>0</td>\n",
       "      <td>0</td>\n",
       "      <td>0</td>\n",
       "      <td>0</td>\n",
       "      <td>0</td>\n",
       "      <td>0</td>\n",
       "      <td>0</td>\n",
       "      <td>0</td>\n",
       "      <td>0</td>\n",
       "    </tr>\n",
       "  </tbody>\n",
       "</table>\n",
       "<p>5 rows × 54 columns</p>\n",
       "</div>"
      ],
      "text/plain": [
       "      Percent Smokers  Percent Obese  Unemployment_rate_2010  log_food_stamps  \\\n",
       "369          0.962157       0.644085                0.069035        -0.158180   \n",
       "1313        -1.248202      -0.680676               -0.688419         0.751310   \n",
       "1628        -0.981016      -0.278517               -1.635237        -1.058666   \n",
       "2696        -0.665250      -1.390370               -0.783101         0.156292   \n",
       "1275         0.063440      -0.609707                0.258399         0.315317   \n",
       "\n",
       "      Alaska  Arizona  Arkansas  California  Colorado  Connecticut  \\\n",
       "369        0        0         0           0         0            0   \n",
       "1313       0        0         0           0         0            0   \n",
       "1628       0        0         0           0         0            0   \n",
       "2696       0        0         0           0         0            0   \n",
       "1275       0        0         0           0         0            0   \n",
       "\n",
       "            ...          Tennessee  Texas  Utah  Vermont  Virginia  \\\n",
       "369         ...                  0      0     0        0         0   \n",
       "1313        ...                  0      0     0        0         0   \n",
       "1628        ...                  0      0     0        0         0   \n",
       "2696        ...                  0      0     0        1         0   \n",
       "1275        ...                  0      0     0        0         0   \n",
       "\n",
       "      Washington  West Virginia  Wisconsin  Wyoming  Min Wages Dummies  \n",
       "369            0              0          0        0                  0  \n",
       "1313           0              0          0        0                  0  \n",
       "1628           0              0          0        0                  0  \n",
       "2696           0              0          0        0                  0  \n",
       "1275           0              0          0        0                  0  \n",
       "\n",
       "[5 rows x 54 columns]"
      ]
     },
     "execution_count": 437,
     "metadata": {},
     "output_type": "execute_result"
    }
   ],
   "source": [
    "features_selected_train.head()"
   ]
  },
  {
   "cell_type": "code",
   "execution_count": 438,
   "metadata": {},
   "outputs": [],
   "source": [
    "# now that we have tossed out any features with low variance, let's run our model again\n",
    "# to see if we can get higher metrics\n",
    "\n",
    "linreg = LinearRegression()\n",
    "fitting_model = linreg.fit(features_selected_train, y_train)\n",
    "\n",
    "y_hat = linreg.predict(features_selected_train)\n"
   ]
  },
  {
   "cell_type": "code",
   "execution_count": 439,
   "metadata": {},
   "outputs": [],
   "source": [
    "SS_Residual = np.sum((y_train-y_hat)**2)\n",
    "SS_Total = np.sum((y_train-np.mean(y_train))**2)\n",
    "r_squared = 1 - (float(SS_Residual))/SS_Total\n",
    "adjusted_r_squared = 1 - (1-r_squared)*(len(y_train)-1)/(len(y_train)-features_selected_train.shape[1]-1)\n"
   ]
  },
  {
   "cell_type": "code",
   "execution_count": 441,
   "metadata": {},
   "outputs": [
    {
     "data": {
      "text/plain": [
       "0.7987306319927164"
      ]
     },
     "execution_count": 441,
     "metadata": {},
     "output_type": "execute_result"
    }
   ],
   "source": [
    "r_squared"
   ]
  },
  {
   "cell_type": "code",
   "execution_count": 442,
   "metadata": {},
   "outputs": [
    {
     "data": {
      "text/plain": [
       "0.7940680211508488"
      ]
     },
     "execution_count": 442,
     "metadata": {},
     "output_type": "execute_result"
    }
   ],
   "source": [
    "adjusted_r_squared"
   ]
  },
  {
   "cell_type": "code",
   "execution_count": 443,
   "metadata": {},
   "outputs": [
    {
     "name": "stdout",
     "output_type": "stream",
     "text": [
      "Train Mean Squarred Error: 0.20111850971104311\n"
     ]
    }
   ],
   "source": [
    "train_mse_filter = mean_squared_error(y_train, y_hat)\n",
    "\n",
    "print('Train Mean Squarred Error:', train_mse_filter)"
   ]
  },
  {
   "cell_type": "code",
   "execution_count": 336,
   "metadata": {},
   "outputs": [],
   "source": [
    "## ORIGINAL ANALYSIS, WITH THRESHOLD OF 0.5\n",
    "# we can see that filtering out low-variance features actually made our model worse in terms\n",
    "# of r-sq and adjusted r-sq, but we got a higher RMSE than our base model"
   ]
  },
  {
   "cell_type": "code",
   "execution_count": 444,
   "metadata": {},
   "outputs": [],
   "source": [
    "## SUBSEQUENT ANALYSIS WITH THRESHOLD OF 0\n",
    "# after playing around with some different threshold values, we found that having no threshold\n",
    "# still gave us the best r-sq and adjusted r-sq values, even though these had a inverse relationship\n",
    "# with our RMSE value(ie our RMSE lowered the higher our r-sq and adj. r-sq values got)\n",
    "# This ^ indicates that our original model is still our best"
   ]
  },
  {
   "cell_type": "code",
   "execution_count": null,
   "metadata": {},
   "outputs": [],
   "source": []
  },
  {
   "cell_type": "markdown",
   "metadata": {},
   "source": [
    "## Filter Method 2: Univariate Feature Selection"
   ]
  },
  {
   "cell_type": "markdown",
   "metadata": {},
   "source": [
    "\"Univariate feature selection works by selecting the best features based on univariate statistical tests....removes all but the  highest scoring features\" - [Documentation](https://scikit-learn.org/stable/modules/feature_selection.html#univariate-feature-selection)\n",
    "\n",
    "Returns scores and p-values of features"
   ]
  },
  {
   "cell_type": "code",
   "execution_count": 450,
   "metadata": {},
   "outputs": [],
   "source": [
    "from sklearn.feature_selection import SelectKBest\n",
    "from sklearn.feature_selection import f_regression, mutual_info_regression"
   ]
  },
  {
   "cell_type": "code",
   "execution_count": 451,
   "metadata": {},
   "outputs": [],
   "source": [
    "def information_selector(X, y, scoring, k=5):\n",
    "    selector = SelectKBest(score_func=scoring, k=k)\n",
    "    selector.fit(X, y)\n",
    "    return X[X.columns[selector.get_support(indices=True)]]"
   ]
  },
  {
   "cell_type": "code",
   "execution_count": 490,
   "metadata": {},
   "outputs": [],
   "source": [
    "features_selected_train = information_selector(X_train, y_train, mutual_info_regression, k=26)\n"
   ]
  },
  {
   "cell_type": "code",
   "execution_count": 491,
   "metadata": {},
   "outputs": [],
   "source": [
    "linreg = LinearRegression()\n",
    "fitting_model = linreg.fit(features_selected_train, y_train)\n",
    "\n",
    "y_hat = linreg.predict(features_selected_train)"
   ]
  },
  {
   "cell_type": "code",
   "execution_count": 492,
   "metadata": {},
   "outputs": [],
   "source": [
    "SS_Residual = np.sum((y_train-y_hat)**2)\n",
    "SS_Total = np.sum((y_train-np.mean(y_train))**2)\n",
    "r_squared = 1 - (float(SS_Residual))/SS_Total\n",
    "adjusted_r_squared = 1 - (1-r_squared)*(len(y_train)-1)/(len(y_train)-features_selected_train.shape[1]-1)\n"
   ]
  },
  {
   "cell_type": "code",
   "execution_count": 493,
   "metadata": {},
   "outputs": [
    {
     "data": {
      "text/plain": [
       "0.7499578419529913"
      ]
     },
     "execution_count": 493,
     "metadata": {},
     "output_type": "execute_result"
    }
   ],
   "source": [
    "r_squared"
   ]
  },
  {
   "cell_type": "code",
   "execution_count": 494,
   "metadata": {},
   "outputs": [
    {
     "data": {
      "text/plain": [
       "0.7472019724704893"
      ]
     },
     "execution_count": 494,
     "metadata": {},
     "output_type": "execute_result"
    }
   ],
   "source": [
    "adjusted_r_squared"
   ]
  },
  {
   "cell_type": "code",
   "execution_count": 495,
   "metadata": {},
   "outputs": [
    {
     "name": "stdout",
     "output_type": "stream",
     "text": [
      "Train Mean Squarred Error: 0.2498547428713924\n"
     ]
    }
   ],
   "source": [
    "train_mse_filter = mean_squared_error(y_train, y_hat)\n",
    "\n",
    "print('Train Mean Squarred Error:', train_mse_filter)"
   ]
  },
  {
   "cell_type": "code",
   "execution_count": 496,
   "metadata": {},
   "outputs": [],
   "source": [
    "# Here, we got pretty close to some pretty good metrics. This is the highest RMSE we've seen, but\n",
    "# our original model still has the highest r-sq and adj. r-sq values. \n",
    "\n",
    "# After toggling our k-value a bit, we found that k=26 gave us the best results."
   ]
  },
  {
   "cell_type": "markdown",
   "metadata": {},
   "source": [
    "## Creating Interact and Polynomial Terms"
   ]
  },
  {
   "cell_type": "code",
   "execution_count": null,
   "metadata": {},
   "outputs": [],
   "source": [
    "# maybe, depending on how our regression looks"
   ]
  },
  {
   "cell_type": "markdown",
   "metadata": {},
   "source": [
    "# Final Thoughts"
   ]
  },
  {
   "cell_type": "code",
   "execution_count": null,
   "metadata": {},
   "outputs": [],
   "source": []
  }
 ],
 "metadata": {
  "kernelspec": {
   "display_name": "Python 3",
   "language": "python",
   "name": "python3"
  },
  "language_info": {
   "codemirror_mode": {
    "name": "ipython",
    "version": 3
   },
   "file_extension": ".py",
   "mimetype": "text/x-python",
   "name": "python",
   "nbconvert_exporter": "python",
   "pygments_lexer": "ipython3",
   "version": "3.6.5"
  }
 },
 "nbformat": 4,
 "nbformat_minor": 2
}
